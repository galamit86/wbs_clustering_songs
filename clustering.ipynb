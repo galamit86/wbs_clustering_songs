{
 "cells": [
  {
   "cell_type": "markdown",
   "id": "reported-serve",
   "metadata": {},
   "source": [
    "# Clustering songs using K-Means Clustering"
   ]
  },
  {
   "cell_type": "markdown",
   "id": "upset-wealth",
   "metadata": {},
   "source": [
    "This notebook uses K-Means clustering to cluster songs from spotify based on their achoustic properties. The original data set comes from [this kaggle repo](https://www.kaggle.com/yamaerenay/spotify-dataset-19212020-160k-tracks).\n",
    "\n",
    "The purpose of this notebook is to show a real world example of using K-Means clustering on a dataset. This being an example notebook, the focus is on displaying some techniques and ways of thinking - rather than getting a great result. The results should serve as a starting point for anyone going through this notebook - feel encouraged to come up with ideas on how to improve them - and experiemnt!\n",
    "\n",
    "**Within that scope, the declared purpose of this notebook is cluster songs, with the aim of getting clusters that closely match those of \"musical genres\".**\n",
    "\n",
    "The indirect purpose of the notebook, and the more relevant one, "
   ]
  },
  {
   "cell_type": "code",
   "execution_count": 2,
   "id": "illegal-liverpool",
   "metadata": {},
   "outputs": [],
   "source": [
    "# Importing libraries\n",
    "import pandas as pd\n",
    "import numpy as np\n",
    "import matplotlib.pyplot as plt\n",
    "import altair as alt\n",
    "from sklearn.metrics import silhouette_score\n",
    "from sklearn.cluster import MiniBatchKMeans\n",
    "from sklearn.preprocessing import StandardScaler"
   ]
  },
  {
   "cell_type": "code",
   "execution_count": 3,
   "id": "demographic-hierarchy",
   "metadata": {},
   "outputs": [],
   "source": [
    "# Setting random state for reproduciability\n",
    "RANDOM_STATE = 42"
   ]
  },
  {
   "cell_type": "code",
   "execution_count": 4,
   "id": "boxed-circular",
   "metadata": {},
   "outputs": [],
   "source": [
    "# Read in the data\n",
    "df = pd.read_csv(\"./data/raw/tracks.csv\")"
   ]
  },
  {
   "cell_type": "markdown",
   "id": "moderate-american",
   "metadata": {},
   "source": [
    "## Glancing at the dataset\n",
    "Before diving into the clustering, it's always a good idea to take a look at the dataset."
   ]
  },
  {
   "cell_type": "code",
   "execution_count": 5,
   "id": "czech-interview",
   "metadata": {
    "tags": []
   },
   "outputs": [
    {
     "data": {
      "text/html": [
       "<div>\n",
       "<style scoped>\n",
       "    .dataframe tbody tr th:only-of-type {\n",
       "        vertical-align: middle;\n",
       "    }\n",
       "\n",
       "    .dataframe tbody tr th {\n",
       "        vertical-align: top;\n",
       "    }\n",
       "\n",
       "    .dataframe thead th {\n",
       "        text-align: right;\n",
       "    }\n",
       "</style>\n",
       "<table border=\"1\" class=\"dataframe\">\n",
       "  <thead>\n",
       "    <tr style=\"text-align: right;\">\n",
       "      <th></th>\n",
       "      <th>id</th>\n",
       "      <th>name</th>\n",
       "      <th>popularity</th>\n",
       "      <th>duration_ms</th>\n",
       "      <th>explicit</th>\n",
       "      <th>artists</th>\n",
       "      <th>id_artists</th>\n",
       "      <th>release_date</th>\n",
       "      <th>danceability</th>\n",
       "      <th>energy</th>\n",
       "      <th>key</th>\n",
       "      <th>loudness</th>\n",
       "      <th>mode</th>\n",
       "      <th>speechiness</th>\n",
       "      <th>acousticness</th>\n",
       "      <th>instrumentalness</th>\n",
       "      <th>liveness</th>\n",
       "      <th>valence</th>\n",
       "      <th>tempo</th>\n",
       "      <th>time_signature</th>\n",
       "    </tr>\n",
       "  </thead>\n",
       "  <tbody>\n",
       "    <tr>\n",
       "      <th>0</th>\n",
       "      <td>35iwgR4jXetI318WEWsa1Q</td>\n",
       "      <td>Carve</td>\n",
       "      <td>6</td>\n",
       "      <td>126903</td>\n",
       "      <td>0</td>\n",
       "      <td>['Uli']</td>\n",
       "      <td>['45tIt06XoI0Iio4LBEVpls']</td>\n",
       "      <td>1922-02-22</td>\n",
       "      <td>0.645</td>\n",
       "      <td>0.4450</td>\n",
       "      <td>0</td>\n",
       "      <td>-13.338</td>\n",
       "      <td>1</td>\n",
       "      <td>0.4510</td>\n",
       "      <td>0.674</td>\n",
       "      <td>0.7440</td>\n",
       "      <td>0.151</td>\n",
       "      <td>0.127</td>\n",
       "      <td>104.851</td>\n",
       "      <td>3</td>\n",
       "    </tr>\n",
       "    <tr>\n",
       "      <th>1</th>\n",
       "      <td>021ht4sdgPcrDgSk7JTbKY</td>\n",
       "      <td>Capítulo 2.16 - Banquero Anarquista</td>\n",
       "      <td>0</td>\n",
       "      <td>98200</td>\n",
       "      <td>0</td>\n",
       "      <td>['Fernando Pessoa']</td>\n",
       "      <td>['14jtPCOoNZwquk5wd9DxrY']</td>\n",
       "      <td>1922-06-01</td>\n",
       "      <td>0.695</td>\n",
       "      <td>0.2630</td>\n",
       "      <td>0</td>\n",
       "      <td>-22.136</td>\n",
       "      <td>1</td>\n",
       "      <td>0.9570</td>\n",
       "      <td>0.797</td>\n",
       "      <td>0.0000</td>\n",
       "      <td>0.148</td>\n",
       "      <td>0.655</td>\n",
       "      <td>102.009</td>\n",
       "      <td>1</td>\n",
       "    </tr>\n",
       "    <tr>\n",
       "      <th>2</th>\n",
       "      <td>07A5yehtSnoedViJAZkNnc</td>\n",
       "      <td>Vivo para Quererte - Remasterizado</td>\n",
       "      <td>0</td>\n",
       "      <td>181640</td>\n",
       "      <td>0</td>\n",
       "      <td>['Ignacio Corsini']</td>\n",
       "      <td>['5LiOoJbxVSAMkBS2fUm3X2']</td>\n",
       "      <td>1922-03-21</td>\n",
       "      <td>0.434</td>\n",
       "      <td>0.1770</td>\n",
       "      <td>1</td>\n",
       "      <td>-21.180</td>\n",
       "      <td>1</td>\n",
       "      <td>0.0512</td>\n",
       "      <td>0.994</td>\n",
       "      <td>0.0218</td>\n",
       "      <td>0.212</td>\n",
       "      <td>0.457</td>\n",
       "      <td>130.418</td>\n",
       "      <td>5</td>\n",
       "    </tr>\n",
       "    <tr>\n",
       "      <th>3</th>\n",
       "      <td>08FmqUhxtyLTn6pAh6bk45</td>\n",
       "      <td>El Prisionero - Remasterizado</td>\n",
       "      <td>0</td>\n",
       "      <td>176907</td>\n",
       "      <td>0</td>\n",
       "      <td>['Ignacio Corsini']</td>\n",
       "      <td>['5LiOoJbxVSAMkBS2fUm3X2']</td>\n",
       "      <td>1922-03-21</td>\n",
       "      <td>0.321</td>\n",
       "      <td>0.0946</td>\n",
       "      <td>7</td>\n",
       "      <td>-27.961</td>\n",
       "      <td>1</td>\n",
       "      <td>0.0504</td>\n",
       "      <td>0.995</td>\n",
       "      <td>0.9180</td>\n",
       "      <td>0.104</td>\n",
       "      <td>0.397</td>\n",
       "      <td>169.980</td>\n",
       "      <td>3</td>\n",
       "    </tr>\n",
       "    <tr>\n",
       "      <th>4</th>\n",
       "      <td>08y9GfoqCWfOGsKdwojr5e</td>\n",
       "      <td>Lady of the Evening</td>\n",
       "      <td>0</td>\n",
       "      <td>163080</td>\n",
       "      <td>0</td>\n",
       "      <td>['Dick Haymes']</td>\n",
       "      <td>['3BiJGZsyX9sJchTqcSA7Su']</td>\n",
       "      <td>1922</td>\n",
       "      <td>0.402</td>\n",
       "      <td>0.1580</td>\n",
       "      <td>3</td>\n",
       "      <td>-16.900</td>\n",
       "      <td>0</td>\n",
       "      <td>0.0390</td>\n",
       "      <td>0.989</td>\n",
       "      <td>0.1300</td>\n",
       "      <td>0.311</td>\n",
       "      <td>0.196</td>\n",
       "      <td>103.220</td>\n",
       "      <td>4</td>\n",
       "    </tr>\n",
       "  </tbody>\n",
       "</table>\n",
       "</div>"
      ],
      "text/plain": [
       "                       id                                 name  popularity  \\\n",
       "0  35iwgR4jXetI318WEWsa1Q                                Carve           6   \n",
       "1  021ht4sdgPcrDgSk7JTbKY  Capítulo 2.16 - Banquero Anarquista           0   \n",
       "2  07A5yehtSnoedViJAZkNnc   Vivo para Quererte - Remasterizado           0   \n",
       "3  08FmqUhxtyLTn6pAh6bk45        El Prisionero - Remasterizado           0   \n",
       "4  08y9GfoqCWfOGsKdwojr5e                  Lady of the Evening           0   \n",
       "\n",
       "   duration_ms  explicit              artists                  id_artists  \\\n",
       "0       126903         0              ['Uli']  ['45tIt06XoI0Iio4LBEVpls']   \n",
       "1        98200         0  ['Fernando Pessoa']  ['14jtPCOoNZwquk5wd9DxrY']   \n",
       "2       181640         0  ['Ignacio Corsini']  ['5LiOoJbxVSAMkBS2fUm3X2']   \n",
       "3       176907         0  ['Ignacio Corsini']  ['5LiOoJbxVSAMkBS2fUm3X2']   \n",
       "4       163080         0      ['Dick Haymes']  ['3BiJGZsyX9sJchTqcSA7Su']   \n",
       "\n",
       "  release_date  danceability  energy  key  loudness  mode  speechiness  \\\n",
       "0   1922-02-22         0.645  0.4450    0   -13.338     1       0.4510   \n",
       "1   1922-06-01         0.695  0.2630    0   -22.136     1       0.9570   \n",
       "2   1922-03-21         0.434  0.1770    1   -21.180     1       0.0512   \n",
       "3   1922-03-21         0.321  0.0946    7   -27.961     1       0.0504   \n",
       "4         1922         0.402  0.1580    3   -16.900     0       0.0390   \n",
       "\n",
       "   acousticness  instrumentalness  liveness  valence    tempo  time_signature  \n",
       "0         0.674            0.7440     0.151    0.127  104.851               3  \n",
       "1         0.797            0.0000     0.148    0.655  102.009               1  \n",
       "2         0.994            0.0218     0.212    0.457  130.418               5  \n",
       "3         0.995            0.9180     0.104    0.397  169.980               3  \n",
       "4         0.989            0.1300     0.311    0.196  103.220               4  "
      ]
     },
     "execution_count": 5,
     "metadata": {},
     "output_type": "execute_result"
    }
   ],
   "source": [
    "df.head()"
   ]
  },
  {
   "cell_type": "code",
   "execution_count": 6,
   "id": "aware-internet",
   "metadata": {
    "tags": []
   },
   "outputs": [
    {
     "data": {
      "text/html": [
       "<div>\n",
       "<style scoped>\n",
       "    .dataframe tbody tr th:only-of-type {\n",
       "        vertical-align: middle;\n",
       "    }\n",
       "\n",
       "    .dataframe tbody tr th {\n",
       "        vertical-align: top;\n",
       "    }\n",
       "\n",
       "    .dataframe thead th {\n",
       "        text-align: right;\n",
       "    }\n",
       "</style>\n",
       "<table border=\"1\" class=\"dataframe\">\n",
       "  <thead>\n",
       "    <tr style=\"text-align: right;\">\n",
       "      <th></th>\n",
       "      <th>popularity</th>\n",
       "      <th>duration_ms</th>\n",
       "      <th>explicit</th>\n",
       "      <th>danceability</th>\n",
       "      <th>energy</th>\n",
       "      <th>key</th>\n",
       "      <th>loudness</th>\n",
       "      <th>mode</th>\n",
       "      <th>speechiness</th>\n",
       "      <th>acousticness</th>\n",
       "      <th>instrumentalness</th>\n",
       "      <th>liveness</th>\n",
       "      <th>valence</th>\n",
       "      <th>tempo</th>\n",
       "      <th>time_signature</th>\n",
       "    </tr>\n",
       "  </thead>\n",
       "  <tbody>\n",
       "    <tr>\n",
       "      <th>count</th>\n",
       "      <td>586672.000000</td>\n",
       "      <td>5.866720e+05</td>\n",
       "      <td>586672.000000</td>\n",
       "      <td>586672.000000</td>\n",
       "      <td>586672.000000</td>\n",
       "      <td>586672.000000</td>\n",
       "      <td>586672.000000</td>\n",
       "      <td>586672.000000</td>\n",
       "      <td>586672.000000</td>\n",
       "      <td>586672.000000</td>\n",
       "      <td>586672.000000</td>\n",
       "      <td>586672.000000</td>\n",
       "      <td>586672.000000</td>\n",
       "      <td>586672.000000</td>\n",
       "      <td>586672.000000</td>\n",
       "    </tr>\n",
       "    <tr>\n",
       "      <th>mean</th>\n",
       "      <td>27.570053</td>\n",
       "      <td>2.300512e+05</td>\n",
       "      <td>0.044086</td>\n",
       "      <td>0.563594</td>\n",
       "      <td>0.542036</td>\n",
       "      <td>5.221603</td>\n",
       "      <td>-10.206067</td>\n",
       "      <td>0.658797</td>\n",
       "      <td>0.104864</td>\n",
       "      <td>0.449863</td>\n",
       "      <td>0.113451</td>\n",
       "      <td>0.213935</td>\n",
       "      <td>0.552292</td>\n",
       "      <td>118.464857</td>\n",
       "      <td>3.873382</td>\n",
       "    </tr>\n",
       "    <tr>\n",
       "      <th>std</th>\n",
       "      <td>18.370642</td>\n",
       "      <td>1.265261e+05</td>\n",
       "      <td>0.205286</td>\n",
       "      <td>0.166103</td>\n",
       "      <td>0.251923</td>\n",
       "      <td>3.519423</td>\n",
       "      <td>5.089328</td>\n",
       "      <td>0.474114</td>\n",
       "      <td>0.179893</td>\n",
       "      <td>0.348837</td>\n",
       "      <td>0.266868</td>\n",
       "      <td>0.184326</td>\n",
       "      <td>0.257671</td>\n",
       "      <td>29.764108</td>\n",
       "      <td>0.473162</td>\n",
       "    </tr>\n",
       "    <tr>\n",
       "      <th>min</th>\n",
       "      <td>0.000000</td>\n",
       "      <td>3.344000e+03</td>\n",
       "      <td>0.000000</td>\n",
       "      <td>0.000000</td>\n",
       "      <td>0.000000</td>\n",
       "      <td>0.000000</td>\n",
       "      <td>-60.000000</td>\n",
       "      <td>0.000000</td>\n",
       "      <td>0.000000</td>\n",
       "      <td>0.000000</td>\n",
       "      <td>0.000000</td>\n",
       "      <td>0.000000</td>\n",
       "      <td>0.000000</td>\n",
       "      <td>0.000000</td>\n",
       "      <td>0.000000</td>\n",
       "    </tr>\n",
       "    <tr>\n",
       "      <th>25%</th>\n",
       "      <td>13.000000</td>\n",
       "      <td>1.750930e+05</td>\n",
       "      <td>0.000000</td>\n",
       "      <td>0.453000</td>\n",
       "      <td>0.343000</td>\n",
       "      <td>2.000000</td>\n",
       "      <td>-12.891000</td>\n",
       "      <td>0.000000</td>\n",
       "      <td>0.034000</td>\n",
       "      <td>0.096900</td>\n",
       "      <td>0.000000</td>\n",
       "      <td>0.098300</td>\n",
       "      <td>0.346000</td>\n",
       "      <td>95.600000</td>\n",
       "      <td>4.000000</td>\n",
       "    </tr>\n",
       "    <tr>\n",
       "      <th>50%</th>\n",
       "      <td>27.000000</td>\n",
       "      <td>2.148930e+05</td>\n",
       "      <td>0.000000</td>\n",
       "      <td>0.577000</td>\n",
       "      <td>0.549000</td>\n",
       "      <td>5.000000</td>\n",
       "      <td>-9.243000</td>\n",
       "      <td>1.000000</td>\n",
       "      <td>0.044300</td>\n",
       "      <td>0.422000</td>\n",
       "      <td>0.000024</td>\n",
       "      <td>0.139000</td>\n",
       "      <td>0.564000</td>\n",
       "      <td>117.384000</td>\n",
       "      <td>4.000000</td>\n",
       "    </tr>\n",
       "    <tr>\n",
       "      <th>75%</th>\n",
       "      <td>41.000000</td>\n",
       "      <td>2.638670e+05</td>\n",
       "      <td>0.000000</td>\n",
       "      <td>0.686000</td>\n",
       "      <td>0.748000</td>\n",
       "      <td>8.000000</td>\n",
       "      <td>-6.482000</td>\n",
       "      <td>1.000000</td>\n",
       "      <td>0.076300</td>\n",
       "      <td>0.785000</td>\n",
       "      <td>0.009550</td>\n",
       "      <td>0.278000</td>\n",
       "      <td>0.769000</td>\n",
       "      <td>136.321000</td>\n",
       "      <td>4.000000</td>\n",
       "    </tr>\n",
       "    <tr>\n",
       "      <th>max</th>\n",
       "      <td>100.000000</td>\n",
       "      <td>5.621218e+06</td>\n",
       "      <td>1.000000</td>\n",
       "      <td>0.991000</td>\n",
       "      <td>1.000000</td>\n",
       "      <td>11.000000</td>\n",
       "      <td>5.376000</td>\n",
       "      <td>1.000000</td>\n",
       "      <td>0.971000</td>\n",
       "      <td>0.996000</td>\n",
       "      <td>1.000000</td>\n",
       "      <td>1.000000</td>\n",
       "      <td>1.000000</td>\n",
       "      <td>246.381000</td>\n",
       "      <td>5.000000</td>\n",
       "    </tr>\n",
       "  </tbody>\n",
       "</table>\n",
       "</div>"
      ],
      "text/plain": [
       "          popularity   duration_ms       explicit   danceability  \\\n",
       "count  586672.000000  5.866720e+05  586672.000000  586672.000000   \n",
       "mean       27.570053  2.300512e+05       0.044086       0.563594   \n",
       "std        18.370642  1.265261e+05       0.205286       0.166103   \n",
       "min         0.000000  3.344000e+03       0.000000       0.000000   \n",
       "25%        13.000000  1.750930e+05       0.000000       0.453000   \n",
       "50%        27.000000  2.148930e+05       0.000000       0.577000   \n",
       "75%        41.000000  2.638670e+05       0.000000       0.686000   \n",
       "max       100.000000  5.621218e+06       1.000000       0.991000   \n",
       "\n",
       "              energy            key       loudness           mode  \\\n",
       "count  586672.000000  586672.000000  586672.000000  586672.000000   \n",
       "mean        0.542036       5.221603     -10.206067       0.658797   \n",
       "std         0.251923       3.519423       5.089328       0.474114   \n",
       "min         0.000000       0.000000     -60.000000       0.000000   \n",
       "25%         0.343000       2.000000     -12.891000       0.000000   \n",
       "50%         0.549000       5.000000      -9.243000       1.000000   \n",
       "75%         0.748000       8.000000      -6.482000       1.000000   \n",
       "max         1.000000      11.000000       5.376000       1.000000   \n",
       "\n",
       "         speechiness   acousticness  instrumentalness       liveness  \\\n",
       "count  586672.000000  586672.000000     586672.000000  586672.000000   \n",
       "mean        0.104864       0.449863          0.113451       0.213935   \n",
       "std         0.179893       0.348837          0.266868       0.184326   \n",
       "min         0.000000       0.000000          0.000000       0.000000   \n",
       "25%         0.034000       0.096900          0.000000       0.098300   \n",
       "50%         0.044300       0.422000          0.000024       0.139000   \n",
       "75%         0.076300       0.785000          0.009550       0.278000   \n",
       "max         0.971000       0.996000          1.000000       1.000000   \n",
       "\n",
       "             valence          tempo  time_signature  \n",
       "count  586672.000000  586672.000000   586672.000000  \n",
       "mean        0.552292     118.464857        3.873382  \n",
       "std         0.257671      29.764108        0.473162  \n",
       "min         0.000000       0.000000        0.000000  \n",
       "25%         0.346000      95.600000        4.000000  \n",
       "50%         0.564000     117.384000        4.000000  \n",
       "75%         0.769000     136.321000        4.000000  \n",
       "max         1.000000     246.381000        5.000000  "
      ]
     },
     "execution_count": 6,
     "metadata": {},
     "output_type": "execute_result"
    }
   ],
   "source": [
    "df.describe()"
   ]
  },
  {
   "cell_type": "code",
   "execution_count": 7,
   "id": "mechanical-attempt",
   "metadata": {},
   "outputs": [
    {
     "data": {
      "text/plain": [
       "id                   object\n",
       "name                 object\n",
       "popularity            int64\n",
       "duration_ms           int64\n",
       "explicit              int64\n",
       "artists              object\n",
       "id_artists           object\n",
       "release_date         object\n",
       "danceability        float64\n",
       "energy              float64\n",
       "key                   int64\n",
       "loudness            float64\n",
       "mode                  int64\n",
       "speechiness         float64\n",
       "acousticness        float64\n",
       "instrumentalness    float64\n",
       "liveness            float64\n",
       "valence             float64\n",
       "tempo               float64\n",
       "time_signature        int64\n",
       "dtype: object"
      ]
     },
     "execution_count": 7,
     "metadata": {},
     "output_type": "execute_result"
    }
   ],
   "source": [
    "df.dtypes"
   ]
  },
  {
   "cell_type": "markdown",
   "id": "sought-watts",
   "metadata": {},
   "source": [
    "* Nominal data (e.g. artists)\n",
    "* Binary data (e.g. explicit)\n",
    "* Different scales (e.g. loudness)"
   ]
  },
  {
   "cell_type": "markdown",
   "id": "applied-translation",
   "metadata": {},
   "source": [
    "_________\n",
    "## Sampling\n",
    "To run things faster, we'll be taking a random sample of the dataset: randomally picking 20% of it.\n",
    "\n",
    "Feel free to later rerun this notebook without this sampling, and compare the results. Think about if and how you expect the results to change, and which paramters you might alter in the process accordingly."
   ]
  },
  {
   "cell_type": "code",
   "execution_count": 8,
   "id": "tough-second",
   "metadata": {},
   "outputs": [],
   "source": [
    "df_sample = df.sample(frac=0.2, random_state=RANDOM_STATE)"
   ]
  },
  {
   "cell_type": "code",
   "execution_count": 9,
   "id": "pressing-discount",
   "metadata": {},
   "outputs": [
    {
     "data": {
      "text/plain": [
       "(117334, 20)"
      ]
     },
     "execution_count": 9,
     "metadata": {},
     "output_type": "execute_result"
    }
   ],
   "source": [
    "df_sample.shape"
   ]
  },
  {
   "cell_type": "markdown",
   "id": "southeast-stanford",
   "metadata": {},
   "source": [
    "__________\n",
    "### Feature Selection\n",
    "Feature selection is a crucial part of the pipeline. How do we decide which data stays in and which does not?\n",
    "\n",
    "The reasons could come from at leaset the following two aspects:\n",
    "* Data type: Kmeans deals with eucleadian distance, and so it is best suited for continous numerical data.\n",
    "* Meaning: In this specfic case, we have some information about what we are looking for - some proxy for genres. So we might make a judgement call that 'release_date' should be excluded, reasoning that it is not a good proxy.\n",
    "\n",
    "In this case, simply keeping float type data, gives us a good place to start, and seems to leave us with information regarding the song's achoustic properties only.\n",
    "\n",
    "More details about the features can be found here: https://developer.spotify.com/documentation/web-api/reference/#object-audiofeaturesobject"
   ]
  },
  {
   "cell_type": "code",
   "execution_count": 10,
   "id": "intended-mississippi",
   "metadata": {},
   "outputs": [
    {
     "data": {
      "text/html": [
       "<div>\n",
       "<style scoped>\n",
       "    .dataframe tbody tr th:only-of-type {\n",
       "        vertical-align: middle;\n",
       "    }\n",
       "\n",
       "    .dataframe tbody tr th {\n",
       "        vertical-align: top;\n",
       "    }\n",
       "\n",
       "    .dataframe thead th {\n",
       "        text-align: right;\n",
       "    }\n",
       "</style>\n",
       "<table border=\"1\" class=\"dataframe\">\n",
       "  <thead>\n",
       "    <tr style=\"text-align: right;\">\n",
       "      <th></th>\n",
       "      <th>danceability</th>\n",
       "      <th>energy</th>\n",
       "      <th>loudness</th>\n",
       "      <th>speechiness</th>\n",
       "      <th>acousticness</th>\n",
       "      <th>instrumentalness</th>\n",
       "      <th>liveness</th>\n",
       "      <th>valence</th>\n",
       "      <th>tempo</th>\n",
       "    </tr>\n",
       "  </thead>\n",
       "  <tbody>\n",
       "    <tr>\n",
       "      <th>241517</th>\n",
       "      <td>0.890</td>\n",
       "      <td>0.6680</td>\n",
       "      <td>-10.044</td>\n",
       "      <td>0.0533</td>\n",
       "      <td>0.570</td>\n",
       "      <td>0.000002</td>\n",
       "      <td>0.0591</td>\n",
       "      <td>0.942</td>\n",
       "      <td>137.934</td>\n",
       "    </tr>\n",
       "    <tr>\n",
       "      <th>444213</th>\n",
       "      <td>0.663</td>\n",
       "      <td>0.5510</td>\n",
       "      <td>-6.445</td>\n",
       "      <td>0.0280</td>\n",
       "      <td>0.697</td>\n",
       "      <td>0.000000</td>\n",
       "      <td>0.1800</td>\n",
       "      <td>0.339</td>\n",
       "      <td>128.992</td>\n",
       "    </tr>\n",
       "    <tr>\n",
       "      <th>106480</th>\n",
       "      <td>0.376</td>\n",
       "      <td>0.0979</td>\n",
       "      <td>-18.280</td>\n",
       "      <td>0.0350</td>\n",
       "      <td>0.485</td>\n",
       "      <td>0.000577</td>\n",
       "      <td>0.1150</td>\n",
       "      <td>0.236</td>\n",
       "      <td>90.290</td>\n",
       "    </tr>\n",
       "    <tr>\n",
       "      <th>141137</th>\n",
       "      <td>0.565</td>\n",
       "      <td>0.3270</td>\n",
       "      <td>-13.843</td>\n",
       "      <td>0.0295</td>\n",
       "      <td>0.781</td>\n",
       "      <td>0.000011</td>\n",
       "      <td>0.1310</td>\n",
       "      <td>0.556</td>\n",
       "      <td>103.256</td>\n",
       "    </tr>\n",
       "    <tr>\n",
       "      <th>586550</th>\n",
       "      <td>0.582</td>\n",
       "      <td>0.9790</td>\n",
       "      <td>-2.492</td>\n",
       "      <td>0.0714</td>\n",
       "      <td>0.125</td>\n",
       "      <td>0.001520</td>\n",
       "      <td>0.3390</td>\n",
       "      <td>0.196</td>\n",
       "      <td>128.010</td>\n",
       "    </tr>\n",
       "  </tbody>\n",
       "</table>\n",
       "</div>"
      ],
      "text/plain": [
       "        danceability  energy  loudness  speechiness  acousticness  \\\n",
       "241517         0.890  0.6680   -10.044       0.0533         0.570   \n",
       "444213         0.663  0.5510    -6.445       0.0280         0.697   \n",
       "106480         0.376  0.0979   -18.280       0.0350         0.485   \n",
       "141137         0.565  0.3270   -13.843       0.0295         0.781   \n",
       "586550         0.582  0.9790    -2.492       0.0714         0.125   \n",
       "\n",
       "        instrumentalness  liveness  valence    tempo  \n",
       "241517          0.000002    0.0591    0.942  137.934  \n",
       "444213          0.000000    0.1800    0.339  128.992  \n",
       "106480          0.000577    0.1150    0.236   90.290  \n",
       "141137          0.000011    0.1310    0.556  103.256  \n",
       "586550          0.001520    0.3390    0.196  128.010  "
      ]
     },
     "execution_count": 10,
     "metadata": {},
     "output_type": "execute_result"
    }
   ],
   "source": [
    "# Take only float data\n",
    "X = df_sample.select_dtypes(\"float\")\n",
    "X.head()"
   ]
  },
  {
   "cell_type": "markdown",
   "id": "basic-angel",
   "metadata": {},
   "source": [
    "______\n",
    "### Preprocessing\n",
    "It's important to to normalize our features - so that a feature with a larger scale - such as \"loudness\", would not overweigh a smaller scale feature, such as \"energy\". That is easily achieved using one of scikit learn's Scalers - here we use StandardScaler, and its results are neatly visisble below, where all min values are 0 and mac values are 1. Note that for K-Means clustering, the type of scaler is not crucial - StandardScaler would have done the same job, in a different way."
   ]
  },
  {
   "cell_type": "code",
   "execution_count": 11,
   "id": "assured-product",
   "metadata": {},
   "outputs": [
    {
     "data": {
      "text/html": [
       "<div>\n",
       "<style scoped>\n",
       "    .dataframe tbody tr th:only-of-type {\n",
       "        vertical-align: middle;\n",
       "    }\n",
       "\n",
       "    .dataframe tbody tr th {\n",
       "        vertical-align: top;\n",
       "    }\n",
       "\n",
       "    .dataframe thead th {\n",
       "        text-align: right;\n",
       "    }\n",
       "</style>\n",
       "<table border=\"1\" class=\"dataframe\">\n",
       "  <thead>\n",
       "    <tr style=\"text-align: right;\">\n",
       "      <th></th>\n",
       "      <th>danceability</th>\n",
       "      <th>energy</th>\n",
       "      <th>loudness</th>\n",
       "      <th>speechiness</th>\n",
       "      <th>acousticness</th>\n",
       "      <th>instrumentalness</th>\n",
       "      <th>liveness</th>\n",
       "      <th>valence</th>\n",
       "      <th>tempo</th>\n",
       "    </tr>\n",
       "  </thead>\n",
       "  <tbody>\n",
       "    <tr>\n",
       "      <th>count</th>\n",
       "      <td>1.173340e+05</td>\n",
       "      <td>1.173340e+05</td>\n",
       "      <td>1.173340e+05</td>\n",
       "      <td>1.173340e+05</td>\n",
       "      <td>1.173340e+05</td>\n",
       "      <td>1.173340e+05</td>\n",
       "      <td>1.173340e+05</td>\n",
       "      <td>1.173340e+05</td>\n",
       "      <td>1.173340e+05</td>\n",
       "    </tr>\n",
       "    <tr>\n",
       "      <th>mean</th>\n",
       "      <td>-5.886773e-16</td>\n",
       "      <td>1.842152e-16</td>\n",
       "      <td>-4.893028e-16</td>\n",
       "      <td>-5.577325e-17</td>\n",
       "      <td>-1.343160e-16</td>\n",
       "      <td>-4.305622e-17</td>\n",
       "      <td>2.149178e-16</td>\n",
       "      <td>8.163121e-17</td>\n",
       "      <td>1.620815e-16</td>\n",
       "    </tr>\n",
       "    <tr>\n",
       "      <th>std</th>\n",
       "      <td>1.000004e+00</td>\n",
       "      <td>1.000004e+00</td>\n",
       "      <td>1.000004e+00</td>\n",
       "      <td>1.000004e+00</td>\n",
       "      <td>1.000004e+00</td>\n",
       "      <td>1.000004e+00</td>\n",
       "      <td>1.000004e+00</td>\n",
       "      <td>1.000004e+00</td>\n",
       "      <td>1.000004e+00</td>\n",
       "    </tr>\n",
       "    <tr>\n",
       "      <th>min</th>\n",
       "      <td>-3.389332e+00</td>\n",
       "      <td>-2.153287e+00</td>\n",
       "      <td>-9.781128e+00</td>\n",
       "      <td>-5.839615e-01</td>\n",
       "      <td>-1.287502e+00</td>\n",
       "      <td>-4.253720e-01</td>\n",
       "      <td>-1.162025e+00</td>\n",
       "      <td>-2.142795e+00</td>\n",
       "      <td>-3.977413e+00</td>\n",
       "    </tr>\n",
       "    <tr>\n",
       "      <th>25%</th>\n",
       "      <td>-6.695375e-01</td>\n",
       "      <td>-7.841742e-01</td>\n",
       "      <td>-5.281120e-01</td>\n",
       "      <td>-3.931844e-01</td>\n",
       "      <td>-1.013340e+00</td>\n",
       "      <td>-4.253720e-01</td>\n",
       "      <td>-6.269882e-01</td>\n",
       "      <td>-8.001625e-01</td>\n",
       "      <td>-7.687073e-01</td>\n",
       "    </tr>\n",
       "    <tr>\n",
       "      <th>50%</th>\n",
       "      <td>8.261816e-02</td>\n",
       "      <td>2.538850e-02</td>\n",
       "      <td>1.907901e-01</td>\n",
       "      <td>-3.353902e-01</td>\n",
       "      <td>-7.728823e-02</td>\n",
       "      <td>-4.252796e-01</td>\n",
       "      <td>-4.101403e-01</td>\n",
       "      <td>4.577338e-02</td>\n",
       "      <td>-3.473200e-02</td>\n",
       "    </tr>\n",
       "    <tr>\n",
       "      <th>75%</th>\n",
       "      <td>7.384979e-01</td>\n",
       "      <td>8.151089e-01</td>\n",
       "      <td>7.311451e-01</td>\n",
       "      <td>-1.580797e-01</td>\n",
       "      <td>9.579895e-01</td>\n",
       "      <td>-3.905678e-01</td>\n",
       "      <td>3.471927e-01</td>\n",
       "      <td>8.412636e-01</td>\n",
       "      <td>6.031982e-01</td>\n",
       "    </tr>\n",
       "    <tr>\n",
       "      <th>max</th>\n",
       "      <td>2.555706e+00</td>\n",
       "      <td>1.815157e+00</td>\n",
       "      <td>2.904547e+00</td>\n",
       "      <td>4.864407e+00</td>\n",
       "      <td>1.568832e+00</td>\n",
       "      <td>3.329129e+00</td>\n",
       "      <td>4.275517e+00</td>\n",
       "      <td>1.737645e+00</td>\n",
       "      <td>4.287936e+00</td>\n",
       "    </tr>\n",
       "  </tbody>\n",
       "</table>\n",
       "</div>"
      ],
      "text/plain": [
       "       danceability        energy      loudness   speechiness  acousticness  \\\n",
       "count  1.173340e+05  1.173340e+05  1.173340e+05  1.173340e+05  1.173340e+05   \n",
       "mean  -5.886773e-16  1.842152e-16 -4.893028e-16 -5.577325e-17 -1.343160e-16   \n",
       "std    1.000004e+00  1.000004e+00  1.000004e+00  1.000004e+00  1.000004e+00   \n",
       "min   -3.389332e+00 -2.153287e+00 -9.781128e+00 -5.839615e-01 -1.287502e+00   \n",
       "25%   -6.695375e-01 -7.841742e-01 -5.281120e-01 -3.931844e-01 -1.013340e+00   \n",
       "50%    8.261816e-02  2.538850e-02  1.907901e-01 -3.353902e-01 -7.728823e-02   \n",
       "75%    7.384979e-01  8.151089e-01  7.311451e-01 -1.580797e-01  9.579895e-01   \n",
       "max    2.555706e+00  1.815157e+00  2.904547e+00  4.864407e+00  1.568832e+00   \n",
       "\n",
       "       instrumentalness      liveness       valence         tempo  \n",
       "count      1.173340e+05  1.173340e+05  1.173340e+05  1.173340e+05  \n",
       "mean      -4.305622e-17  2.149178e-16  8.163121e-17  1.620815e-16  \n",
       "std        1.000004e+00  1.000004e+00  1.000004e+00  1.000004e+00  \n",
       "min       -4.253720e-01 -1.162025e+00 -2.142795e+00 -3.977413e+00  \n",
       "25%       -4.253720e-01 -6.269882e-01 -8.001625e-01 -7.687073e-01  \n",
       "50%       -4.252796e-01 -4.101403e-01  4.577338e-02 -3.473200e-02  \n",
       "75%       -3.905678e-01  3.471927e-01  8.412636e-01  6.031982e-01  \n",
       "max        3.329129e+00  4.275517e+00  1.737645e+00  4.287936e+00  "
      ]
     },
     "execution_count": 11,
     "metadata": {},
     "output_type": "execute_result"
    }
   ],
   "source": [
    "# Scale the data\n",
    "scaler = StandardScaler()\n",
    "X_scaled = scaler.fit_transform(X)\n",
    "pd.DataFrame(X_scaled, columns=X.columns).describe()"
   ]
  },
  {
   "cell_type": "markdown",
   "id": "african-copying",
   "metadata": {},
   "source": [
    "____\n",
    "## Selecting the number of clusters\n",
    "Selecting the amount of clusters is the most crucial decision you make when working with a K-Means clustering algorithm. Therefore, we want to make an informed decision (as far as possible). Again, a combination of \"real world knowledge\" and statistics is best.\n",
    "\n",
    "\"The real world\", means you might have some apriori knowledge about the what these clusters might represent. In our case we'd like them to match song genres, which means we can expect K as being anywehere between 10 and 50.\n",
    "\n",
    "However, that's already a large range, as we want to pick just a single K. Additionaly, this being **unsupervised ML** - we often have no real idea what we might be searching for. To assist our decision, what we actually do is iterate on a range of K's, and compare some metric to help us decide.\n",
    "\n",
    "One way to go about it is called the \"Elbow Method\". That means we plot that metric against K, and look for the \"knee\" of that graph - we'll see that below in a bit.\n",
    "\n",
    "So what should that metric be? There are a couple of options, and we will go with the simplest one - \"inertia\". If you recall, inertia is what the K-Means algorithm aims to minimize, and in simple terms it demonstrates how \"grouped\" (or \"coherent\") a cluster is.\n",
    "\n",
    "More sophisticated selections methods could be using the \"Silhouette score\" or the \"Calinski Harabasz Score\" (go ahead and google it if you're curious!)\n",
    "\n",
    "See sklearn's documentation about [clustering evaluation.](https://scikit-learn.org/stable/modules/clustering.html#clustering-evaluation)\n",
    "\n",
    "### The elbow method\n",
    "The elbow method is a simple way to visualize where our gain from adding clusters stops becoming significant. Generally, more clusters mean a more complicated model, and we should always strive for simplicity if we can."
   ]
  },
  {
   "cell_type": "markdown",
   "id": "taken-duration",
   "metadata": {},
   "source": [
    "**NOTE** - we use `MiniBatchKMeans` here, and not the standard `KMeans` - once again, this saves us time for large datasets, with relatively low risk. See [this](https://scikit-learn.org/stable/auto_examples/cluster/plot_mini_batch_kmeans.html) for a comparison of the two."
   ]
  },
  {
   "cell_type": "code",
   "execution_count": 12,
   "id": "exclusive-quebec",
   "metadata": {},
   "outputs": [],
   "source": [
    "# We fit the model on the data using multiple K's, and store the inertia from each fitting.\n",
    "inertias = [] \n",
    "K = range(1, 50)\n",
    "for k in K:\n",
    "    kmeans = MiniBatchKMeans(n_clusters=k, random_state=RANDOM_STATE).fit(X_scaled)\n",
    "    inertias.append(kmeans.inertia_)"
   ]
  },
  {
   "cell_type": "code",
   "execution_count": 13,
   "id": "serious-spring",
   "metadata": {},
   "outputs": [
    {
     "data": {
      "text/plain": [
       "Text(0.5, 1.0, 'Inertia Elbow Method')"
      ]
     },
     "execution_count": 13,
     "metadata": {},
     "output_type": "execute_result"
    },
    {
     "data": {
      "image/png": "[encoded data removed]",
      "text/plain": [
       "<Figure size 1296x864 with 1 Axes>"
      ]
     },
     "metadata": {
      "needs_background": "light"
     },
     "output_type": "display_data"
    }
   ],
   "source": [
    "fig = plt.figure(figsize=(18,12))\n",
    "plt.plot(K, inertias, 'bx-')\n",
    "plt.xlabel(\"K values\")\n",
    "plt.ylabel(\"Inertia\")\n",
    "plt.title(\"Inertia Elbow Method\")"
   ]
  },
  {
   "cell_type": "markdown",
   "id": "virtual-webster",
   "metadata": {},
   "source": [
    "Judging where the \"elbow\" is isn't entirely objective, and in reality you should experiment with a range of values also when moving forward.\n",
    "\n",
    "For our purposes, let's go ahead with K=15."
   ]
  },
  {
   "cell_type": "markdown",
   "id": "centered-community",
   "metadata": {},
   "source": [
    "_______\n",
    "### Clusteirng to 15 clusters"
   ]
  },
  {
   "cell_type": "code",
   "execution_count": 14,
   "id": "funny-comedy",
   "metadata": {},
   "outputs": [],
   "source": [
    "N_CLUSTERS = 15"
   ]
  },
  {
   "cell_type": "code",
   "execution_count": 15,
   "id": "practical-boards",
   "metadata": {},
   "outputs": [],
   "source": [
    "kmeans = MiniBatchKMeans(n_clusters=N_CLUSTERS, random_state=RANDOM_STATE).fit(X_scaled)"
   ]
  },
  {
   "cell_type": "code",
   "execution_count": 16,
   "id": "fallen-access",
   "metadata": {},
   "outputs": [],
   "source": [
    "clusters = kmeans.predict(X_scaled)\n",
    "#This is similar to running clusters=kmeans.labels_ -> Can you see why?"
   ]
  },
  {
   "cell_type": "markdown",
   "id": "honest-interview",
   "metadata": {},
   "source": [
    "____\n",
    "### Measuring performance\n",
    "\n",
    "* Model evalaution\n",
    "* Create our own metric"
   ]
  },
  {
   "cell_type": "markdown",
   "id": "essential-buffer",
   "metadata": {},
   "source": [
    "### Model evaluation"
   ]
  },
  {
   "cell_type": "markdown",
   "id": "judicial-roman",
   "metadata": {},
   "source": [
    "One way to evaluate the results, is by scoring the model itself - are actually getting what we expect to get from the algorithm - namely, separated, clustered groups?\n",
    "\n",
    "There are various ways to do that, and we go for Inertia (remeber what inertia is?) and add the Silhouette score, as it has the following advantages in describing the results:\n",
    "\n",
    "* The score is bounded between -1 for incorrect clustering and +1 for highly dense clustering. Scores around zero indicate overlapping clusters.\n",
    "* The score is higher when clusters are dense and well separated, which relates to a standard concept of a cluster. [(source)](https://scikit-learn.org/stable/modules/clustering.html#silhouette-coefficient)\n",
    "\n",
    "You can find [different evaluation metrics here](https://scikit-learn.org/stable/modules/clustering.html#clustering-performance-evaluation)"
   ]
  },
  {
   "cell_type": "code",
   "execution_count": 17,
   "id": "circular-remainder",
   "metadata": {},
   "outputs": [],
   "source": [
    "inertia = kmeans.inertia_"
   ]
  },
  {
   "cell_type": "code",
   "execution_count": 18,
   "id": "synthetic-clearing",
   "metadata": {},
   "outputs": [],
   "source": [
    "s_score = silhouette_score(X_scaled, clusters)"
   ]
  },
  {
   "cell_type": "code",
   "execution_count": 31,
   "id": "specialized-weekend",
   "metadata": {},
   "outputs": [
    {
     "name": "stdout",
     "output_type": "stream",
     "text": [
      "Inertia score:    381528.990\n",
      "Silhouette score: 0.142\n"
     ]
    }
   ],
   "source": [
    "print(f\"Inertia score:    {inertia:.3f}\")\n",
    "print(f\"Silhouette score: {s_score:.3f}\")"
   ]
  },
  {
   "cell_type": "markdown",
   "id": "occupied-imaging",
   "metadata": {},
   "source": [
    "Note that while the silhouette score does give some objective information about how good the model behaves, the inertia score is only a comparative measure for more iterations - it is sensitive to the scale of the paramters, how many dimensions are there, how large the dataset is, etc. "
   ]
  },
  {
   "cell_type": "markdown",
   "id": "supported-maldives",
   "metadata": {},
   "source": [
    "### Creating our own metric\n",
    "\n",
    "Note how the inertia and silhouette score only provides information about how \"neat\" the clusters are. But not much information about what they mean. An ideal case would be if we would have truth labels to compare to. In this case we might turn to other data in the kaggle dataset that **does** contain the genres - and compare it to that.\n",
    "\n",
    "But let's try to be creative with this dataset, and work our own metric."
   ]
  },
  {
   "cell_type": "code",
   "execution_count": 20,
   "id": "palestinian-melbourne",
   "metadata": {},
   "outputs": [],
   "source": [
    "df_sample[\"cluster\"] = clusters"
   ]
  },
  {
   "cell_type": "code",
   "execution_count": 21,
   "id": "august-remainder",
   "metadata": {
    "tags": []
   },
   "outputs": [
    {
     "data": {
      "text/html": [
       "<div>\n",
       "<style scoped>\n",
       "    .dataframe tbody tr th:only-of-type {\n",
       "        vertical-align: middle;\n",
       "    }\n",
       "\n",
       "    .dataframe tbody tr th {\n",
       "        vertical-align: top;\n",
       "    }\n",
       "\n",
       "    .dataframe thead th {\n",
       "        text-align: right;\n",
       "    }\n",
       "</style>\n",
       "<table border=\"1\" class=\"dataframe\">\n",
       "  <thead>\n",
       "    <tr style=\"text-align: right;\">\n",
       "      <th></th>\n",
       "      <th>id</th>\n",
       "      <th>name</th>\n",
       "      <th>popularity</th>\n",
       "      <th>duration_ms</th>\n",
       "      <th>explicit</th>\n",
       "      <th>artists</th>\n",
       "      <th>id_artists</th>\n",
       "      <th>release_date</th>\n",
       "      <th>danceability</th>\n",
       "      <th>energy</th>\n",
       "      <th>...</th>\n",
       "      <th>loudness</th>\n",
       "      <th>mode</th>\n",
       "      <th>speechiness</th>\n",
       "      <th>acousticness</th>\n",
       "      <th>instrumentalness</th>\n",
       "      <th>liveness</th>\n",
       "      <th>valence</th>\n",
       "      <th>tempo</th>\n",
       "      <th>time_signature</th>\n",
       "      <th>cluster</th>\n",
       "    </tr>\n",
       "  </thead>\n",
       "  <tbody>\n",
       "    <tr>\n",
       "      <th>241517</th>\n",
       "      <td>0rTUAMd7huYjda84aceuzl</td>\n",
       "      <td>Дети проходных дворов</td>\n",
       "      <td>21</td>\n",
       "      <td>105015</td>\n",
       "      <td>0</td>\n",
       "      <td>['Kino']</td>\n",
       "      <td>['2jkl2xJVm71azWAgZKyf42']</td>\n",
       "      <td>1985-01-01</td>\n",
       "      <td>0.890</td>\n",
       "      <td>0.6680</td>\n",
       "      <td>...</td>\n",
       "      <td>-10.044</td>\n",
       "      <td>0</td>\n",
       "      <td>0.0533</td>\n",
       "      <td>0.570</td>\n",
       "      <td>0.000002</td>\n",
       "      <td>0.0591</td>\n",
       "      <td>0.942</td>\n",
       "      <td>137.934</td>\n",
       "      <td>4</td>\n",
       "      <td>13</td>\n",
       "    </tr>\n",
       "    <tr>\n",
       "      <th>444213</th>\n",
       "      <td>4bMy8NjgkVHize43OSrChu</td>\n",
       "      <td>95</td>\n",
       "      <td>37</td>\n",
       "      <td>234800</td>\n",
       "      <td>0</td>\n",
       "      <td>['Picture This']</td>\n",
       "      <td>['7jLSEPYCYQ5ssWU3BICqrW']</td>\n",
       "      <td>2017-08-25</td>\n",
       "      <td>0.663</td>\n",
       "      <td>0.5510</td>\n",
       "      <td>...</td>\n",
       "      <td>-6.445</td>\n",
       "      <td>1</td>\n",
       "      <td>0.0280</td>\n",
       "      <td>0.697</td>\n",
       "      <td>0.000000</td>\n",
       "      <td>0.1800</td>\n",
       "      <td>0.339</td>\n",
       "      <td>128.992</td>\n",
       "      <td>4</td>\n",
       "      <td>8</td>\n",
       "    </tr>\n",
       "    <tr>\n",
       "      <th>106480</th>\n",
       "      <td>4X1xn2bjxlaLbx6o3jSEXj</td>\n",
       "      <td>As almal ver is</td>\n",
       "      <td>10</td>\n",
       "      <td>147733</td>\n",
       "      <td>0</td>\n",
       "      <td>['Koos Du Plessis']</td>\n",
       "      <td>['4utxbudXUuseiCfVJ0B2xM']</td>\n",
       "      <td>1992</td>\n",
       "      <td>0.376</td>\n",
       "      <td>0.0979</td>\n",
       "      <td>...</td>\n",
       "      <td>-18.280</td>\n",
       "      <td>1</td>\n",
       "      <td>0.0350</td>\n",
       "      <td>0.485</td>\n",
       "      <td>0.000577</td>\n",
       "      <td>0.1150</td>\n",
       "      <td>0.236</td>\n",
       "      <td>90.290</td>\n",
       "      <td>3</td>\n",
       "      <td>2</td>\n",
       "    </tr>\n",
       "    <tr>\n",
       "      <th>141137</th>\n",
       "      <td>3ZwzDf7V1xlAS9WWuviqIm</td>\n",
       "      <td>Il tuo mondo (Nono, dobri moj nono)</td>\n",
       "      <td>29</td>\n",
       "      <td>194373</td>\n",
       "      <td>0</td>\n",
       "      <td>['Claudio Villa']</td>\n",
       "      <td>['2r4iOKmxTQU9s361Yt3gq1']</td>\n",
       "      <td>1969</td>\n",
       "      <td>0.565</td>\n",
       "      <td>0.3270</td>\n",
       "      <td>...</td>\n",
       "      <td>-13.843</td>\n",
       "      <td>1</td>\n",
       "      <td>0.0295</td>\n",
       "      <td>0.781</td>\n",
       "      <td>0.000011</td>\n",
       "      <td>0.1310</td>\n",
       "      <td>0.556</td>\n",
       "      <td>103.256</td>\n",
       "      <td>3</td>\n",
       "      <td>3</td>\n",
       "    </tr>\n",
       "    <tr>\n",
       "      <th>586550</th>\n",
       "      <td>712Hktc9DnU5u9uOSn1q1Y</td>\n",
       "      <td>Bazaar - Official Sunburn Goa 2015 Anthem</td>\n",
       "      <td>55</td>\n",
       "      <td>172500</td>\n",
       "      <td>0</td>\n",
       "      <td>['KSHMR', 'Marnik']</td>\n",
       "      <td>['2wX6xSig4Rig5kZU6ePlWe', '6S3KljEiIOWoLMUyZr...</td>\n",
       "      <td>2015-12-25</td>\n",
       "      <td>0.582</td>\n",
       "      <td>0.9790</td>\n",
       "      <td>...</td>\n",
       "      <td>-2.492</td>\n",
       "      <td>0</td>\n",
       "      <td>0.0714</td>\n",
       "      <td>0.125</td>\n",
       "      <td>0.001520</td>\n",
       "      <td>0.3390</td>\n",
       "      <td>0.196</td>\n",
       "      <td>128.010</td>\n",
       "      <td>4</td>\n",
       "      <td>1</td>\n",
       "    </tr>\n",
       "  </tbody>\n",
       "</table>\n",
       "<p>5 rows × 21 columns</p>\n",
       "</div>"
      ],
      "text/plain": [
       "                            id                                       name  \\\n",
       "241517  0rTUAMd7huYjda84aceuzl                      Дети проходных дворов   \n",
       "444213  4bMy8NjgkVHize43OSrChu                                         95   \n",
       "106480  4X1xn2bjxlaLbx6o3jSEXj                            As almal ver is   \n",
       "141137  3ZwzDf7V1xlAS9WWuviqIm        Il tuo mondo (Nono, dobri moj nono)   \n",
       "586550  712Hktc9DnU5u9uOSn1q1Y  Bazaar - Official Sunburn Goa 2015 Anthem   \n",
       "\n",
       "        popularity  duration_ms  explicit              artists  \\\n",
       "241517          21       105015         0             ['Kino']   \n",
       "444213          37       234800         0     ['Picture This']   \n",
       "106480          10       147733         0  ['Koos Du Plessis']   \n",
       "141137          29       194373         0    ['Claudio Villa']   \n",
       "586550          55       172500         0  ['KSHMR', 'Marnik']   \n",
       "\n",
       "                                               id_artists release_date  \\\n",
       "241517                         ['2jkl2xJVm71azWAgZKyf42']   1985-01-01   \n",
       "444213                         ['7jLSEPYCYQ5ssWU3BICqrW']   2017-08-25   \n",
       "106480                         ['4utxbudXUuseiCfVJ0B2xM']         1992   \n",
       "141137                         ['2r4iOKmxTQU9s361Yt3gq1']         1969   \n",
       "586550  ['2wX6xSig4Rig5kZU6ePlWe', '6S3KljEiIOWoLMUyZr...   2015-12-25   \n",
       "\n",
       "        danceability  energy  ...  loudness  mode  speechiness  acousticness  \\\n",
       "241517         0.890  0.6680  ...   -10.044     0       0.0533         0.570   \n",
       "444213         0.663  0.5510  ...    -6.445     1       0.0280         0.697   \n",
       "106480         0.376  0.0979  ...   -18.280     1       0.0350         0.485   \n",
       "141137         0.565  0.3270  ...   -13.843     1       0.0295         0.781   \n",
       "586550         0.582  0.9790  ...    -2.492     0       0.0714         0.125   \n",
       "\n",
       "        instrumentalness  liveness  valence    tempo  time_signature  cluster  \n",
       "241517          0.000002    0.0591    0.942  137.934               4       13  \n",
       "444213          0.000000    0.1800    0.339  128.992               4        8  \n",
       "106480          0.000577    0.1150    0.236   90.290               3        2  \n",
       "141137          0.000011    0.1310    0.556  103.256               3        3  \n",
       "586550          0.001520    0.3390    0.196  128.010               4        1  \n",
       "\n",
       "[5 rows x 21 columns]"
      ]
     },
     "execution_count": 21,
     "metadata": {},
     "output_type": "execute_result"
    }
   ],
   "source": [
    "df_sample.head()"
   ]
  },
  {
   "cell_type": "markdown",
   "id": "laughing-ground",
   "metadata": {},
   "source": [
    "Adding the outputted labels (=clusters) of each song back to the original df, allows us to consider the following: if this **is** a genre proxy, what do we expect of it?\n",
    "\n",
    "Well, for one thing, we might expect a single artist to create, for the most part, the same type of genre-songs.\n",
    "\n",
    "Let's group by artits, then, and count the number of unique clusters each artist contains. Finally, we'll use that `n_clusters` feature as our metric - we'd like it to be as close to 1 as possible."
   ]
  },
  {
   "cell_type": "code",
   "execution_count": 22,
   "id": "false-price",
   "metadata": {},
   "outputs": [],
   "source": [
    "gp = df_sample.groupby(\"artists\").agg({\"id\": \"count\", \"cluster\": \"nunique\"}).reset_index()\n",
    "gp = gp.rename(columns={\"cluster\": \"n_clusters\", \"id\": \"n_songs\"})"
   ]
  },
  {
   "cell_type": "code",
   "execution_count": 23,
   "id": "seasonal-match",
   "metadata": {},
   "outputs": [],
   "source": [
    "score, std = gp.n_clusters.mean(), gp.n_clusters.std()"
   ]
  },
  {
   "cell_type": "code",
   "execution_count": null,
   "id": "nearby-jaguar",
   "metadata": {},
   "outputs": [],
   "source": [
    "print(f\"n_clusters score:     {score:2f}\")\n",
    "print(f\"n_clusters score std: {std:2f}\")"
   ]
  },
  {
   "cell_type": "markdown",
   "id": "improved-amber",
   "metadata": {},
   "source": [
    "**Hey, that's pretty good!**"
   ]
  },
  {
   "cell_type": "markdown",
   "id": "precise-sacrifice",
   "metadata": {},
   "source": [
    ".\n"
   ]
  },
  {
   "cell_type": "markdown",
   "id": "happy-generation",
   "metadata": {},
   "source": [
    "."
   ]
  },
  {
   "cell_type": "markdown",
   "id": "deadly-creek",
   "metadata": {},
   "source": [
    "hmmm...."
   ]
  },
  {
   "cell_type": "markdown",
   "id": "comparative-alexandria",
   "metadata": {},
   "source": [
    "."
   ]
  },
  {
   "cell_type": "markdown",
   "id": "synthetic-luxembourg",
   "metadata": {},
   "source": [
    "."
   ]
  },
  {
   "cell_type": "code",
   "execution_count": 25,
   "id": "liquid-fountain",
   "metadata": {
    "jupyter": {
     "source_hidden": true
    },
    "tags": []
   },
   "outputs": [
    {
     "data": {
      "text/html": [
       "<img src=\"https://i.redd.it/ftgwjwxhlpz01.jpg\"/>"
      ],
      "text/plain": [
       "<IPython.core.display.Image object>"
      ]
     },
     "execution_count": 25,
     "metadata": {},
     "output_type": "execute_result"
    }
   ],
   "source": [
    "from IPython.display import Image\n",
    "from IPython.core.display import HTML \n",
    "Image(url=\"https://i.redd.it/ftgwjwxhlpz01.jpg\")"
   ]
  },
  {
   "cell_type": "markdown",
   "id": "congressional-concrete",
   "metadata": {},
   "source": [
    "Let's take a look at our grouped dataset. Notice that `n_clusters=1` seems to be go hand in hand with `n_songs=1`."
   ]
  },
  {
   "cell_type": "code",
   "execution_count": 26,
   "id": "blessed-sound",
   "metadata": {},
   "outputs": [
    {
     "data": {
      "text/html": [
       "<div>\n",
       "<style scoped>\n",
       "    .dataframe tbody tr th:only-of-type {\n",
       "        vertical-align: middle;\n",
       "    }\n",
       "\n",
       "    .dataframe tbody tr th {\n",
       "        vertical-align: top;\n",
       "    }\n",
       "\n",
       "    .dataframe thead th {\n",
       "        text-align: right;\n",
       "    }\n",
       "</style>\n",
       "<table border=\"1\" class=\"dataframe\">\n",
       "  <thead>\n",
       "    <tr style=\"text-align: right;\">\n",
       "      <th></th>\n",
       "      <th>artists</th>\n",
       "      <th>n_songs</th>\n",
       "      <th>n_clusters</th>\n",
       "    </tr>\n",
       "  </thead>\n",
       "  <tbody>\n",
       "    <tr>\n",
       "      <th>0</th>\n",
       "      <td>[\"'In The Heights' Original Broadway Company\",...</td>\n",
       "      <td>1</td>\n",
       "      <td>1</td>\n",
       "    </tr>\n",
       "    <tr>\n",
       "      <th>26313</th>\n",
       "      <td>['Miliyah', 'Wakadanna']</td>\n",
       "      <td>1</td>\n",
       "      <td>1</td>\n",
       "    </tr>\n",
       "    <tr>\n",
       "      <th>26312</th>\n",
       "      <td>['Militärmusik Tirol']</td>\n",
       "      <td>1</td>\n",
       "      <td>1</td>\n",
       "    </tr>\n",
       "    <tr>\n",
       "      <th>26310</th>\n",
       "      <td>['Milion Plus', 'Yzomandias', 'Hasan', 'Nik Te...</td>\n",
       "      <td>1</td>\n",
       "      <td>1</td>\n",
       "    </tr>\n",
       "    <tr>\n",
       "      <th>26309</th>\n",
       "      <td>['Milion Plus', 'Nik Tendo', 'Kamil Hoffmann',...</td>\n",
       "      <td>1</td>\n",
       "      <td>1</td>\n",
       "    </tr>\n",
       "    <tr>\n",
       "      <th>26308</th>\n",
       "      <td>['Milind Ingle']</td>\n",
       "      <td>1</td>\n",
       "      <td>1</td>\n",
       "    </tr>\n",
       "    <tr>\n",
       "      <th>26307</th>\n",
       "      <td>['Miligram', 'Aden Ademovic']</td>\n",
       "      <td>1</td>\n",
       "      <td>1</td>\n",
       "    </tr>\n",
       "    <tr>\n",
       "      <th>26306</th>\n",
       "      <td>['Milica Todorovic', 'MC Yankoo']</td>\n",
       "      <td>1</td>\n",
       "      <td>1</td>\n",
       "    </tr>\n",
       "    <tr>\n",
       "      <th>26305</th>\n",
       "      <td>['Mili']</td>\n",
       "      <td>2</td>\n",
       "      <td>1</td>\n",
       "    </tr>\n",
       "    <tr>\n",
       "      <th>26303</th>\n",
       "      <td>['Miley Cyrus', 'Stevie Nicks']</td>\n",
       "      <td>1</td>\n",
       "      <td>1</td>\n",
       "    </tr>\n",
       "  </tbody>\n",
       "</table>\n",
       "</div>"
      ],
      "text/plain": [
       "                                                 artists  n_songs  n_clusters\n",
       "0      [\"'In The Heights' Original Broadway Company\",...        1           1\n",
       "26313                           ['Miliyah', 'Wakadanna']        1           1\n",
       "26312                             ['Militärmusik Tirol']        1           1\n",
       "26310  ['Milion Plus', 'Yzomandias', 'Hasan', 'Nik Te...        1           1\n",
       "26309  ['Milion Plus', 'Nik Tendo', 'Kamil Hoffmann',...        1           1\n",
       "26308                                   ['Milind Ingle']        1           1\n",
       "26307                      ['Miligram', 'Aden Ademovic']        1           1\n",
       "26306                  ['Milica Todorovic', 'MC Yankoo']        1           1\n",
       "26305                                           ['Mili']        2           1\n",
       "26303                    ['Miley Cyrus', 'Stevie Nicks']        1           1"
      ]
     },
     "execution_count": 26,
     "metadata": {},
     "output_type": "execute_result"
    }
   ],
   "source": [
    "gp.sort_values(\"n_clusters\").head(10)"
   ]
  },
  {
   "cell_type": "markdown",
   "id": "upper-dutch",
   "metadata": {},
   "source": [
    "Not only that, but more then half of the artists only have a single song - and therfore a single cluster."
   ]
  },
  {
   "cell_type": "code",
   "execution_count": 27,
   "id": "union-merchant",
   "metadata": {},
   "outputs": [
    {
     "name": "stdout",
     "output_type": "stream",
     "text": [
      "Ratio of single-hit wonders: 0.64\n"
     ]
    }
   ],
   "source": [
    "print(f'Ratio of single-hit wonders: {round(gp[gp[\"n_songs\"]==1][\"n_songs\"].count() / gp.shape[0], 2)}')"
   ]
  },
  {
   "cell_type": "markdown",
   "id": "third-launch",
   "metadata": {},
   "source": [
    "So, let's take only artists with at least 10 songs, and recalcluate:"
   ]
  },
  {
   "cell_type": "code",
   "execution_count": 29,
   "id": "surface-search",
   "metadata": {},
   "outputs": [
    {
     "name": "stdout",
     "output_type": "stream",
     "text": [
      "n_clusters score:     5.851628\n",
      "n_clusters score std: 2.139309\n"
     ]
    }
   ],
   "source": [
    "gp = gp[gp[\"n_songs\"]>10]\n",
    "score, std = gp.n_clusters.mean(), gp.n_clusters.std()\n",
    "print(f\"n_clusters score:     {score:2f}\")\n",
    "print(f\"n_clusters score std: {std:2f}\")"
   ]
  },
  {
   "cell_type": "markdown",
   "id": "dramatic-flooring",
   "metadata": {},
   "source": [
    "Not as good - but that makes sense, considering our silhouette score - still room to improve."
   ]
  },
  {
   "cell_type": "markdown",
   "id": "promotional-ministry",
   "metadata": {},
   "source": [
    "To make things more visual, we can plot the distribution of `n_clusters`.\n",
    "\n",
    "Here we are using the excellent [Altair](https://altair-viz.github.io/index.html) library - which is a visualization library for declarative visualization, using a \"grammar of graphics\" syntax."
   ]
  },
  {
   "cell_type": "code",
   "execution_count": 360,
   "id": "electrical-melissa",
   "metadata": {},
   "outputs": [
    {
     "data": {
      "text/html": [
       "\n",
       "<div id=\"altair-viz-65a99477ce8246fdb58b7b213101e971\"></div>\n",
       "<script type=\"text/javascript\">\n",
       "  (function(spec, embedOpt){\n",
       "    let outputDiv = document.currentScript.previousElementSibling;\n",
       "    if (outputDiv.id !== \"altair-viz-65a99477ce8246fdb58b7b213101e971\") {\n",
       "      outputDiv = document.getElementById(\"altair-viz-65a99477ce8246fdb58b7b213101e971\");\n",
       "    }\n",
       "    const paths = {\n",
       "      \"vega\": \"https://cdn.jsdelivr.net/npm//vega@5?noext\",\n",
       "      \"vega-lib\": \"https://cdn.jsdelivr.net/npm//vega-lib?noext\",\n",
       "      \"vega-lite\": \"https://cdn.jsdelivr.net/npm//vega-lite@4.8.1?noext\",\n",
       "      \"vega-embed\": \"https://cdn.jsdelivr.net/npm//vega-embed@6?noext\",\n",
       "    };\n",
       "\n",
       "    function loadScript(lib) {\n",
       "      return new Promise(function(resolve, reject) {\n",
       "        var s = document.createElement('script');\n",
       "        s.src = paths[lib];\n",
       "        s.async = true;\n",
       "        s.onload = () => resolve(paths[lib]);\n",
       "        s.onerror = () => reject(`Error loading script: ${paths[lib]}`);\n",
       "        document.getElementsByTagName(\"head\")[0].appendChild(s);\n",
       "      });\n",
       "    }\n",
       "\n",
       "    function showError(err) {\n",
       "      outputDiv.innerHTML = `<div class=\"error\" style=\"color:red;\">${err}</div>`;\n",
       "      throw err;\n",
       "    }\n",
       "\n",
       "    function displayChart(vegaEmbed) {\n",
       "      vegaEmbed(outputDiv, spec, embedOpt)\n",
       "        .catch(err => showError(`Javascript Error: ${err.message}<br>This usually means there's a typo in your chart specification. See the javascript console for the full traceback.`));\n",
       "    }\n",
       "\n",
       "    if(typeof define === \"function\" && define.amd) {\n",
       "      requirejs.config({paths});\n",
       "      require([\"vega-embed\"], displayChart, err => showError(`Error loading script: ${err.message}`));\n",
       "    } else if (typeof vegaEmbed === \"function\") {\n",
       "      displayChart(vegaEmbed);\n",
       "    } else {\n",
       "      loadScript(\"vega\")\n",
       "        .then(() => loadScript(\"vega-lite\"))\n",
       "        .then(() => loadScript(\"vega-embed\"))\n",
       "        .catch(showError)\n",
       "        .then(() => displayChart(vegaEmbed));\n",
       "    }\n",
       "  })({\"config\": {\"view\": {\"continuousWidth\": 400, \"continuousHeight\": 300}}, \"data\": {\"name\": \"data-1d3d920bfaa134e3c73cd25256e265b4\"}, \"mark\": \"bar\", \"encoding\": {\"x\": {\"type\": \"quantitative\", \"bin\": {\"step\": 1}, \"field\": \"n_clusters\"}, \"y\": {\"type\": \"quantitative\", \"aggregate\": \"count\"}}, \"$schema\": \"https://vega.github.io/schema/vega-lite/v4.8.1.json\", \"datasets\": {\"data-1d3d920bfaa134e3c73cd25256e265b4\": [{\"artists\": \"[\\\"Anita O'Day\\\"]\", \"n_songs\": 22, \"n_clusters\": 5}, {\"artists\": \"[\\\"Booker T. & the M.G.'s\\\"]\", \"n_songs\": 11, \"n_clusters\": 3}, {\"artists\": \"[\\\"Coon-Sanders' Original Nighthawk Orchestra\\\"]\", \"n_songs\": 14, \"n_clusters\": 3}, {\"artists\": \"[\\\"Dato' Sri Siti Nurhaliza\\\"]\", \"n_songs\": 20, \"n_clusters\": 8}, {\"artists\": \"[\\\"Destiny's Child\\\"]\", \"n_songs\": 13, \"n_clusters\": 5}, {\"artists\": \"[\\\"Gasolin'\\\"]\", \"n_songs\": 12, \"n_clusters\": 6}, {\"artists\": \"[\\\"Gigi D'Alessio\\\"]\", \"n_songs\": 17, \"n_clusters\": 9}, {\"artists\": \"[\\\"Gilbert O'Sullivan\\\"]\", \"n_songs\": 13, \"n_clusters\": 6}, {\"artists\": \"[\\\"Guns N' Roses\\\"]\", \"n_songs\": 28, \"n_clusters\": 8}, {\"artists\": \"[\\\"Herman's Hermits\\\"]\", \"n_songs\": 23, \"n_clusters\": 10}, {\"artists\": \"[\\\"L'Arc-en-Ciel\\\"]\", \"n_songs\": 23, \"n_clusters\": 5}, {\"artists\": \"[\\\"La K'onga\\\"]\", \"n_songs\": 11, \"n_clusters\": 5}, {\"artists\": \"[\\\"Los Byby's\\\"]\", \"n_songs\": 13, \"n_clusters\": 2}, {\"artists\": \"[\\\"Pappo's Blues\\\"]\", \"n_songs\": 12, \"n_clusters\": 6}, {\"artists\": \"[\\\"Sergio Mendes & Brasil '66\\\"]\", \"n_songs\": 11, \"n_clusters\": 4}, {\"artists\": \"[\\\"The Lovin' Spoonful\\\"]\", \"n_songs\": 12, \"n_clusters\": 8}, {\"artists\": \"['10cc']\", \"n_songs\": 13, \"n_clusters\": 7}, {\"artists\": \"['2Pac']\", \"n_songs\": 13, \"n_clusters\": 4}, {\"artists\": \"['50 Cent']\", \"n_songs\": 15, \"n_clusters\": 5}, {\"artists\": \"['883']\", \"n_songs\": 15, \"n_clusters\": 6}, {\"artists\": \"['A Tribe Called Quest']\", \"n_songs\": 13, \"n_clusters\": 5}, {\"artists\": \"['ABBA']\", \"n_songs\": 41, \"n_clusters\": 10}, {\"artists\": \"['AC/DC']\", \"n_songs\": 37, \"n_clusters\": 7}, {\"artists\": \"['APO Hiking Society']\", \"n_songs\": 13, \"n_clusters\": 6}, {\"artists\": \"['ARASHI']\", \"n_songs\": 37, \"n_clusters\": 6}, {\"artists\": \"['Abdel Halim Hafez']\", \"n_songs\": 17, \"n_clusters\": 7}, {\"artists\": \"['Abe Lyman\\u2019s Orchestra', 'Abe Lyman']\", \"n_songs\": 17, \"n_clusters\": 5}, {\"artists\": \"['Accept']\", \"n_songs\": 26, \"n_clusters\": 7}, {\"artists\": \"['Adam Gardner']\", \"n_songs\": 16, \"n_clusters\": 4}, {\"artists\": \"['Adele']\", \"n_songs\": 11, \"n_clusters\": 5}, {\"artists\": \"['Adriano Celentano']\", \"n_songs\": 20, \"n_clusters\": 7}, {\"artists\": \"['Aerosmith']\", \"n_songs\": 25, \"n_clusters\": 5}, {\"artists\": \"['Agatha Christie']\", \"n_songs\": 11, \"n_clusters\": 5}, {\"artists\": \"['Agua Marina']\", \"n_songs\": 34, \"n_clusters\": 4}, {\"artists\": \"['Ahmad Jamal Trio']\", \"n_songs\": 14, \"n_clusters\": 5}, {\"artists\": \"['Ahmad Jamal']\", \"n_songs\": 16, \"n_clusters\": 2}, {\"artists\": \"['Ahmet Kaya']\", \"n_songs\": 44, \"n_clusters\": 8}, {\"artists\": \"['Air Supply']\", \"n_songs\": 35, \"n_clusters\": 6}, {\"artists\": \"['Ajda Pekkan']\", \"n_songs\": 37, \"n_clusters\": 9}, {\"artists\": \"['Akina Nakamori']\", \"n_songs\": 16, \"n_clusters\": 8}, {\"artists\": \"['Al Green']\", \"n_songs\": 18, \"n_clusters\": 4}, {\"artists\": \"['Alabama']\", \"n_songs\": 15, \"n_clusters\": 7}, {\"artists\": \"['Alain Souchon']\", \"n_songs\": 15, \"n_clusters\": 9}, {\"artists\": \"['Alan Jackson']\", \"n_songs\": 23, \"n_clusters\": 7}, {\"artists\": \"['Alan Menken']\", \"n_songs\": 11, \"n_clusters\": 3}, {\"artists\": \"['Alan Tam']\", \"n_songs\": 54, \"n_clusters\": 8}, {\"artists\": \"['Albert King']\", \"n_songs\": 14, \"n_clusters\": 7}, {\"artists\": \"['Alceu Valen\\u00e7a']\", \"n_songs\": 23, \"n_clusters\": 7}, {\"artists\": \"['Alcione']\", \"n_songs\": 12, \"n_clusters\": 7}, {\"artists\": \"['Alejandro Fern\\u00e1ndez']\", \"n_songs\": 31, \"n_clusters\": 7}, {\"artists\": \"['Alejandro Sanz']\", \"n_songs\": 20, \"n_clusters\": 8}, {\"artists\": \"['Alexander Scriabin', 'Vladimir Horowitz']\", \"n_songs\": 19, \"n_clusters\": 2}, {\"artists\": \"['Alfons \\u00c5berg']\", \"n_songs\": 13, \"n_clusters\": 3}, {\"artists\": \"['Alfredo Zitarrosa']\", \"n_songs\": 36, \"n_clusters\": 6}, {\"artists\": \"['Alice Cooper']\", \"n_songs\": 24, \"n_clusters\": 9}, {\"artists\": \"['Alice In Chains']\", \"n_songs\": 16, \"n_clusters\": 4}, {\"artists\": \"['Alisa']\", \"n_songs\": 11, \"n_clusters\": 5}, {\"artists\": \"['Alkistis Protopsalti']\", \"n_songs\": 17, \"n_clusters\": 8}, {\"artists\": \"['Alla Pugacheva']\", \"n_songs\": 14, \"n_clusters\": 8}, {\"artists\": \"['Allman Brothers Band']\", \"n_songs\": 20, \"n_clusters\": 7}, {\"artists\": \"['Amado Batista']\", \"n_songs\": 15, \"n_clusters\": 7}, {\"artists\": \"['Amar Azul']\", \"n_songs\": 11, \"n_clusters\": 5}, {\"artists\": \"['America']\", \"n_songs\": 16, \"n_clusters\": 10}, {\"artists\": \"['Amirbai Karnataki']\", \"n_songs\": 37, \"n_clusters\": 5}, {\"artists\": \"['Am\\u00e1lia Rodrigues']\", \"n_songs\": 22, \"n_clusters\": 5}, {\"artists\": \"['Ana Gabriel']\", \"n_songs\": 21, \"n_clusters\": 7}, {\"artists\": \"['Andre Hazes']\", \"n_songs\": 37, \"n_clusters\": 6}, {\"artists\": \"['Andrew Rayel']\", \"n_songs\": 11, \"n_clusters\": 3}, {\"artists\": \"['Andr\\u00e9s Calamaro']\", \"n_songs\": 34, \"n_clusters\": 11}, {\"artists\": \"['Andy Gibb']\", \"n_songs\": 11, \"n_clusters\": 6}, {\"artists\": \"['Andy Lau']\", \"n_songs\": 25, \"n_clusters\": 8}, {\"artists\": \"['Andy Williams']\", \"n_songs\": 39, \"n_clusters\": 5}, {\"artists\": \"['Angus & Julia Stone']\", \"n_songs\": 13, \"n_clusters\": 6}, {\"artists\": \"['Anita Mui']\", \"n_songs\": 20, \"n_clusters\": 6}, {\"artists\": \"['Ann Lewis']\", \"n_songs\": 11, \"n_clusters\": 8}, {\"artists\": \"['Anna Vissi']\", \"n_songs\": 26, \"n_clusters\": 10}, {\"artists\": \"['Anne Murray']\", \"n_songs\": 11, \"n_clusters\": 5}, {\"artists\": \"['Anni Tannin Lapsilaulajat']\", \"n_songs\": 19, \"n_clusters\": 3}, {\"artists\": \"['Anri']\", \"n_songs\": 11, \"n_clusters\": 5}, {\"artists\": \"['Antonello Venditti']\", \"n_songs\": 29, \"n_clusters\": 9}, {\"artists\": \"['Antonio Aguilar']\", \"n_songs\": 41, \"n_clusters\": 7}, {\"artists\": \"['Antonis Remos']\", \"n_songs\": 20, \"n_clusters\": 7}, {\"artists\": \"['Antony Santos']\", \"n_songs\": 29, \"n_clusters\": 7}, {\"artists\": \"['Ant\\u00f4nio Carlos Jobim']\", \"n_songs\": 24, \"n_clusters\": 5}, {\"artists\": \"['Anzen Chitai']\", \"n_songs\": 11, \"n_clusters\": 7}, {\"artists\": \"['Aphex Twin']\", \"n_songs\": 17, \"n_clusters\": 3}, {\"artists\": \"['Apulanta']\", \"n_songs\": 21, \"n_clusters\": 5}, {\"artists\": \"['Aquarium']\", \"n_songs\": 14, \"n_clusters\": 9}, {\"artists\": \"['Arakain']\", \"n_songs\": 13, \"n_clusters\": 3}, {\"artists\": \"['Arctic Monkeys']\", \"n_songs\": 21, \"n_clusters\": 5}, {\"artists\": \"['Aretha Franklin']\", \"n_songs\": 51, \"n_clusters\": 11}, {\"artists\": \"['Aria']\", \"n_songs\": 19, \"n_clusters\": 5}, {\"artists\": \"['Ariana Grande']\", \"n_songs\": 19, \"n_clusters\": 7}, {\"artists\": \"['Arijit Singh']\", \"n_songs\": 13, \"n_clusters\": 5}, {\"artists\": \"['Arik Einstein']\", \"n_songs\": 16, \"n_clusters\": 8}, {\"artists\": \"['Armandinho']\", \"n_songs\": 13, \"n_clusters\": 5}, {\"artists\": \"['Armin van Buuren']\", \"n_songs\": 57, \"n_clusters\": 11}, {\"artists\": \"['Armonia 10']\", \"n_songs\": 11, \"n_clusters\": 5}, {\"artists\": \"['Art Blakey & The Jazz Messengers']\", \"n_songs\": 14, \"n_clusters\": 6}, {\"artists\": \"['Art Pepper']\", \"n_songs\": 19, \"n_clusters\": 8}, {\"artists\": \"['Arthur Conan Doyle']\", \"n_songs\": 75, \"n_clusters\": 1}, {\"artists\": \"['Asanee & Wasan']\", \"n_songs\": 18, \"n_clusters\": 9}, {\"artists\": \"['Asha Bhosle', 'Kishore Kumar']\", \"n_songs\": 11, \"n_clusters\": 3}, {\"artists\": \"['Asha Bhosle', 'Mohammed Rafi']\", \"n_songs\": 28, \"n_clusters\": 6}, {\"artists\": \"['Asha Bhosle']\", \"n_songs\": 99, \"n_clusters\": 11}, {\"artists\": \"['Asterix']\", \"n_songs\": 13, \"n_clusters\": 1}, {\"artists\": \"['Astrud Gilberto']\", \"n_songs\": 15, \"n_clusters\": 5}, {\"artists\": \"['Aterciopelados']\", \"n_songs\": 12, \"n_clusters\": 4}, {\"artists\": \"['Athena']\", \"n_songs\": 11, \"n_clusters\": 4}, {\"artists\": \"['Attaque 77']\", \"n_songs\": 11, \"n_clusters\": 3}, {\"artists\": \"['Australian Crawl']\", \"n_songs\": 11, \"n_clusters\": 6}, {\"artists\": \"['Aventura']\", \"n_songs\": 17, \"n_clusters\": 6}, {\"artists\": \"['Aviv Geffen']\", \"n_songs\": 15, \"n_clusters\": 8}, {\"artists\": \"['Avril Lavigne']\", \"n_songs\": 11, \"n_clusters\": 4}, {\"artists\": \"['Ayumi Hamasaki']\", \"n_songs\": 15, \"n_clusters\": 5}, {\"artists\": \"['Azis']\", \"n_songs\": 14, \"n_clusters\": 4}, {\"artists\": \"['A\\u015fk\\u0131n Nur Yengi']\", \"n_songs\": 13, \"n_clusters\": 7}, {\"artists\": \"['B.B. King']\", \"n_songs\": 41, \"n_clusters\": 9}, {\"artists\": \"['BIGBANG']\", \"n_songs\": 13, \"n_clusters\": 7}, {\"artists\": \"['BO\\u00d8WY']\", \"n_songs\": 24, \"n_clusters\": 6}, {\"artists\": \"['BTS']\", \"n_songs\": 42, \"n_clusters\": 8}, {\"artists\": \"['BUCK-TICK']\", \"n_songs\": 12, \"n_clusters\": 5}, {\"artists\": \"['BUMP OF CHICKEN']\", \"n_songs\": 15, \"n_clusters\": 4}, {\"artists\": \"['BZN']\", \"n_songs\": 15, \"n_clusters\": 7}, {\"artists\": \"['Babas\\u00f3nicos']\", \"n_songs\": 20, \"n_clusters\": 10}, {\"artists\": \"['Bad Boys Blue']\", \"n_songs\": 25, \"n_clusters\": 4}, {\"artists\": \"['Bad Bunny']\", \"n_songs\": 12, \"n_clusters\": 6}, {\"artists\": \"['Bad Company']\", \"n_songs\": 24, \"n_clusters\": 6}, {\"artists\": \"['Baden Powell']\", \"n_songs\": 13, \"n_clusters\": 6}, {\"artists\": \"['Bajka Muzyczna']\", \"n_songs\": 24, \"n_clusters\": 3}, {\"artists\": \"['Bamse']\", \"n_songs\": 44, \"n_clusters\": 5}, {\"artists\": \"['Bamses Venner']\", \"n_songs\": 25, \"n_clusters\": 8}, {\"artists\": \"['Banda El Recodo']\", \"n_songs\": 26, \"n_clusters\": 6}, {\"artists\": \"['Banda MS de Sergio Liz\\u00e1rraga']\", \"n_songs\": 11, \"n_clusters\": 5}, {\"artists\": \"['Banda Machos']\", \"n_songs\": 14, \"n_clusters\": 4}, {\"artists\": \"['Barbra Streisand']\", \"n_songs\": 21, \"n_clusters\": 8}, {\"artists\": \"['Barclay James Harvest']\", \"n_songs\": 12, \"n_clusters\": 7}, {\"artists\": \"['Barricada']\", \"n_songs\": 14, \"n_clusters\": 6}, {\"artists\": \"['Barry Manilow']\", \"n_songs\": 23, \"n_clusters\": 6}, {\"artists\": \"['Barry White']\", \"n_songs\": 22, \"n_clusters\": 7}, {\"artists\": \"['Bar\\u0131\\u015f Man\\u00e7o']\", \"n_songs\": 38, \"n_clusters\": 12}, {\"artists\": \"['Beastie Boys']\", \"n_songs\": 12, \"n_clusters\": 8}, {\"artists\": \"['Beatrice']\", \"n_songs\": 14, \"n_clusters\": 4}, {\"artists\": \"['Bee Gees']\", \"n_songs\": 40, \"n_clusters\": 11}, {\"artists\": \"['Belchior']\", \"n_songs\": 17, \"n_clusters\": 5}, {\"artists\": \"['Ben E. King']\", \"n_songs\": 16, \"n_clusters\": 6}, {\"artists\": \"['Benjamin Bl\\u00fcmchen']\", \"n_songs\": 300, \"n_clusters\": 4}, {\"artists\": \"['Benny Goodman']\", \"n_songs\": 14, \"n_clusters\": 6}, {\"artists\": \"['Bergen']\", \"n_songs\": 12, \"n_clusters\": 4}, {\"artists\": \"['Bernard Herrmann']\", \"n_songs\": 12, \"n_clusters\": 3}, {\"artists\": \"['Berry Sakharof']\", \"n_songs\": 13, \"n_clusters\": 7}, {\"artists\": \"['Bersuit Vergarabat']\", \"n_songs\": 16, \"n_clusters\": 7}, {\"artists\": \"['Bert Kaempfert']\", \"n_songs\": 25, \"n_clusters\": 7}, {\"artists\": \"['Bert Lown & His Orchestra', 'Bert Lown']\", \"n_songs\": 11, \"n_clusters\": 3}, {\"artists\": \"['Bessie Smith']\", \"n_songs\": 13, \"n_clusters\": 2}, {\"artists\": \"['Beth Carvalho']\", \"n_songs\": 14, \"n_clusters\": 4}, {\"artists\": \"['Beyonc\\u00e9']\", \"n_songs\": 16, \"n_clusters\": 8}, {\"artists\": \"['Beyond']\", \"n_songs\": 26, \"n_clusters\": 10}, {\"artists\": \"['Bezerra Da Silva']\", \"n_songs\": 11, \"n_clusters\": 4}, {\"artists\": \"['Bibi Blocksberg']\", \"n_songs\": 304, \"n_clusters\": 6}, {\"artists\": \"['Bibi und Tina']\", \"n_songs\": 195, \"n_clusters\": 2}, {\"artists\": \"['Bill Anderson']\", \"n_songs\": 31, \"n_clusters\": 5}, {\"artists\": \"['Bill Evans Trio']\", \"n_songs\": 25, \"n_clusters\": 3}, {\"artists\": \"['Bill Evans']\", \"n_songs\": 37, \"n_clusters\": 6}, {\"artists\": \"['Bill Haley & His Comets']\", \"n_songs\": 22, \"n_clusters\": 4}, {\"artists\": \"['Bill Withers']\", \"n_songs\": 18, \"n_clusters\": 8}, {\"artists\": \"['Billie Holiday', 'Teddy Wilson']\", \"n_songs\": 42, \"n_clusters\": 2}, {\"artists\": \"['Billie Holiday']\", \"n_songs\": 116, \"n_clusters\": 7}, {\"artists\": \"['Billy Bragg']\", \"n_songs\": 11, \"n_clusters\": 6}, {\"artists\": \"['Billy Idol']\", \"n_songs\": 16, \"n_clusters\": 7}, {\"artists\": \"['Billy Joel']\", \"n_songs\": 34, \"n_clusters\": 10}, {\"artists\": \"['Billy Vaughn']\", \"n_songs\": 19, \"n_clusters\": 4}, {\"artists\": \"['Bing Crosby']\", \"n_songs\": 15, \"n_clusters\": 5}, {\"artists\": \"['Binomio de Oro de Am\\u00e9rica']\", \"n_songs\": 14, \"n_clusters\": 5}, {\"artists\": \"['Binomio de Oro']\", \"n_songs\": 21, \"n_clusters\": 3}, {\"artists\": \"['Bird Thongchai']\", \"n_songs\": 27, \"n_clusters\": 9}, {\"artists\": \"['Bj\\u00f6rgvin Halld\\u00f3rsson']\", \"n_songs\": 17, \"n_clusters\": 6}, {\"artists\": \"['Bj\\u00f6rk']\", \"n_songs\": 13, \"n_clusters\": 5}, {\"artists\": \"['Black Eyed Peas']\", \"n_songs\": 11, \"n_clusters\": 5}, {\"artists\": \"['Black Sabbath']\", \"n_songs\": 55, \"n_clusters\": 9}, {\"artists\": \"['Blondie']\", \"n_songs\": 29, \"n_clusters\": 6}, {\"artists\": \"['Blossom Dearie']\", \"n_songs\": 14, \"n_clusters\": 3}, {\"artists\": \"['Blue \\u00d6yster Cult']\", \"n_songs\": 17, \"n_clusters\": 7}, {\"artists\": \"['Blur']\", \"n_songs\": 14, \"n_clusters\": 5}, {\"artists\": \"['Bo Kaspers Orkester']\", \"n_songs\": 13, \"n_clusters\": 7}, {\"artists\": \"['Bob Dylan']\", \"n_songs\": 95, \"n_clusters\": 12}, {\"artists\": \"['Bob Howard & His Orchestra', 'Bob Howard']\", \"n_songs\": 19, \"n_clusters\": 3}, {\"artists\": \"['Bob Marley & The Wailers']\", \"n_songs\": 59, \"n_clusters\": 8}, {\"artists\": \"['Bob Seger']\", \"n_songs\": 19, \"n_clusters\": 6}, {\"artists\": \"['Bobby Bare']\", \"n_songs\": 12, \"n_clusters\": 3}, {\"artists\": \"['Bobby Darin']\", \"n_songs\": 15, \"n_clusters\": 6}, {\"artists\": \"['Bobby Valentin']\", \"n_songs\": 14, \"n_clusters\": 3}, {\"artists\": \"['Bobby Vinton']\", \"n_songs\": 19, \"n_clusters\": 3}, {\"artists\": \"['Bon Jovi']\", \"n_songs\": 11, \"n_clusters\": 4}, {\"artists\": \"['Boney M.']\", \"n_songs\": 32, \"n_clusters\": 7}, {\"artists\": \"['Bonnie Raitt']\", \"n_songs\": 14, \"n_clusters\": 8}, {\"artists\": \"['Booba']\", \"n_songs\": 20, \"n_clusters\": 6}, {\"artists\": \"['Boudewijn de Groot']\", \"n_songs\": 15, \"n_clusters\": 8}, {\"artists\": \"['Brandy']\", \"n_songs\": 11, \"n_clusters\": 4}, {\"artists\": \"['Bread']\", \"n_songs\": 25, \"n_clusters\": 8}, {\"artists\": \"['Brenda Lee']\", \"n_songs\": 17, \"n_clusters\": 5}, {\"artists\": \"['Brian Eno']\", \"n_songs\": 22, \"n_clusters\": 9}, {\"artists\": \"['Brimkl\\u00f3']\", \"n_songs\": 12, \"n_clusters\": 5}, {\"artists\": \"['Bronco']\", \"n_songs\": 36, \"n_clusters\": 6}, {\"artists\": \"['Brook Benton']\", \"n_songs\": 11, \"n_clusters\": 3}, {\"artists\": \"['Brownie McGhee']\", \"n_songs\": 11, \"n_clusters\": 3}, {\"artists\": \"['Bruce Springsteen']\", \"n_songs\": 39, \"n_clusters\": 10}, {\"artists\": \"['Bruno & Marrone']\", \"n_songs\": 29, \"n_clusters\": 10}, {\"artists\": \"['Bruno Mars']\", \"n_songs\": 13, \"n_clusters\": 5}, {\"artists\": \"['Bryan Adams']\", \"n_songs\": 23, \"n_clusters\": 8}, {\"artists\": \"['Bubbi Morthens']\", \"n_songs\": 83, \"n_clusters\": 13}, {\"artists\": \"['Bud Powell']\", \"n_songs\": 14, \"n_clusters\": 4}, {\"artists\": \"['Buddy Holly']\", \"n_songs\": 17, \"n_clusters\": 9}, {\"artists\": \"['Buffalo Springfield']\", \"n_songs\": 11, \"n_clusters\": 6}, {\"artists\": \"['Buitres']\", \"n_songs\": 28, \"n_clusters\": 6}, {\"artists\": \"['Busted']\", \"n_songs\": 18, \"n_clusters\": 3}, {\"artists\": \"['B\\u00f6hse Onkelz']\", \"n_songs\": 32, \"n_clusters\": 7}, {\"artists\": \"['CAN']\", \"n_songs\": 17, \"n_clusters\": 5}, {\"artists\": \"['CASIOPEA']\", \"n_songs\": 15, \"n_clusters\": 3}, {\"artists\": \"['Cab Calloway']\", \"n_songs\": 13, \"n_clusters\": 6}, {\"artists\": \"['Caetano Veloso']\", \"n_songs\": 50, \"n_clusters\": 12}, {\"artists\": \"['Caf\\u00e9 Tacvba']\", \"n_songs\": 17, \"n_clusters\": 6}, {\"artists\": \"['Cal Tjader']\", \"n_songs\": 28, \"n_clusters\": 6}, {\"artists\": \"['Callejeros']\", \"n_songs\": 11, \"n_clusters\": 4}, {\"artists\": \"['Camel']\", \"n_songs\": 17, \"n_clusters\": 7}, {\"artists\": \"['Camela']\", \"n_songs\": 17, \"n_clusters\": 4}, {\"artists\": \"['Camilo Sesto']\", \"n_songs\": 35, \"n_clusters\": 7}, {\"artists\": \"['Candy Lo']\", \"n_songs\": 11, \"n_clusters\": 5}, {\"artists\": \"['Canned Heat']\", \"n_songs\": 13, \"n_clusters\": 6}, {\"artists\": \"['Carlos Gardel']\", \"n_songs\": 21, \"n_clusters\": 3}, {\"artists\": \"['Carlos Ramos']\", \"n_songs\": 11, \"n_clusters\": 2}, {\"artists\": \"['Carlos Vives']\", \"n_songs\": 16, \"n_clusters\": 5}, {\"artists\": \"['Carlos Y Jose']\", \"n_songs\": 21, \"n_clusters\": 4}, {\"artists\": \"['Carmen McRae']\", \"n_songs\": 12, \"n_clusters\": 4}, {\"artists\": \"['Carmen Miranda']\", \"n_songs\": 22, \"n_clusters\": 3}, {\"artists\": \"['Carola']\", \"n_songs\": 16, \"n_clusters\": 7}, {\"artists\": \"['Carpenters']\", \"n_songs\": 35, \"n_clusters\": 7}, {\"artists\": \"['Cartel De Santa']\", \"n_songs\": 11, \"n_clusters\": 3}, {\"artists\": \"['Cazuza']\", \"n_songs\": 12, \"n_clusters\": 7}, {\"artists\": \"['Cem Karaca']\", \"n_songs\": 24, \"n_clusters\": 10}, {\"artists\": \"['Cengiz Kurto\\u011flu']\", \"n_songs\": 13, \"n_clusters\": 4}, {\"artists\": \"['Charles Aznavour']\", \"n_songs\": 32, \"n_clusters\": 8}, {\"artists\": \"['Charles Mingus']\", \"n_songs\": 40, \"n_clusters\": 9}, {\"artists\": \"['Charlie Barnet']\", \"n_songs\": 15, \"n_clusters\": 4}, {\"artists\": \"['Charlie Brown Jr.']\", \"n_songs\": 19, \"n_clusters\": 6}, {\"artists\": \"['Charlie Chaplin']\", \"n_songs\": 69, \"n_clusters\": 8}, {\"artists\": \"['Charlie Parker']\", \"n_songs\": 30, \"n_clusters\": 8}, {\"artists\": \"['Charlie']\", \"n_songs\": 12, \"n_clusters\": 6}, {\"artists\": \"['Charly Garc\\u00eda']\", \"n_songs\": 35, \"n_clusters\": 11}, {\"artists\": \"['Chatree']\", \"n_songs\": 21, \"n_clusters\": 10}, {\"artists\": \"['Chava Alberstein']\", \"n_songs\": 43, \"n_clusters\": 8}, {\"artists\": \"['Chayanne']\", \"n_songs\": 19, \"n_clusters\": 5}, {\"artists\": \"['Cheek']\", \"n_songs\": 13, \"n_clusters\": 3}, {\"artists\": \"['Cheo Feliciano']\", \"n_songs\": 11, \"n_clusters\": 3}, {\"artists\": \"['Chet Baker']\", \"n_songs\": 27, \"n_clusters\": 5}, {\"artists\": \"['Chiang Yu-Heng']\", \"n_songs\": 15, \"n_clusters\": 4}, {\"artists\": \"['Chicago']\", \"n_songs\": 23, \"n_clusters\": 11}, {\"artists\": \"['Chick Webb']\", \"n_songs\": 16, \"n_clusters\": 4}, {\"artists\": \"['Chico Buarque']\", \"n_songs\": 32, \"n_clusters\": 9}, {\"artists\": \"['Children Of Bodom']\", \"n_songs\": 11, \"n_clusters\": 3}, {\"artists\": \"['Chinaski']\", \"n_songs\": 16, \"n_clusters\": 6}, {\"artists\": \"['Chit\\u00e3ozinho & Xoror\\u00f3']\", \"n_songs\": 12, \"n_clusters\": 7}, {\"artists\": \"['Cholo Berrocal']\", \"n_songs\": 11, \"n_clusters\": 6}, {\"artists\": \"['Chris Rea']\", \"n_songs\": 14, \"n_clusters\": 9}, {\"artists\": \"['Chris de Burgh']\", \"n_songs\": 19, \"n_clusters\": 8}, {\"artists\": \"['Christy Moore']\", \"n_songs\": 21, \"n_clusters\": 7}, {\"artists\": \"['Chrisye']\", \"n_songs\": 15, \"n_clusters\": 5}, {\"artists\": \"['Chrystian & Ralf']\", \"n_songs\": 11, \"n_clusters\": 6}, {\"artists\": \"['Chuck Berry']\", \"n_songs\": 27, \"n_clusters\": 8}, {\"artists\": \"['Clash']\", \"n_songs\": 12, \"n_clusters\": 5}, {\"artists\": \"['Claude Fran\\u00e7ois']\", \"n_songs\": 15, \"n_clusters\": 5}, {\"artists\": \"['Claude Nougaro']\", \"n_songs\": 13, \"n_clusters\": 6}, {\"artists\": \"['Claudio Baglioni']\", \"n_songs\": 24, \"n_clusters\": 8}, {\"artists\": \"['Claudio Villa']\", \"n_songs\": 15, \"n_clusters\": 3}, {\"artists\": \"['Cliff Richard', 'The Shadows']\", \"n_songs\": 21, \"n_clusters\": 7}, {\"artists\": \"['Cliff Richard']\", \"n_songs\": 29, \"n_clusters\": 8}, {\"artists\": \"['Cocteau Twins']\", \"n_songs\": 17, \"n_clusters\": 6}, {\"artists\": \"['Coldplay']\", \"n_songs\": 22, \"n_clusters\": 7}, {\"artists\": \"['Conjunto Primavera']\", \"n_songs\": 17, \"n_clusters\": 5}, {\"artists\": \"['Connie Francis']\", \"n_songs\": 29, \"n_clusters\": 7}, {\"artists\": \"['Coquelin']\", \"n_songs\": 12, \"n_clusters\": 1}, {\"artists\": \"['Cornelio Reyna']\", \"n_songs\": 13, \"n_clusters\": 4}, {\"artists\": \"['Cornelis Vreeswijk']\", \"n_songs\": 30, \"n_clusters\": 6}, {\"artists\": \"['Count Basie']\", \"n_songs\": 36, \"n_clusters\": 7}, {\"artists\": \"['Creedence Clearwater Revival']\", \"n_songs\": 44, \"n_clusters\": 9}, {\"artists\": \"['Creep Hyp']\", \"n_songs\": 13, \"n_clusters\": 3}, {\"artists\": \"['Crosby, Stills, Nash & Young']\", \"n_songs\": 12, \"n_clusters\": 8}, {\"artists\": \"['Crowded House']\", \"n_songs\": 12, \"n_clusters\": 5}, {\"artists\": \"['Cultura Prof\\u00e9tica']\", \"n_songs\": 15, \"n_clusters\": 6}, {\"artists\": \"['Culture']\", \"n_songs\": 11, \"n_clusters\": 3}, {\"artists\": \"['Curtis Mayfield']\", \"n_songs\": 13, \"n_clusters\": 5}, {\"artists\": \"['Czerwone Gitary']\", \"n_songs\": 13, \"n_clusters\": 6}, {\"artists\": \"['C\\u00e1ssia Eller']\", \"n_songs\": 11, \"n_clusters\": 10}, {\"artists\": \"['C\\u00e9line Dion']\", \"n_songs\": 37, \"n_clusters\": 8}, {\"artists\": \"['D-A-D']\", \"n_songs\": 12, \"n_clusters\": 5}, {\"artists\": \"['DEVO']\", \"n_songs\": 14, \"n_clusters\": 6}, {\"artists\": \"['DMX']\", \"n_songs\": 16, \"n_clusters\": 7}, {\"artists\": \"['DREAMS COME TRUE']\", \"n_songs\": 22, \"n_clusters\": 8}, {\"artists\": \"['Daddy Yankee']\", \"n_songs\": 39, \"n_clusters\": 6}, {\"artists\": \"['Daft Punk']\", \"n_songs\": 15, \"n_clusters\": 5}, {\"artists\": \"['Dale Carnegie', 'Till Hagen', 'Stefan Kaminski']\", \"n_songs\": 30, \"n_clusters\": 1}, {\"artists\": \"['Dalida']\", \"n_songs\": 12, \"n_clusters\": 8}, {\"artists\": \"['Dan Fogelberg']\", \"n_songs\": 12, \"n_clusters\": 6}, {\"artists\": \"['Danger Man']\", \"n_songs\": 13, \"n_clusters\": 5}, {\"artists\": \"['Daniel Balavoine']\", \"n_songs\": 16, \"n_clusters\": 9}, {\"artists\": \"['Daniel Landa']\", \"n_songs\": 23, \"n_clusters\": 7}, {\"artists\": \"['Danny Chan']\", \"n_songs\": 13, \"n_clusters\": 5}, {\"artists\": \"['Danny Sanderson']\", \"n_songs\": 12, \"n_clusters\": 7}, {\"artists\": \"['Daryl Hall & John Oates']\", \"n_songs\": 14, \"n_clusters\": 7}, {\"artists\": \"['Dave Brubeck']\", \"n_songs\": 30, \"n_clusters\": 8}, {\"artists\": \"['Dave Wong']\", \"n_songs\": 19, \"n_clusters\": 6}, {\"artists\": \"['David Allan Coe']\", \"n_songs\": 20, \"n_clusters\": 9}, {\"artists\": \"['David Bowie']\", \"n_songs\": 75, \"n_clusters\": 14}, {\"artists\": \"['David and the High Spirit']\", \"n_songs\": 35, \"n_clusters\": 6}, {\"artists\": \"['De Nattergale']\", \"n_songs\": 14, \"n_clusters\": 7}, {\"artists\": \"['De Strangers']\", \"n_songs\": 28, \"n_clusters\": 6}, {\"artists\": \"['Dean Martin']\", \"n_songs\": 103, \"n_clusters\": 6}, {\"artists\": \"['Deep Purple']\", \"n_songs\": 52, \"n_clusters\": 10}, {\"artists\": \"['Def Leppard']\", \"n_songs\": 18, \"n_clusters\": 4}, {\"artists\": \"['Del Shannon']\", \"n_songs\": 11, \"n_clusters\": 4}, {\"artists\": \"['Demi Lovato']\", \"n_songs\": 24, \"n_clusters\": 7}, {\"artists\": \"['Demjen Ferenc']\", \"n_songs\": 11, \"n_clusters\": 5}, {\"artists\": \"['Depeche Mode']\", \"n_songs\": 54, \"n_clusters\": 13}, {\"artists\": \"['Dewa 19']\", \"n_songs\": 14, \"n_clusters\": 6}, {\"artists\": \"['Dexter Gordon']\", \"n_songs\": 13, \"n_clusters\": 6}, {\"artists\": \"['Dezo Ursiny', 'Ivan \\u0160trpka']\", \"n_songs\": 12, \"n_clusters\": 6}, {\"artists\": \"['Di Derre']\", \"n_songs\": 12, \"n_clusters\": 7}, {\"artists\": \"['Diana Ross']\", \"n_songs\": 20, \"n_clusters\": 6}, {\"artists\": \"['Dick Haymes']\", \"n_songs\": 11, \"n_clusters\": 3}, {\"artists\": \"['Die Originale']\", \"n_songs\": 126, \"n_clusters\": 5}, {\"artists\": \"['Die drei ???']\", \"n_songs\": 694, \"n_clusters\": 12}, {\"artists\": \"['Die \\u00c4rzte']\", \"n_songs\": 26, \"n_clusters\": 8}, {\"artists\": \"['Dimension Latina']\", \"n_songs\": 11, \"n_clusters\": 3}, {\"artists\": \"['Dimitris Mitropanos']\", \"n_songs\": 19, \"n_clusters\": 9}, {\"artists\": \"['Dinah Washington']\", \"n_songs\": 25, \"n_clusters\": 5}, {\"artists\": \"['Dio']\", \"n_songs\": 24, \"n_clusters\": 5}, {\"artists\": \"['Diomedes Diaz', 'Juancho Rois']\", \"n_songs\": 22, \"n_clusters\": 4}, {\"artists\": \"['Diomedes Diaz']\", \"n_songs\": 18, \"n_clusters\": 5}, {\"artists\": \"['Dion']\", \"n_songs\": 11, \"n_clusters\": 6}, {\"artists\": \"['Dionne Warwick']\", \"n_songs\": 24, \"n_clusters\": 7}, {\"artists\": \"['Dionysis Savvopoulos']\", \"n_songs\": 12, \"n_clusters\": 7}, {\"artists\": \"['Dire Straits']\", \"n_songs\": 33, \"n_clusters\": 13}, {\"artists\": \"['Disney - Der K\\u00f6nig der L\\u00f6wen']\", \"n_songs\": 12, \"n_clusters\": 4}, {\"artists\": \"['Divididos']\", \"n_songs\": 20, \"n_clusters\": 8}, {\"artists\": \"['Dizzy Gillespie']\", \"n_songs\": 39, \"n_clusters\": 10}, {\"artists\": \"['Djadja & Dinaz']\", \"n_songs\": 12, \"n_clusters\": 6}, {\"artists\": \"['Django Reinhardt']\", \"n_songs\": 18, \"n_clusters\": 3}, {\"artists\": \"['Djavan']\", \"n_songs\": 33, \"n_clusters\": 9}, {\"artists\": \"['Dolly Parton']\", \"n_songs\": 27, \"n_clusters\": 8}, {\"artists\": \"['Don McLean']\", \"n_songs\": 12, \"n_clusters\": 5}, {\"artists\": \"['Don Moen', \\\"Integrity's Hosanna! Music\\\"]\", \"n_songs\": 17, \"n_clusters\": 5}, {\"artists\": \"['Don Moen']\", \"n_songs\": 14, \"n_clusters\": 4}, {\"artists\": \"['Don Omar']\", \"n_songs\": 18, \"n_clusters\": 4}, {\"artists\": \"['Don Williams']\", \"n_songs\": 28, \"n_clusters\": 7}, {\"artists\": \"['Donald Byrd']\", \"n_songs\": 15, \"n_clusters\": 8}, {\"artists\": \"['Donna Summer']\", \"n_songs\": 22, \"n_clusters\": 6}, {\"artists\": \"['Donny Hathaway']\", \"n_songs\": 14, \"n_clusters\": 6}, {\"artists\": \"['Donovan']\", \"n_songs\": 19, \"n_clusters\": 9}, {\"artists\": \"['Doris Day']\", \"n_songs\": 35, \"n_clusters\": 4}, {\"artists\": \"['Dorival Caymmi']\", \"n_songs\": 14, \"n_clusters\": 6}, {\"artists\": \"['Dr. Hook']\", \"n_songs\": 14, \"n_clusters\": 7}, {\"artists\": \"['Dragon Ash']\", \"n_songs\": 15, \"n_clusters\": 6}, {\"artists\": \"['Drake']\", \"n_songs\": 20, \"n_clusters\": 8}, {\"artists\": \"['Dua Lipa']\", \"n_songs\": 13, \"n_clusters\": 5}, {\"artists\": \"['Duke Ellington']\", \"n_songs\": 39, \"n_clusters\": 11}, {\"artists\": \"['Duman']\", \"n_songs\": 16, \"n_clusters\": 5}, {\"artists\": \"['Dumdum Boys']\", \"n_songs\": 11, \"n_clusters\": 6}, {\"artists\": \"['Duran Duran']\", \"n_songs\": 29, \"n_clusters\": 8}, {\"artists\": \"['Dusty Springfield']\", \"n_songs\": 32, \"n_clusters\": 10}, {\"artists\": \"['EAV (Erste Allgemeine Verunsicherung)']\", \"n_songs\": 22, \"n_clusters\": 6}, {\"artists\": \"['EDDA M\\u0171vek']\", \"n_songs\": 12, \"n_clusters\": 6}, {\"artists\": \"['EGO']\", \"n_songs\": 11, \"n_clusters\": 4}, {\"artists\": \"['ELLEGARDEN']\", \"n_songs\": 13, \"n_clusters\": 3}, {\"artists\": \"['EXILE']\", \"n_songs\": 15, \"n_clusters\": 5}, {\"artists\": \"['Eagles']\", \"n_songs\": 36, \"n_clusters\": 8}, {\"artists\": \"['Earl Hines']\", \"n_songs\": 28, \"n_clusters\": 5}, {\"artists\": \"['Earl Klugh']\", \"n_songs\": 11, \"n_clusters\": 5}, {\"artists\": \"['Earth, Wind & Fire']\", \"n_songs\": 17, \"n_clusters\": 8}, {\"artists\": \"['Eartha Kitt']\", \"n_songs\": 11, \"n_clusters\": 3}, {\"artists\": \"['Eason Chan']\", \"n_songs\": 47, \"n_clusters\": 10}, {\"artists\": \"['Ebiet G. Ade']\", \"n_songs\": 21, \"n_clusters\": 6}, {\"artists\": \"['Ed Sheeran']\", \"n_songs\": 24, \"n_clusters\": 7}, {\"artists\": \"['Edda Hei\\u00f0r\\u00fan Backman']\", \"n_songs\": 11, \"n_clusters\": 4}, {\"artists\": \"['Eddie Meduza']\", \"n_songs\": 66, \"n_clusters\": 12}, {\"artists\": \"['Eddie Palmieri']\", \"n_songs\": 16, \"n_clusters\": 4}, {\"artists\": \"['Edgar Broughton Band']\", \"n_songs\": 11, \"n_clusters\": 6}, {\"artists\": \"['Edgar Froese']\", \"n_songs\": 11, \"n_clusters\": 3}, {\"artists\": \"['Eduardo Darnauchans']\", \"n_songs\": 17, \"n_clusters\": 4}, {\"artists\": \"['Edward J. Mason']\", \"n_songs\": 12, \"n_clusters\": 3}, {\"artists\": \"['Egor Letov']\", \"n_songs\": 14, \"n_clusters\": 5}, {\"artists\": \"['Ehud Banai']\", \"n_songs\": 12, \"n_clusters\": 5}, {\"artists\": \"['Eifo HaYeled']\", \"n_songs\": 13, \"n_clusters\": 6}, {\"artists\": \"['Eiichi Ohtaki']\", \"n_songs\": 19, \"n_clusters\": 9}, {\"artists\": \"['Eikichi Yazawa']\", \"n_songs\": 18, \"n_clusters\": 8}, {\"artists\": \"['Ekin Cheng']\", \"n_songs\": 13, \"n_clusters\": 6}, {\"artists\": \"['El Barrio']\", \"n_songs\": 15, \"n_clusters\": 7}, {\"artists\": \"['El Canto Del Loco']\", \"n_songs\": 14, \"n_clusters\": 5}, {\"artists\": \"['El Chombo']\", \"n_songs\": 11, \"n_clusters\": 3}, {\"artists\": \"['El Cuarteto De Nos']\", \"n_songs\": 34, \"n_clusters\": 9}, {\"artists\": \"['El Gran Combo De Puerto Rico']\", \"n_songs\": 15, \"n_clusters\": 4}, {\"artists\": \"['El Harag\\u00e1n y Compa\\u00f1\\u00eda']\", \"n_songs\": 11, \"n_clusters\": 6}, {\"artists\": \"['El Roockie']\", \"n_songs\": 18, \"n_clusters\": 6}, {\"artists\": \"['Electric Light Orchestra']\", \"n_songs\": 48, \"n_clusters\": 13}, {\"artists\": \"['Elis Regina']\", \"n_songs\": 28, \"n_clusters\": 7}, {\"artists\": \"['Ella Fitzgerald', 'Louis Armstrong']\", \"n_songs\": 11, \"n_clusters\": 4}, {\"artists\": \"['Ella Fitzgerald']\", \"n_songs\": 187, \"n_clusters\": 8}, {\"artists\": \"['Elly & Rikkert']\", \"n_songs\": 14, \"n_clusters\": 6}, {\"artists\": \"['Elton John']\", \"n_songs\": 67, \"n_clusters\": 11}, {\"artists\": \"['Elvis Presley']\", \"n_songs\": 125, \"n_clusters\": 12}, {\"artists\": \"['El\\u00e1n']\", \"n_songs\": 28, \"n_clusters\": 8}, {\"artists\": \"['Emerson, Lake & Palmer']\", \"n_songs\": 17, \"n_clusters\": 6}, {\"artists\": \"['Eminem']\", \"n_songs\": 32, \"n_clusters\": 8}, {\"artists\": \"['Emmanuel']\", \"n_songs\": 19, \"n_clusters\": 5}, {\"artists\": \"['Emmylou Harris']\", \"n_songs\": 16, \"n_clusters\": 9}, {\"artists\": \"['Engelbert Humperdinck']\", \"n_songs\": 16, \"n_clusters\": 7}, {\"artists\": \"['Engenheiros Do Hawaii']\", \"n_songs\": 33, \"n_clusters\": 10}, {\"artists\": \"['Ennio Morricone']\", \"n_songs\": 55, \"n_clusters\": 8}, {\"artists\": \"['Enrico Macias']\", \"n_songs\": 12, \"n_clusters\": 4}, {\"artists\": \"['Enrique Iglesias']\", \"n_songs\": 18, \"n_clusters\": 6}, {\"artists\": \"['Enya']\", \"n_songs\": 34, \"n_clusters\": 5}, {\"artists\": \"['Eppu Normaali']\", \"n_songs\": 39, \"n_clusters\": 6}, {\"artists\": \"['Eraserheads']\", \"n_songs\": 29, \"n_clusters\": 11}, {\"artists\": \"['Erasmo Carlos']\", \"n_songs\": 13, \"n_clusters\": 11}, {\"artists\": \"['Erasure']\", \"n_songs\": 16, \"n_clusters\": 5}, {\"artists\": \"['Eric Clapton']\", \"n_songs\": 31, \"n_clusters\": 13}, {\"artists\": \"['Erkin Koray']\", \"n_songs\": 21, \"n_clusters\": 12}, {\"artists\": \"['Ernst H. Gombrich', 'Christoph Waltz']\", \"n_songs\": 23, \"n_clusters\": 1}, {\"artists\": \"['Eros Ramazzotti']\", \"n_songs\": 19, \"n_clusters\": 6}, {\"artists\": \"['Erroll Garner']\", \"n_songs\": 37, \"n_clusters\": 6}, {\"artists\": \"['Estopa']\", \"n_songs\": 15, \"n_clusters\": 7}, {\"artists\": \"['Etta James']\", \"n_songs\": 14, \"n_clusters\": 7}, {\"artists\": \"['Europe']\", \"n_songs\": 21, \"n_clusters\": 6}, {\"artists\": \"['Eurythmics', 'Annie Lennox', 'Dave Stewart']\", \"n_songs\": 16, \"n_clusters\": 8}, {\"artists\": \"['Evelyn \\\"Champagne\\\" King']\", \"n_songs\": 11, \"n_clusters\": 2}, {\"artists\": \"['Everything But The Girl']\", \"n_songs\": 12, \"n_clusters\": 6}, {\"artists\": \"['Exaltasamba']\", \"n_songs\": 17, \"n_clusters\": 2}, {\"artists\": \"['Extremoduro']\", \"n_songs\": 32, \"n_clusters\": 7}, {\"artists\": \"['Eyal Golan']\", \"n_songs\": 39, \"n_clusters\": 9}, {\"artists\": \"['Ezginin G\\u00fcnl\\u00fcg\\u00fc']\", \"n_songs\": 13, \"n_clusters\": 6}, {\"artists\": \"['FACE']\", \"n_songs\": 12, \"n_clusters\": 8}, {\"artists\": \"['Fabri Fibra']\", \"n_songs\": 12, \"n_clusters\": 5}, {\"artists\": \"['Fabrizio De Andr\\u00e9']\", \"n_songs\": 55, \"n_clusters\": 9}, {\"artists\": \"['Fairuz']\", \"n_songs\": 53, \"n_clusters\": 7}, {\"artists\": \"['Faith No More']\", \"n_songs\": 20, \"n_clusters\": 6}, {\"artists\": \"['Falco']\", \"n_songs\": 13, \"n_clusters\": 6}, {\"artists\": \"['Fats Domino']\", \"n_songs\": 15, \"n_clusters\": 4}, {\"artists\": \"['Fats Waller']\", \"n_songs\": 24, \"n_clusters\": 4}, {\"artists\": \"['Faye Wong']\", \"n_songs\": 41, \"n_clusters\": 10}, {\"artists\": \"['Fei Yu-ching']\", \"n_songs\": 20, \"n_clusters\": 7}, {\"artists\": \"['Ferdi Tayfur']\", \"n_songs\": 34, \"n_clusters\": 8}, {\"artists\": \"['Ferdi \\u00d6zbe\\u011fen']\", \"n_songs\": 36, \"n_clusters\": 8}, {\"artists\": \"['Fernando Villalona']\", \"n_songs\": 12, \"n_clusters\": 4}, {\"artists\": \"['Firehouse']\", \"n_songs\": 11, \"n_clusters\": 4}, {\"artists\": \"['Fish Leong']\", \"n_songs\": 15, \"n_clusters\": 4}, {\"artists\": \"['Fito Paez']\", \"n_songs\": 33, \"n_clusters\": 10}, {\"artists\": \"['Five Finger Death Punch']\", \"n_songs\": 16, \"n_clusters\": 3}, {\"artists\": \"['Flamingokvintetten']\", \"n_songs\": 12, \"n_clusters\": 8}, {\"artists\": \"['Flatt & Scruggs']\", \"n_songs\": 11, \"n_clusters\": 4}, {\"artists\": \"['Fleetwood Mac']\", \"n_songs\": 92, \"n_clusters\": 14}, {\"artists\": \"['Fletcher Henderson']\", \"n_songs\": 36, \"n_clusters\": 3}, {\"artists\": \"['Florence + The Machine']\", \"n_songs\": 15, \"n_clusters\": 3}, {\"artists\": \"['Fonseca']\", \"n_songs\": 12, \"n_clusters\": 4}, {\"artists\": \"['Foo Fighters']\", \"n_songs\": 18, \"n_clusters\": 7}, {\"artists\": \"['France Gall']\", \"n_songs\": 14, \"n_clusters\": 6}, {\"artists\": \"['Francesco De Gregori']\", \"n_songs\": 24, \"n_clusters\": 10}, {\"artists\": \"['Francesco Guccini']\", \"n_songs\": 22, \"n_clusters\": 6}, {\"artists\": \"['Francis Cabrel']\", \"n_songs\": 28, \"n_clusters\": 8}, {\"artists\": \"['Francisco Canaro', 'Carlos Rold\\u00e1n']\", \"n_songs\": 13, \"n_clusters\": 3}, {\"artists\": \"['Francisco Canaro', 'Charlo']\", \"n_songs\": 60, \"n_clusters\": 4}, {\"artists\": \"['Francisco Canaro', 'Ernesto Fama']\", \"n_songs\": 35, \"n_clusters\": 4}, {\"artists\": \"['Francisco Canaro', 'Roberto Maida']\", \"n_songs\": 29, \"n_clusters\": 3}, {\"artists\": \"['Francisco Canaro']\", \"n_songs\": 170, \"n_clusters\": 5}, {\"artists\": \"['Franco Battiato']\", \"n_songs\": 33, \"n_clusters\": 10}, {\"artists\": \"['Franco Califano']\", \"n_songs\": 12, \"n_clusters\": 6}, {\"artists\": \"['Franco De Vita']\", \"n_songs\": 14, \"n_clusters\": 6}, {\"artists\": \"['Frank Boeijen Groep']\", \"n_songs\": 12, \"n_clusters\": 8}, {\"artists\": \"['Frank Ocean']\", \"n_songs\": 13, \"n_clusters\": 8}, {\"artists\": \"['Frank Reyes']\", \"n_songs\": 12, \"n_clusters\": 2}, {\"artists\": \"['Frank Sinatra', 'Count Basie']\", \"n_songs\": 12, \"n_clusters\": 4}, {\"artists\": \"['Frank Sinatra']\", \"n_songs\": 143, \"n_clusters\": 9}, {\"artists\": \"['Frank Zappa']\", \"n_songs\": 13, \"n_clusters\": 8}, {\"artists\": \"['Frankie Ruiz']\", \"n_songs\": 16, \"n_clusters\": 4}, {\"artists\": \"['Frankie Valli & The Four Seasons']\", \"n_songs\": 24, \"n_clusters\": 10}, {\"artists\": \"['Franz Joseph Haydn', 'Pro Arte Quartet']\", \"n_songs\": 20, \"n_clusters\": 4}, {\"artists\": \"['Franz Liszt', 'Vladimir Horowitz']\", \"n_songs\": 13, \"n_clusters\": 2}, {\"artists\": \"['Fran\\u00e7oise Hardy']\", \"n_songs\": 30, \"n_clusters\": 7}, {\"artists\": \"['Fred Astaire']\", \"n_songs\": 14, \"n_clusters\": 5}, {\"artists\": \"['Fred \\u00c5kerstr\\u00f6m']\", \"n_songs\": 18, \"n_clusters\": 4}, {\"artists\": \"['Free']\", \"n_songs\": 11, \"n_clusters\": 8}, {\"artists\": \"['Freud Marx Engels & Jung']\", \"n_songs\": 12, \"n_clusters\": 6}, {\"artists\": \"['Fr\\u00e9d\\u00e9ric Chopin', 'Arthur Rubinstein']\", \"n_songs\": 77, \"n_clusters\": 2}, {\"artists\": \"['Fr\\u00e9d\\u00e9ric Chopin', 'Claudio Arrau']\", \"n_songs\": 17, \"n_clusters\": 2}, {\"artists\": \"['Fr\\u00e9d\\u00e9ric Chopin', 'Robert Lortat']\", \"n_songs\": 16, \"n_clusters\": 1}, {\"artists\": \"['Fr\\u00e9d\\u00e9ric Chopin', 'Vladimir Horowitz']\", \"n_songs\": 36, \"n_clusters\": 3}, {\"artists\": \"['Fr\\u00e9d\\u00e9ric Chopin', 'William Kapell']\", \"n_songs\": 12, \"n_clusters\": 1}, {\"artists\": \"['F\\u00fcnf Freunde']\", \"n_songs\": 149, \"n_clusters\": 8}, {\"artists\": \"['G&G Sindikatas']\", \"n_songs\": 13, \"n_clusters\": 5}, {\"artists\": \"['G.E.M.']\", \"n_songs\": 13, \"n_clusters\": 5}, {\"artists\": \"['GNR']\", \"n_songs\": 19, \"n_clusters\": 8}, {\"artists\": \"['GReeeeN']\", \"n_songs\": 18, \"n_clusters\": 5}, {\"artists\": \"['Gal Costa']\", \"n_songs\": 28, \"n_clusters\": 11}, {\"artists\": \"['Gary Lewis & The Playboys']\", \"n_songs\": 12, \"n_clusters\": 5}, {\"artists\": \"['Geeta Dutt']\", \"n_songs\": 49, \"n_clusters\": 6}, {\"artists\": \"['Gene Autry']\", \"n_songs\": 13, \"n_clusters\": 3}, {\"artists\": \"['Genesis']\", \"n_songs\": 64, \"n_clusters\": 13}, {\"artists\": \"['Georg Danzer']\", \"n_songs\": 12, \"n_clusters\": 8}, {\"artists\": \"['George Benson']\", \"n_songs\": 17, \"n_clusters\": 5}, {\"artists\": \"['George Dalaras']\", \"n_songs\": 27, \"n_clusters\": 7}, {\"artists\": \"['George Harrison']\", \"n_songs\": 33, \"n_clusters\": 11}, {\"artists\": \"['George Jones']\", \"n_songs\": 20, \"n_clusters\": 7}, {\"artists\": \"['George Lam']\", \"n_songs\": 14, \"n_clusters\": 8}, {\"artists\": \"['George Michael']\", \"n_songs\": 18, \"n_clusters\": 8}, {\"artists\": \"['George Olsen & His Orchestra', 'George Olsen']\", \"n_songs\": 14, \"n_clusters\": 4}, {\"artists\": \"['George Strait']\", \"n_songs\": 21, \"n_clusters\": 6}, {\"artists\": \"['Georges Brassens']\", \"n_songs\": 23, \"n_clusters\": 3}, {\"artists\": \"['Georgette Heyer', 'Brigitte Carlsen']\", \"n_songs\": 66, \"n_clusters\": 1}, {\"artists\": \"['Georgette Heyer', 'Irina Salkow']\", \"n_songs\": 82, \"n_clusters\": 1}, {\"artists\": \"['Gerard Lenorman']\", \"n_songs\": 11, \"n_clusters\": 7}, {\"artists\": \"['Gerry & The Pacemakers']\", \"n_songs\": 34, \"n_clusters\": 10}, {\"artists\": \"['Ghantasala', 'P. Susheela']\", \"n_songs\": 23, \"n_clusters\": 6}, {\"artists\": \"['Ghantasala']\", \"n_songs\": 42, \"n_clusters\": 7}, {\"artists\": \"['Gian Marco']\", \"n_songs\": 12, \"n_clusters\": 8}, {\"artists\": \"['Gianni Morandi']\", \"n_songs\": 13, \"n_clusters\": 6}, {\"artists\": \"['Giannis Parios']\", \"n_songs\": 18, \"n_clusters\": 5}, {\"artists\": \"['Gidi Gov']\", \"n_songs\": 15, \"n_clusters\": 9}, {\"artists\": \"['Gil Scott-Heron']\", \"n_songs\": 11, \"n_clusters\": 5}, {\"artists\": \"['Gilbert B\\u00e9caud']\", \"n_songs\": 19, \"n_clusters\": 8}, {\"artists\": \"['Gilberto Gil']\", \"n_songs\": 38, \"n_clusters\": 12}, {\"artists\": \"['Gilberto Santa Rosa']\", \"n_songs\": 26, \"n_clusters\": 7}, {\"artists\": \"['Giorgos Mazonakis']\", \"n_songs\": 27, \"n_clusters\": 7}, {\"artists\": \"['Gipsy Kings']\", \"n_songs\": 11, \"n_clusters\": 7}, {\"artists\": \"['Giuseppe Verdi', 'Arturo Toscanini']\", \"n_songs\": 22, \"n_clusters\": 3}, {\"artists\": \"['Gladys Knight & The Pips']\", \"n_songs\": 14, \"n_clusters\": 7}, {\"artists\": \"['Glen Campbell']\", \"n_songs\": 13, \"n_clusters\": 7}, {\"artists\": \"['Glenn Miller']\", \"n_songs\": 26, \"n_clusters\": 6}, {\"artists\": \"['Globi']\", \"n_songs\": 118, \"n_clusters\": 5}, {\"artists\": \"['Gloria Estefan']\", \"n_songs\": 22, \"n_clusters\": 6}, {\"artists\": \"['Gloria Trevi']\", \"n_songs\": 13, \"n_clusters\": 5}, {\"artists\": \"['Gnags']\", \"n_songs\": 17, \"n_clusters\": 7}, {\"artists\": \"['Golden Earring']\", \"n_songs\": 19, \"n_clusters\": 7}, {\"artists\": \"['Gordon Lightfoot']\", \"n_songs\": 18, \"n_clusters\": 7}, {\"artists\": \"['Got Jakraphan']\", \"n_songs\": 11, \"n_clusters\": 7}, {\"artists\": \"['Grant Green']\", \"n_songs\": 15, \"n_clusters\": 5}, {\"artists\": \"['Grateful Dead']\", \"n_songs\": 35, \"n_clusters\": 11}, {\"artists\": \"['Grazhdanskaya Oborona']\", \"n_songs\": 78, \"n_clusters\": 11}, {\"artists\": \"['Green Day']\", \"n_songs\": 13, \"n_clusters\": 3}, {\"artists\": \"['Grethe Mogensen', 'Drag\\u00f8rb\\u00f8rnene']\", \"n_songs\": 11, \"n_clusters\": 3}, {\"artists\": \"['Grigoris Bithikotsis']\", \"n_songs\": 15, \"n_clusters\": 4}, {\"artists\": \"['Grup Yorum']\", \"n_songs\": 18, \"n_clusters\": 6}, {\"artists\": \"['Grupo 5']\", \"n_songs\": 14, \"n_clusters\": 6}, {\"artists\": \"['Grupo Bryndis']\", \"n_songs\": 13, \"n_clusters\": 5}, {\"artists\": \"['Grupo Fundo De Quintal']\", \"n_songs\": 15, \"n_clusters\": 5}, {\"artists\": \"['Grupo Laberinto']\", \"n_songs\": 18, \"n_clusters\": 3}, {\"artists\": \"['Grupo Niche']\", \"n_songs\": 34, \"n_clusters\": 5}, {\"artists\": \"['Grupo Revela\\u00e7\\u00e3o']\", \"n_songs\": 13, \"n_clusters\": 4}, {\"artists\": \"['Gustaf Grundgens', 'Johann Wolfgang von Goethe', 'Deutsche Grammophon Literatur']\", \"n_songs\": 17, \"n_clusters\": 2}, {\"artists\": \"['Gustav Mahler', 'Leonard Bernstein', 'New York Philharmonic']\", \"n_songs\": 14, \"n_clusters\": 2}, {\"artists\": \"['Gustavo Cerati']\", \"n_songs\": 20, \"n_clusters\": 10}, {\"artists\": \"['Gusttavo Lima']\", \"n_songs\": 13, \"n_clusters\": 4}, {\"artists\": \"['Gyllene Tider']\", \"n_songs\": 12, \"n_clusters\": 5}, {\"artists\": \"['G\\u00fcl\\u015fen']\", \"n_songs\": 12, \"n_clusters\": 5}, {\"artists\": \"['H.P. Lovecraft']\", \"n_songs\": 41, \"n_clusters\": 1}, {\"artists\": \"['HIM']\", \"n_songs\": 11, \"n_clusters\": 5}, {\"artists\": \"['HIRAIDAI']\", \"n_songs\": 12, \"n_clusters\": 8}, {\"artists\": \"['HaGashash HaHiver']\", \"n_songs\": 30, \"n_clusters\": 5}, {\"artists\": \"['Hacken Lee']\", \"n_songs\": 25, \"n_clusters\": 8}, {\"artists\": \"['Hameeda Bano']\", \"n_songs\": 12, \"n_clusters\": 4}, {\"artists\": \"['Hana Hegerova']\", \"n_songs\": 19, \"n_clusters\": 5}, {\"artists\": \"['Hank Williams, Jr.']\", \"n_songs\": 20, \"n_clusters\": 7}, {\"artists\": \"['Hanne Krogh']\", \"n_songs\": 12, \"n_clusters\": 5}, {\"artists\": \"['Hanni und Nanni']\", \"n_songs\": 34, \"n_clusters\": 7}, {\"artists\": \"['Hans Zimmer']\", \"n_songs\": 12, \"n_clusters\": 3}, {\"artists\": \"['Hariharan']\", \"n_songs\": 17, \"n_clusters\": 9}, {\"artists\": \"['Haris Alexiou']\", \"n_songs\": 32, \"n_clusters\": 8}, {\"artists\": \"['Harlej']\", \"n_songs\": 15, \"n_clusters\": 5}, {\"artists\": \"['Harper Lee', 'Eva Mattes']\", \"n_songs\": 32, \"n_clusters\": 1}, {\"artists\": \"['Harry Belafonte']\", \"n_songs\": 27, \"n_clusters\": 6}, {\"artists\": \"['Harry James']\", \"n_songs\": 12, \"n_clusters\": 5}, {\"artists\": \"['Hebe Tien']\", \"n_songs\": 11, \"n_clusters\": 4}, {\"artists\": \"['Hector']\", \"n_songs\": 23, \"n_clusters\": 11}, {\"artists\": \"['Heidi']\", \"n_songs\": 21, \"n_clusters\": 3}, {\"artists\": \"['Helen Reddy']\", \"n_songs\": 11, \"n_clusters\": 5}, {\"artists\": \"['Helgi Bj\\u00f6rnsson']\", \"n_songs\": 16, \"n_clusters\": 8}, {\"artists\": \"['Hellbillies']\", \"n_songs\": 28, \"n_clusters\": 10}, {\"artists\": \"['Hemant Kumar']\", \"n_songs\": 41, \"n_clusters\": 6}, {\"artists\": \"['Henri D\\u00e8s']\", \"n_songs\": 18, \"n_clusters\": 4}, {\"artists\": \"['Henrique & Juliano']\", \"n_songs\": 16, \"n_clusters\": 4}, {\"artists\": \"['Henry Mancini']\", \"n_songs\": 43, \"n_clusters\": 8}, {\"artists\": \"['Hep Stars']\", \"n_songs\": 13, \"n_clusters\": 6}, {\"artists\": \"['Herb Alpert & The Tijuana Brass']\", \"n_songs\": 20, \"n_clusters\": 7}, {\"artists\": \"['Herbert Gr\\u00f6nemeyer']\", \"n_songs\": 17, \"n_clusters\": 9}, {\"artists\": \"['Herbie Hancock']\", \"n_songs\": 20, \"n_clusters\": 10}, {\"artists\": \"['Herman van Veen']\", \"n_songs\": 12, \"n_clusters\": 5}, {\"artists\": \"['Heroes Del Silencio']\", \"n_songs\": 25, \"n_clusters\": 7}, {\"artists\": \"['Hesen Z\\u00eerek']\", \"n_songs\": 12, \"n_clusters\": 3}, {\"artists\": \"['Hi-Fi Set']\", \"n_songs\": 16, \"n_clusters\": 6}, {\"artists\": \"['Hibari Misora']\", \"n_songs\": 15, \"n_clusters\": 4}, {\"artists\": \"['Hikaru Utada']\", \"n_songs\": 18, \"n_clusters\": 8}, {\"artists\": \"['Hillsong UNITED']\", \"n_songs\": 11, \"n_clusters\": 3}, {\"artists\": \"['Hillsong Worship']\", \"n_songs\": 43, \"n_clusters\": 7}, {\"artists\": \"['Hins Cheung']\", \"n_songs\": 17, \"n_clusters\": 5}, {\"artists\": \"['Hiperbol\\u0117']\", \"n_songs\": 11, \"n_clusters\": 7}, {\"artists\": \"['Hlj\\u00f3mar']\", \"n_songs\": 11, \"n_clusters\": 7}, {\"artists\": \"['Hombres G']\", \"n_songs\": 16, \"n_clusters\": 7}, {\"artists\": \"['Hong Ronghong']\", \"n_songs\": 14, \"n_clusters\": 6}, {\"artists\": \"['Hootenanny Singers']\", \"n_songs\": 13, \"n_clusters\": 6}, {\"artists\": \"['Hork\\u00fd\\u017ee Sl\\u00ed\\u017ee']\", \"n_songs\": 33, \"n_clusters\": 9}, {\"artists\": \"['Hot Tuna']\", \"n_songs\": 15, \"n_clusters\": 7}, {\"artists\": \"['Hozier']\", \"n_songs\": 13, \"n_clusters\": 6}, {\"artists\": \"['Hubert-F\\u00e9lix Thi\\u00e9faine']\", \"n_songs\": 15, \"n_clusters\": 8}, {\"artists\": \"['Hui Buh, das Schlossgespenst']\", \"n_songs\": 26, \"n_clusters\": 3}, {\"artists\": \"['Hung\\u00e1ria']\", \"n_songs\": 15, \"n_clusters\": 8}, {\"artists\": \"['Hurriganes']\", \"n_songs\": 19, \"n_clusters\": 8}, {\"artists\": \"['H\\u00e5kan Hellstr\\u00f6m']\", \"n_songs\": 12, \"n_clusters\": 6}, {\"artists\": \"['H\\u00e9ctor Lavoe']\", \"n_songs\": 17, \"n_clusters\": 7}, {\"artists\": \"['INXS']\", \"n_songs\": 22, \"n_clusters\": 5}, {\"artists\": \"['IU']\", \"n_songs\": 11, \"n_clusters\": 6}, {\"artists\": \"['Idan Raichel']\", \"n_songs\": 14, \"n_clusters\": 9}, {\"artists\": \"['Iggy Pop']\", \"n_songs\": 12, \"n_clusters\": 5}, {\"artists\": \"['Ignacio Corsini']\", \"n_songs\": 108, \"n_clusters\": 6}, {\"artists\": \"['Igor Stravinsky', 'Columbia Symphony Orchestra']\", \"n_songs\": 27, \"n_clusters\": 3}, {\"artists\": \"['Igor Stravinsky']\", \"n_songs\": 20, \"n_clusters\": 4}, {\"artists\": \"['Ike & Tina Turner']\", \"n_songs\": 13, \"n_clusters\": 8}, {\"artists\": \"['Ilegales']\", \"n_songs\": 16, \"n_clusters\": 6}, {\"artists\": \"['Imagine Dragons']\", \"n_songs\": 25, \"n_clusters\": 6}, {\"artists\": \"['Imperiet']\", \"n_songs\": 17, \"n_clusters\": 7}, {\"artists\": \"['In Flames']\", \"n_songs\": 13, \"n_clusters\": 3}, {\"artists\": \"['Indio Solari y los Fundamentalistas del Aire Acondicionado']\", \"n_songs\": 16, \"n_clusters\": 4}, {\"artists\": \"['Indochine']\", \"n_songs\": 18, \"n_clusters\": 6}, {\"artists\": \"['Intocable']\", \"n_songs\": 19, \"n_clusters\": 4}, {\"artists\": \"['Intoxicados']\", \"n_songs\": 11, \"n_clusters\": 6}, {\"artists\": \"['In\\u00e9 Kafe']\", \"n_songs\": 21, \"n_clusters\": 3}, {\"artists\": \"['Iron Maiden']\", \"n_songs\": 35, \"n_clusters\": 5}, {\"artists\": \"['Irwin Goodman']\", \"n_songs\": 33, \"n_clusters\": 8}, {\"artists\": \"['Iwan Fals']\", \"n_songs\": 38, \"n_clusters\": 11}, {\"artists\": \"['J Balvin']\", \"n_songs\": 68, \"n_clusters\": 4}, {\"artists\": \"['J. Karjalainen & Mustat Lasit']\", \"n_songs\": 11, \"n_clusters\": 6}, {\"artists\": \"['J.J. Cale']\", \"n_songs\": 19, \"n_clusters\": 9}, {\"artists\": \"['JAY-Z']\", \"n_songs\": 13, \"n_clusters\": 6}, {\"artists\": \"['JUDY AND MARY']\", \"n_songs\": 19, \"n_clusters\": 5}, {\"artists\": \"['Jack Johnson']\", \"n_songs\": 19, \"n_clusters\": 7}, {\"artists\": \"['Jackie Gleason']\", \"n_songs\": 36, \"n_clusters\": 4}, {\"artists\": \"['Jackson Browne']\", \"n_songs\": 11, \"n_clusters\": 6}, {\"artists\": \"['Jacky Cheung']\", \"n_songs\": 57, \"n_clusters\": 8}, {\"artists\": \"['Jacques Brel']\", \"n_songs\": 15, \"n_clusters\": 6}, {\"artists\": \"['Jagjit Singh', 'Chitra Singh']\", \"n_songs\": 15, \"n_clusters\": 10}, {\"artists\": \"['Jagjit Singh']\", \"n_songs\": 24, \"n_clusters\": 9}, {\"artists\": \"['Jaime Roos']\", \"n_songs\": 25, \"n_clusters\": 9}, {\"artists\": \"['James Brown & The Famous Flames']\", \"n_songs\": 14, \"n_clusters\": 8}, {\"artists\": \"['James Brown']\", \"n_songs\": 24, \"n_clusters\": 7}, {\"artists\": \"['James Last']\", \"n_songs\": 14, \"n_clusters\": 4}, {\"artists\": \"['James Taylor']\", \"n_songs\": 23, \"n_clusters\": 9}, {\"artists\": \"['Jamiroquai']\", \"n_songs\": 14, \"n_clusters\": 5}, {\"artists\": \"['Jan Johansson']\", \"n_songs\": 14, \"n_clusters\": 3}, {\"artists\": \"['Jane Austen', 'Eva Mattes']\", \"n_songs\": 23, \"n_clusters\": 1}, {\"artists\": \"['Janice Vidal']\", \"n_songs\": 16, \"n_clusters\": 6}, {\"artists\": \"['Janis Joplin']\", \"n_songs\": 11, \"n_clusters\": 7}, {\"artists\": \"['Janusz Korczak']\", \"n_songs\": 66, \"n_clusters\": 1}, {\"artists\": \"['Jaromir Nohavica']\", \"n_songs\": 16, \"n_clusters\": 7}, {\"artists\": \"['Jauns M\\u0113ness']\", \"n_songs\": 11, \"n_clusters\": 8}, {\"artists\": \"['Javier Sol\\u00eds']\", \"n_songs\": 85, \"n_clusters\": 5}, {\"artists\": \"['Jay Chou']\", \"n_songs\": 55, \"n_clusters\": 10}, {\"artists\": \"['Jean Ferrat']\", \"n_songs\": 17, \"n_clusters\": 6}, {\"artists\": \"['Jean-Jacques Goldman']\", \"n_songs\": 24, \"n_clusters\": 9}, {\"artists\": \"['Jefferson Airplane']\", \"n_songs\": 14, \"n_clusters\": 7}, {\"artists\": \"['Jelly Roll Morton']\", \"n_songs\": 15, \"n_clusters\": 2}, {\"artists\": \"['Jerry Lee Lewis']\", \"n_songs\": 18, \"n_clusters\": 7}, {\"artists\": \"['Jerry Rivera']\", \"n_songs\": 18, \"n_clusters\": 4}, {\"artists\": \"['Jerry Vale']\", \"n_songs\": 18, \"n_clusters\": 4}, {\"artists\": \"['Jes\\u00fas Adri\\u00e1n Romero']\", \"n_songs\": 18, \"n_clusters\": 7}, {\"artists\": \"['Jethro Tull']\", \"n_songs\": 23, \"n_clusters\": 10}, {\"artists\": \"['Jim Reeves']\", \"n_songs\": 17, \"n_clusters\": 5}, {\"artists\": \"['Jimi Hendrix']\", \"n_songs\": 22, \"n_clusters\": 8}, {\"artists\": \"['Jimmie Lunceford & His Orchestra', 'Jimmie Lunceford']\", \"n_songs\": 12, \"n_clusters\": 4}, {\"artists\": \"['Jimmie Lunceford']\", \"n_songs\": 30, \"n_clusters\": 6}, {\"artists\": \"['Jimmie Rodgers']\", \"n_songs\": 25, \"n_clusters\": 3}, {\"artists\": \"['Jimmy Buffett']\", \"n_songs\": 27, \"n_clusters\": 7}, {\"artists\": \"['Jimmy Cliff']\", \"n_songs\": 11, \"n_clusters\": 4}, {\"artists\": \"['Jimmy Durante']\", \"n_songs\": 15, \"n_clusters\": 6}, {\"artists\": \"['Jimmy Smith']\", \"n_songs\": 13, \"n_clusters\": 6}, {\"artists\": \"['Joan Armatrading']\", \"n_songs\": 11, \"n_clusters\": 5}, {\"artists\": \"['Joan Baez']\", \"n_songs\": 13, \"n_clusters\": 6}, {\"artists\": \"['Joan Manuel Serrat']\", \"n_songs\": 35, \"n_clusters\": 8}, {\"artists\": \"['Joan Sebastian']\", \"n_songs\": 42, \"n_clusters\": 6}, {\"artists\": \"['Joaqu\\u00edn Sabina']\", \"n_songs\": 38, \"n_clusters\": 9}, {\"artists\": \"['Jody Chiang']\", \"n_songs\": 38, \"n_clusters\": 6}, {\"artists\": \"['Joe Cocker']\", \"n_songs\": 22, \"n_clusters\": 10}, {\"artists\": \"['Joe Cuba Sextet']\", \"n_songs\": 12, \"n_clusters\": 3}, {\"artists\": \"['Joe Hisaishi']\", \"n_songs\": 70, \"n_clusters\": 8}, {\"artists\": \"['Joey Yung']\", \"n_songs\": 15, \"n_clusters\": 6}, {\"artists\": \"['Johann Sebastian Bach', 'Claudio Arrau']\", \"n_songs\": 11, \"n_clusters\": 2}, {\"artists\": \"['Johann Sebastian Bach', 'Glenn Gould']\", \"n_songs\": 113, \"n_clusters\": 4}, {\"artists\": \"['Johann Sebastian Bach', 'Jascha Heifetz']\", \"n_songs\": 15, \"n_clusters\": 3}, {\"artists\": \"['Johann Sebastian Bach', 'Otto Klemperer', 'Philharmonia Orchestra']\", \"n_songs\": 17, \"n_clusters\": 2}, {\"artists\": \"['Johann Sebastian Bach', 'Rosalyn Tureck']\", \"n_songs\": 11, \"n_clusters\": 2}, {\"artists\": \"['Johann Sebastian Bach', 'Ton Koopman', 'Boys Choir Of Sacraments-Church Breda']\", \"n_songs\": 11, \"n_clusters\": 3}, {\"artists\": \"['Johann Sebastian Bach', 'Yo-Yo Ma']\", \"n_songs\": 15, \"n_clusters\": 2}, {\"artists\": \"['Johann Strauss II', 'Mariss Jansons', 'Wiener Philharmoniker']\", \"n_songs\": 12, \"n_clusters\": 2}, {\"artists\": \"['John Barry']\", \"n_songs\": 30, \"n_clusters\": 6}, {\"artists\": \"['John Coltrane Quartet']\", \"n_songs\": 11, \"n_clusters\": 5}, {\"artists\": \"['John Coltrane']\", \"n_songs\": 38, \"n_clusters\": 10}, {\"artists\": \"['John Denver']\", \"n_songs\": 17, \"n_clusters\": 5}, {\"artists\": \"['John Lee Hooker']\", \"n_songs\": 26, \"n_clusters\": 7}, {\"artists\": \"['John Lennon']\", \"n_songs\": 20, \"n_clusters\": 8}, {\"artists\": \"['John Mayer']\", \"n_songs\": 19, \"n_clusters\": 10}, {\"artists\": \"['John Mogensen']\", \"n_songs\": 17, \"n_clusters\": 7}, {\"artists\": \"['John Prine']\", \"n_songs\": 22, \"n_clusters\": 7}, {\"artists\": \"['John Williams', 'London Symphony Orchestra']\", \"n_songs\": 67, \"n_clusters\": 1}, {\"artists\": \"['Johnny Cash']\", \"n_songs\": 123, \"n_clusters\": 10}, {\"artists\": \"['Johnny Hallyday']\", \"n_songs\": 61, \"n_clusters\": 10}, {\"artists\": \"['Johnny Hodges']\", \"n_songs\": 13, \"n_clusters\": 6}, {\"artists\": \"['Johnny Horton']\", \"n_songs\": 20, \"n_clusters\": 4}, {\"artists\": \"['Johnny Mathis']\", \"n_songs\": 27, \"n_clusters\": 4}, {\"artists\": \"['Johnny Pacheco']\", \"n_songs\": 11, \"n_clusters\": 4}, {\"artists\": \"['Jokke & Valentinerne']\", \"n_songs\": 12, \"n_clusters\": 5}, {\"artists\": \"['Jolin Tsai']\", \"n_songs\": 16, \"n_clusters\": 6}, {\"artists\": \"['Joni Mitchell']\", \"n_songs\": 24, \"n_clusters\": 6}, {\"artists\": \"['Jorge & Mateus']\", \"n_songs\": 30, \"n_clusters\": 8}, {\"artists\": \"['Jorge Ben Jor']\", \"n_songs\": 33, \"n_clusters\": 9}, {\"artists\": \"['Jorge Cafrune']\", \"n_songs\": 23, \"n_clusters\": 4}, {\"artists\": \"['Jorge Drexler']\", \"n_songs\": 19, \"n_clusters\": 8}, {\"artists\": \"['Jorge Palma']\", \"n_songs\": 17, \"n_clusters\": 6}, {\"artists\": \"['Jorma Kaukonen']\", \"n_songs\": 11, \"n_clusters\": 3}, {\"artists\": \"['Jose Larralde']\", \"n_songs\": 38, \"n_clusters\": 4}, {\"artists\": \"['Jos\\u00e9 Alfredo Jimenez']\", \"n_songs\": 27, \"n_clusters\": 7}, {\"artists\": \"['Jos\\u00e9 Feliciano']\", \"n_songs\": 14, \"n_clusters\": 5}, {\"artists\": \"['Jos\\u00e9 Jos\\u00e9']\", \"n_songs\": 81, \"n_clusters\": 10}, {\"artists\": \"['Jos\\u00e9 Luis Perales']\", \"n_songs\": 24, \"n_clusters\": 7}, {\"artists\": \"['Jos\\u00e9 Velez']\", \"n_songs\": 11, \"n_clusters\": 6}, {\"artists\": \"['Journey']\", \"n_songs\": 27, \"n_clusters\": 5}, {\"artists\": \"['Joy Division']\", \"n_songs\": 22, \"n_clusters\": 5}, {\"artists\": \"['Joyous Celebration']\", \"n_songs\": 13, \"n_clusters\": 6}, {\"artists\": \"['Jo\\u00e3o Paulo & Daniel']\", \"n_songs\": 12, \"n_clusters\": 3}, {\"artists\": \"['Juan Carlos Alvarado']\", \"n_songs\": 15, \"n_clusters\": 6}, {\"artists\": \"['Juan Gabriel']\", \"n_songs\": 85, \"n_clusters\": 12}, {\"artists\": \"['Juan Luis Guerra 4.40']\", \"n_songs\": 25, \"n_clusters\": 8}, {\"artists\": \"['Juan Silos Jr. & Rondalla']\", \"n_songs\": 14, \"n_clusters\": 5}, {\"artists\": \"['Judas Priest']\", \"n_songs\": 34, \"n_clusters\": 6}, {\"artists\": \"['Judy Garland']\", \"n_songs\": 34, \"n_clusters\": 8}, {\"artists\": \"['Juice Leskinen']\", \"n_songs\": 11, \"n_clusters\": 7}, {\"artists\": \"['Jul']\", \"n_songs\": 21, \"n_clusters\": 5}, {\"artists\": \"['Julie London']\", \"n_songs\": 50, \"n_clusters\": 4}, {\"artists\": \"['Julio Iglesias']\", \"n_songs\": 113, \"n_clusters\": 11}, {\"artists\": \"['Justin Bieber']\", \"n_songs\": 55, \"n_clusters\": 8}, {\"artists\": \"['K. J. Yesudas', 'S. Janaki']\", \"n_songs\": 14, \"n_clusters\": 4}, {\"artists\": \"['K. J. Yesudas']\", \"n_songs\": 49, \"n_clusters\": 11}, {\"artists\": \"['K. S. Chithra']\", \"n_songs\": 11, \"n_clusters\": 7}, {\"artists\": \"['K.C.Dey']\", \"n_songs\": 29, \"n_clusters\": 4}, {\"artists\": \"['K3']\", \"n_songs\": 17, \"n_clusters\": 4}, {\"artists\": \"['KAROL G']\", \"n_songs\": 13, \"n_clusters\": 3}, {\"artists\": \"['KC & The Sunshine Band']\", \"n_songs\": 12, \"n_clusters\": 3}, {\"artists\": \"['KISS']\", \"n_songs\": 59, \"n_clusters\": 9}, {\"artists\": \"['KOBUKURO']\", \"n_songs\": 13, \"n_clusters\": 6}, {\"artists\": \"['Kab\\u00e1t']\", \"n_songs\": 39, \"n_clusters\": 6}, {\"artists\": \"['Kake Randelin']\", \"n_songs\": 12, \"n_clusters\": 5}, {\"artists\": \"['Kala Marka']\", \"n_songs\": 16, \"n_clusters\": 6}, {\"artists\": \"['Kanye West']\", \"n_songs\": 14, \"n_clusters\": 4}, {\"artists\": \"['Karel Gott']\", \"n_songs\": 18, \"n_clusters\": 7}, {\"artists\": \"['Karibe con K']\", \"n_songs\": 37, \"n_clusters\": 7}, {\"artists\": \"['Karina']\", \"n_songs\": 17, \"n_clusters\": 8}, {\"artists\": \"['Karl May', 'Heiko Grauel']\", \"n_songs\": 27, \"n_clusters\": 1}, {\"artists\": \"['Karpe']\", \"n_songs\": 13, \"n_clusters\": 5}, {\"artists\": \"['Kate Bush']\", \"n_songs\": 29, \"n_clusters\": 8}, {\"artists\": \"['Katri Helena']\", \"n_songs\": 13, \"n_clusters\": 6}, {\"artists\": \"['Katy Garbi']\", \"n_songs\": 16, \"n_clusters\": 5}, {\"artists\": \"['Katy Perry']\", \"n_songs\": 14, \"n_clusters\": 4}, {\"artists\": \"['Kaveret']\", \"n_songs\": 14, \"n_clusters\": 7}, {\"artists\": \"['Kay Tse']\", \"n_songs\": 12, \"n_clusters\": 5}, {\"artists\": \"['Kayahan']\", \"n_songs\": 21, \"n_clusters\": 8}, {\"artists\": \"['Keistuoli\\u0173 Teatras']\", \"n_songs\": 17, \"n_clusters\": 7}, {\"artists\": \"['Keisuke Kuwata']\", \"n_songs\": 13, \"n_clusters\": 6}, {\"artists\": \"['Kenan Do\\u011fulu']\", \"n_songs\": 14, \"n_clusters\": 6}, {\"artists\": \"['Kenny Chesney']\", \"n_songs\": 11, \"n_clusters\": 5}, {\"artists\": \"['Kenny G']\", \"n_songs\": 16, \"n_clusters\": 6}, {\"artists\": \"['Kenny Loggins']\", \"n_songs\": 12, \"n_clusters\": 6}, {\"artists\": \"['Kenshi Yonezu']\", \"n_songs\": 11, \"n_clusters\": 3}, {\"artists\": \"['Ketsumeishi']\", \"n_songs\": 12, \"n_clusters\": 5}, {\"artists\": \"['Kevin Ayers']\", \"n_songs\": 16, \"n_clusters\": 10}, {\"artists\": \"['Kevin Kern']\", \"n_songs\": 16, \"n_clusters\": 3}, {\"artists\": \"['Khursheed Bano']\", \"n_songs\": 21, \"n_clusters\": 5}, {\"artists\": \"['Kichka Bodurova (\\u041a\\u0438\\u0447\\u043a\\u0430 \\u0411\\u043e\\u0434\\u0443\\u0440\\u043e\\u0432\\u0430)']\", \"n_songs\": 11, \"n_clusters\": 5}, {\"artists\": \"['Kid Abelha']\", \"n_songs\": 12, \"n_clusters\": 5}, {\"artists\": \"['Kikka']\", \"n_songs\": 13, \"n_clusters\": 3}, {\"artists\": \"['Kim Larsen']\", \"n_songs\": 51, \"n_clusters\": 9}, {\"artists\": \"['Kinderen voor Kinderen']\", \"n_songs\": 18, \"n_clusters\": 9}, {\"artists\": \"['King Crimson']\", \"n_songs\": 17, \"n_clusters\": 8}, {\"artists\": \"['Kings of Leon']\", \"n_songs\": 15, \"n_clusters\": 5}, {\"artists\": \"['Kingston Wall']\", \"n_songs\": 11, \"n_clusters\": 3}, {\"artists\": \"['Kino']\", \"n_songs\": 40, \"n_clusters\": 10}, {\"artists\": \"['Kirka']\", \"n_songs\": 11, \"n_clusters\": 6}, {\"artists\": \"['Kishore Kumar', 'Asha Bhosle']\", \"n_songs\": 18, \"n_clusters\": 6}, {\"artists\": \"['Kishore Kumar', 'Lata Mangeshkar']\", \"n_songs\": 16, \"n_clusters\": 5}, {\"artists\": \"['Kishore Kumar']\", \"n_songs\": 92, \"n_clusters\": 13}, {\"artists\": \"['Kisp\\u00e1l \\u00e9s a Borz']\", \"n_songs\": 32, \"n_clusters\": 8}, {\"artists\": \"['Klamydia']\", \"n_songs\": 31, \"n_clusters\": 4}, {\"artists\": \"['Kliby Und Caroline']\", \"n_songs\": 16, \"n_clusters\": 2}, {\"artists\": \"['Knut Hamsun']\", \"n_songs\": 13, \"n_clusters\": 2}, {\"artists\": \"['Knutsen & Ludvigsen']\", \"n_songs\": 13, \"n_clusters\": 8}, {\"artists\": \"['Kool & The Gang']\", \"n_songs\": 21, \"n_clusters\": 6}, {\"artists\": \"['Korn']\", \"n_songs\": 16, \"n_clusters\": 4}, {\"artists\": \"['Korol i Shut']\", \"n_songs\": 37, \"n_clusters\": 9}, {\"artists\": \"['Kostas Roukounas']\", \"n_songs\": 11, \"n_clusters\": 4}, {\"artists\": \"['Kraftwerk']\", \"n_songs\": 17, \"n_clusters\": 6}, {\"artists\": \"['Krzysztof Krawczyk']\", \"n_songs\": 19, \"n_clusters\": 9}, {\"artists\": \"['Kult']\", \"n_songs\": 20, \"n_clusters\": 9}, {\"artists\": \"['Kumar Sanu', 'Alka Yagnik']\", \"n_songs\": 19, \"n_clusters\": 8}, {\"artists\": \"['Kylie Minogue']\", \"n_songs\": 17, \"n_clusters\": 5}, {\"artists\": \"['Kyosuke Himuro']\", \"n_songs\": 11, \"n_clusters\": 3}, {\"artists\": \"['K\\u00e1rp\\u00e1tia']\", \"n_songs\": 11, \"n_clusters\": 5}, {\"artists\": \"['L.A.B.']\", \"n_songs\": 13, \"n_clusters\": 5}, {\"artists\": \"['LOUDNESS']\", \"n_songs\": 16, \"n_clusters\": 5}, {\"artists\": \"['LSP']\", \"n_songs\": 12, \"n_clusters\": 7}, {\"artists\": \"['LUNA SEA']\", \"n_songs\": 11, \"n_clusters\": 3}, {\"artists\": \"['La Arrolladora Banda El Lim\\u00f3n De Rene Camacho']\", \"n_songs\": 23, \"n_clusters\": 4}, {\"artists\": \"['La Mafia']\", \"n_songs\": 11, \"n_clusters\": 1}, {\"artists\": \"['La Nueva Luna']\", \"n_songs\": 12, \"n_clusters\": 3}, {\"artists\": \"['La Oreja de Van Gogh']\", \"n_songs\": 11, \"n_clusters\": 8}, {\"artists\": \"['La Polla Records']\", \"n_songs\": 14, \"n_clusters\": 5}, {\"artists\": \"['La Renga']\", \"n_songs\": 14, \"n_clusters\": 5}, {\"artists\": \"['La Sonora Matancera', 'Celia Cruz']\", \"n_songs\": 15, \"n_clusters\": 4}, {\"artists\": \"['La Sonora Matancera']\", \"n_songs\": 14, \"n_clusters\": 6}, {\"artists\": \"['La Sonora Santanera']\", \"n_songs\": 37, \"n_clusters\": 5}, {\"artists\": \"['La Trampa']\", \"n_songs\": 13, \"n_clusters\": 5}, {\"artists\": \"['La Vela Puerca']\", \"n_songs\": 23, \"n_clusters\": 7}, {\"artists\": \"['Lana Del Rey']\", \"n_songs\": 21, \"n_clusters\": 4}, {\"artists\": \"['Lapsikuoro Satulaulajat']\", \"n_songs\": 11, \"n_clusters\": 3}, {\"artists\": \"['Larbanois & Carrero']\", \"n_songs\": 12, \"n_clusters\": 6}, {\"artists\": \"['Lars Lilholt Band']\", \"n_songs\": 11, \"n_clusters\": 6}, {\"artists\": \"['Lars Winnerb\\u00e4ck']\", \"n_songs\": 15, \"n_clusters\": 8}, {\"artists\": \"['Las Pelotas']\", \"n_songs\": 11, \"n_clusters\": 9}, {\"artists\": \"['Lasse Stefanz']\", \"n_songs\": 13, \"n_clusters\": 4}, {\"artists\": \"['Lata Mangeshkar', 'Kishore Kumar']\", \"n_songs\": 36, \"n_clusters\": 6}, {\"artists\": \"['Lata Mangeshkar', 'Mohammed Rafi']\", \"n_songs\": 48, \"n_clusters\": 4}, {\"artists\": \"['Lata Mangeshkar', 'Mukesh']\", \"n_songs\": 18, \"n_clusters\": 5}, {\"artists\": \"['Lata Mangeshkar']\", \"n_songs\": 279, \"n_clusters\": 10}, {\"artists\": \"['Laura Branigan']\", \"n_songs\": 11, \"n_clusters\": 6}, {\"artists\": \"['Laura Pausini']\", \"n_songs\": 22, \"n_clusters\": 7}, {\"artists\": \"['Lead Belly']\", \"n_songs\": 71, \"n_clusters\": 5}, {\"artists\": \"['Leandro & Leonardo']\", \"n_songs\": 18, \"n_clusters\": 7}, {\"artists\": \"['Lebr\\u00f3n Brothers']\", \"n_songs\": 12, \"n_clusters\": 4}, {\"artists\": \"['Led Zeppelin']\", \"n_songs\": 52, \"n_clusters\": 12}, {\"artists\": \"['Lee Morgan']\", \"n_songs\": 11, \"n_clusters\": 7}, {\"artists\": \"['Leevi and the leavings']\", \"n_songs\": 45, \"n_clusters\": 10}, {\"artists\": \"['Lefty Frizzell']\", \"n_songs\": 28, \"n_clusters\": 2}, {\"artists\": \"['Legi\\u00e3o Urbana']\", \"n_songs\": 26, \"n_clusters\": 8}, {\"artists\": \"['Leikh\\u00f3purinn Kardemommub\\u00e6rinn']\", \"n_songs\": 14, \"n_clusters\": 3}, {\"artists\": \"['Lenny Kravitz']\", \"n_songs\": 14, \"n_clusters\": 5}, {\"artists\": \"['Leo Dan']\", \"n_songs\": 21, \"n_clusters\": 8}, {\"artists\": \"['Leo Ku']\", \"n_songs\": 11, \"n_clusters\": 4}, {\"artists\": \"['Leo Mathisen']\", \"n_songs\": 13, \"n_clusters\": 4}, {\"artists\": \"['Leo Mattioli']\", \"n_songs\": 23, \"n_clusters\": 5}, {\"artists\": \"['Leo Sayer']\", \"n_songs\": 15, \"n_clusters\": 8}, {\"artists\": \"['Leon Lai']\", \"n_songs\": 18, \"n_clusters\": 7}, {\"artists\": \"['Leonard Cohen']\", \"n_songs\": 19, \"n_clusters\": 6}, {\"artists\": \"['Leroy Carr']\", \"n_songs\": 11, \"n_clusters\": 3}, {\"artists\": \"['Les Baxter']\", \"n_songs\": 22, \"n_clusters\": 8}, {\"artists\": \"['Lesley Gore']\", \"n_songs\": 17, \"n_clusters\": 7}, {\"artists\": \"['Leslie Cheung']\", \"n_songs\": 53, \"n_clusters\": 10}, {\"artists\": \"['Lester Young']\", \"n_songs\": 15, \"n_clusters\": 4}, {\"artists\": \"['Le\\u00f3n Gieco']\", \"n_songs\": 20, \"n_clusters\": 10}, {\"artists\": \"['Liberaci\\u00f3n']\", \"n_songs\": 27, \"n_clusters\": 7}, {\"artists\": \"['Ligabue']\", \"n_songs\": 33, \"n_clusters\": 7}, {\"artists\": \"['Lil Tjay']\", \"n_songs\": 11, \"n_clusters\": 6}, {\"artists\": \"['Lilly Goodman']\", \"n_songs\": 13, \"n_clusters\": 7}, {\"artists\": \"['Limp Bizkit']\", \"n_songs\": 11, \"n_clusters\": 5}, {\"artists\": \"['Linda Ronstadt']\", \"n_songs\": 20, \"n_clusters\": 8}, {\"artists\": \"['Lindisfarne']\", \"n_songs\": 11, \"n_clusters\": 4}, {\"artists\": \"['Linkin Park']\", \"n_songs\": 26, \"n_clusters\": 6}, {\"artists\": \"['Lionel Richie']\", \"n_songs\": 14, \"n_clusters\": 5}, {\"artists\": \"['Lisa Ono']\", \"n_songs\": 17, \"n_clusters\": 5}, {\"artists\": \"['Litfiba']\", \"n_songs\": 14, \"n_clusters\": 7}, {\"artists\": \"['Little Feat']\", \"n_songs\": 14, \"n_clusters\": 8}, {\"artists\": \"['Locomotiv GT']\", \"n_songs\": 14, \"n_clusters\": 7}, {\"artists\": \"['Loggins & Messina']\", \"n_songs\": 12, \"n_clusters\": 7}, {\"artists\": \"['Lord Invader']\", \"n_songs\": 11, \"n_clusters\": 2}, {\"artists\": \"['Loreena McKennitt']\", \"n_songs\": 13, \"n_clusters\": 4}, {\"artists\": \"['Los Abuelos De La Nada']\", \"n_songs\": 13, \"n_clusters\": 6}, {\"artists\": \"['Los Bukis']\", \"n_songs\": 26, \"n_clusters\": 8}, {\"artists\": \"['Los Cafres']\", \"n_songs\": 15, \"n_clusters\": 3}, {\"artists\": \"['Los Caminantes']\", \"n_songs\": 16, \"n_clusters\": 6}, {\"artists\": \"['Los Chichos']\", \"n_songs\": 20, \"n_clusters\": 7}, {\"artists\": \"['Los Diablitos']\", \"n_songs\": 17, \"n_clusters\": 4}, {\"artists\": \"['Los Embajadores Criollos']\", \"n_songs\": 11, \"n_clusters\": 3}, {\"artists\": \"['Los Enanitos Verdes']\", \"n_songs\": 17, \"n_clusters\": 6}, {\"artists\": \"['Los Fabulosos Cadillacs']\", \"n_songs\": 23, \"n_clusters\": 5}, {\"artists\": \"['Los Hermanos Arriagada']\", \"n_songs\": 11, \"n_clusters\": 5}, {\"artists\": \"['Los Hermanos Rosario']\", \"n_songs\": 17, \"n_clusters\": 4}, {\"artists\": \"['Los Hermanos Zuleta']\", \"n_songs\": 11, \"n_clusters\": 4}, {\"artists\": \"['Los Hermanos']\", \"n_songs\": 13, \"n_clusters\": 6}, {\"artists\": \"['Los Invasores De Nuevo Le\\u00f3n']\", \"n_songs\": 37, \"n_clusters\": 6}, {\"artists\": \"['Los Iracundos']\", \"n_songs\": 33, \"n_clusters\": 11}, {\"artists\": \"['Los Jaivas']\", \"n_songs\": 18, \"n_clusters\": 10}, {\"artists\": \"['Los Kjarkas']\", \"n_songs\": 44, \"n_clusters\": 9}, {\"artists\": \"['Los Manseros Santiague\\u00f1os']\", \"n_songs\": 13, \"n_clusters\": 5}, {\"artists\": \"['Los Nocheros']\", \"n_songs\": 11, \"n_clusters\": 5}, {\"artists\": \"['Los Olimare\\u00f1os']\", \"n_songs\": 35, \"n_clusters\": 8}, {\"artists\": \"['Los Panchos']\", \"n_songs\": 12, \"n_clusters\": 4}, {\"artists\": \"['Los Pericos']\", \"n_songs\": 19, \"n_clusters\": 5}, {\"artists\": \"['Los Piojos']\", \"n_songs\": 21, \"n_clusters\": 7}, {\"artists\": \"['Los Prisioneros']\", \"n_songs\": 14, \"n_clusters\": 4}, {\"artists\": \"['Los Rodriguez']\", \"n_songs\": 11, \"n_clusters\": 6}, {\"artists\": \"['Los Temerarios']\", \"n_songs\": 29, \"n_clusters\": 7}, {\"artists\": \"['Los Tigres Del Norte']\", \"n_songs\": 48, \"n_clusters\": 6}, {\"artists\": \"['Los Traidores']\", \"n_songs\": 17, \"n_clusters\": 8}, {\"artists\": \"['Los Tres']\", \"n_songs\": 17, \"n_clusters\": 8}, {\"artists\": \"['Los Tucanes De Tijuana']\", \"n_songs\": 18, \"n_clusters\": 4}, {\"artists\": \"['Los Voceros de Cristo']\", \"n_songs\": 18, \"n_clusters\": 4}, {\"artists\": \"['Los inquietos del vallenato']\", \"n_songs\": 15, \"n_clusters\": 5}, {\"artists\": \"['Los \\u00c1ngeles Azules']\", \"n_songs\": 13, \"n_clusters\": 3}, {\"artists\": \"['Loso']\", \"n_songs\": 14, \"n_clusters\": 8}, {\"artists\": \"['Lou Donaldson']\", \"n_songs\": 11, \"n_clusters\": 4}, {\"artists\": \"['Lou Reed']\", \"n_songs\": 17, \"n_clusters\": 10}, {\"artists\": \"['Louis Armstrong & His Hot Five']\", \"n_songs\": 44, \"n_clusters\": 4}, {\"artists\": \"['Louis Armstrong & His Hot Seven']\", \"n_songs\": 19, \"n_clusters\": 3}, {\"artists\": \"['Louis Armstrong']\", \"n_songs\": 84, \"n_clusters\": 8}, {\"artists\": \"['Lucio Battisti']\", \"n_songs\": 39, \"n_clusters\": 11}, {\"artists\": \"['Lucio Dalla']\", \"n_songs\": 35, \"n_clusters\": 10}, {\"artists\": \"['Lucky Millinder']\", \"n_songs\": 12, \"n_clusters\": 4}, {\"artists\": \"['Ludwig van Beethoven', 'Arturo Toscanini']\", \"n_songs\": 14, \"n_clusters\": 3}, {\"artists\": \"['Ludwig van Beethoven', 'Rudolf Serkin']\", \"n_songs\": 15, \"n_clusters\": 3}, {\"artists\": \"['Luis Alberto Spinetta']\", \"n_songs\": 30, \"n_clusters\": 9}, {\"artists\": \"['Luis Enrique']\", \"n_songs\": 13, \"n_clusters\": 3}, {\"artists\": \"['Luis Miguel']\", \"n_songs\": 71, \"n_clusters\": 9}, {\"artists\": \"['Luiz Gonzaga']\", \"n_songs\": 26, \"n_clusters\": 8}, {\"artists\": \"['Luiz Melodia']\", \"n_songs\": 11, \"n_clusters\": 7}, {\"artists\": \"['Lulu Santos']\", \"n_songs\": 15, \"n_clusters\": 6}, {\"artists\": \"['Luther Vandross']\", \"n_songs\": 18, \"n_clusters\": 6}, {\"artists\": \"['Luz Morales']\", \"n_songs\": 11, \"n_clusters\": 2}, {\"artists\": \"['Lynyrd Skynyrd']\", \"n_songs\": 16, \"n_clusters\": 8}, {\"artists\": \"['L\\u00b4Autentika']\", \"n_songs\": 11, \"n_clusters\": 4}, {\"artists\": \"['M. K. Thyagaraja Bhagavathar']\", \"n_songs\": 25, \"n_clusters\": 4}, {\"artists\": \"['M. Nasir']\", \"n_songs\": 12, \"n_clusters\": 7}, {\"artists\": \"['M. S. Subbulakshmi']\", \"n_songs\": 17, \"n_clusters\": 4}, {\"artists\": \"['MYMP']\", \"n_songs\": 11, \"n_clusters\": 4}, {\"artists\": \"['Maanam']\", \"n_songs\": 18, \"n_clusters\": 9}, {\"artists\": \"['Mac Miller']\", \"n_songs\": 11, \"n_clusters\": 7}, {\"artists\": \"['Madness']\", \"n_songs\": 11, \"n_clusters\": 4}, {\"artists\": \"['Madonna']\", \"n_songs\": 37, \"n_clusters\": 10}, {\"artists\": \"['Magnus Uggla']\", \"n_songs\": 34, \"n_clusters\": 9}, {\"artists\": \"['Mahalia Jackson']\", \"n_songs\": 28, \"n_clusters\": 4}, {\"artists\": \"['Mahendra Kapoor']\", \"n_songs\": 12, \"n_clusters\": 3}, {\"artists\": \"['Malacates Trebol Shop']\", \"n_songs\": 12, \"n_clusters\": 5}, {\"artists\": \"['Maml\\u00ea']\", \"n_songs\": 11, \"n_clusters\": 4}, {\"artists\": \"['Mango']\", \"n_songs\": 14, \"n_clusters\": 7}, {\"artists\": \"['Mani Matter']\", \"n_songs\": 17, \"n_clusters\": 3}, {\"artists\": \"['Manna Dey']\", \"n_songs\": 25, \"n_clusters\": 7}, {\"artists\": \"['Mano Negra']\", \"n_songs\": 13, \"n_clusters\": 8}, {\"artists\": \"['Manolis Mitsias']\", \"n_songs\": 11, \"n_clusters\": 5}, {\"artists\": \"['Manos Hadjidakis']\", \"n_songs\": 14, \"n_clusters\": 6}, {\"artists\": \"['Man\\u00e1']\", \"n_songs\": 18, \"n_clusters\": 9}, {\"artists\": \"['Mar de Copas']\", \"n_songs\": 12, \"n_clusters\": 5}, {\"artists\": \"['Marc Anthony']\", \"n_songs\": 19, \"n_clusters\": 6}, {\"artists\": \"['Marco Antonio Sol\\u00eds']\", \"n_songs\": 18, \"n_clusters\": 6}, {\"artists\": \"['Marco Borsato']\", \"n_songs\": 23, \"n_clusters\": 8}, {\"artists\": \"['Marcos Witt']\", \"n_songs\": 24, \"n_clusters\": 7}, {\"artists\": \"['Margaretha Krook']\", \"n_songs\": 19, \"n_clusters\": 1}, {\"artists\": \"['Maria Beth\\u00e2nia']\", \"n_songs\": 31, \"n_clusters\": 9}, {\"artists\": \"['Mariah Carey']\", \"n_songs\": 23, \"n_clusters\": 7}, {\"artists\": \"['Marillion']\", \"n_songs\": 13, \"n_clusters\": 6}, {\"artists\": \"['Marilyn Manson']\", \"n_songs\": 15, \"n_clusters\": 4}, {\"artists\": \"['Marinella']\", \"n_songs\": 11, \"n_clusters\": 6}, {\"artists\": \"['Marino Perez']\", \"n_songs\": 11, \"n_clusters\": 3}, {\"artists\": \"['Marino']\", \"n_songs\": 25, \"n_clusters\": 8}, {\"artists\": \"['Marisa Monte']\", \"n_songs\": 11, \"n_clusters\": 6}, {\"artists\": \"['Marisela']\", \"n_songs\": 13, \"n_clusters\": 7}, {\"artists\": \"['Mark Knopfler']\", \"n_songs\": 15, \"n_clusters\": 7}, {\"artists\": \"['Markos Vamvakaris']\", \"n_songs\": 27, \"n_clusters\": 4}, {\"artists\": \"['Marlena Shaw']\", \"n_songs\": 13, \"n_clusters\": 7}, {\"artists\": \"['Maroon 5']\", \"n_songs\": 34, \"n_clusters\": 8}, {\"artists\": \"['Martha Reeves & The Vandellas']\", \"n_songs\": 11, \"n_clusters\": 5}, {\"artists\": \"['Martin B\\u00f6ttcher']\", \"n_songs\": 13, \"n_clusters\": 5}, {\"artists\": \"['Martin Denny']\", \"n_songs\": 17, \"n_clusters\": 8}, {\"artists\": \"['Martinho Da Vila']\", \"n_songs\": 11, \"n_clusters\": 3}, {\"artists\": \"['Marty Robbins']\", \"n_songs\": 30, \"n_clusters\": 4}, {\"artists\": \"['Marvin Gaye']\", \"n_songs\": 43, \"n_clusters\": 12}, {\"artists\": \"['Mary Norton', 'Katharina Thalbach']\", \"n_songs\": 12, \"n_clusters\": 1}, {\"artists\": \"['Mar\\u00eda Elena Walsh']\", \"n_songs\": 15, \"n_clusters\": 5}, {\"artists\": \"['Mashina']\", \"n_songs\": 22, \"n_clusters\": 7}, {\"artists\": \"['Matt Monro']\", \"n_songs\": 38, \"n_clusters\": 5}, {\"artists\": \"['Matti Caspi']\", \"n_songs\": 20, \"n_clusters\": 9}, {\"artists\": \"['Maurice Chevalier']\", \"n_songs\": 12, \"n_clusters\": 2}, {\"artists\": \"['Maurice Ravel', 'Robert Casadesus']\", \"n_songs\": 12, \"n_clusters\": 1}, {\"artists\": \"['Max Korzh']\", \"n_songs\": 16, \"n_clusters\": 5}, {\"artists\": \"['Maxi4000']\", \"n_songs\": 17, \"n_clusters\": 4}, {\"artists\": \"['Mayday']\", \"n_songs\": 27, \"n_clusters\": 7}, {\"artists\": \"['Maysa']\", \"n_songs\": 13, \"n_clusters\": 5}, {\"artists\": \"['Mayumi Itsuwa']\", \"n_songs\": 15, \"n_clusters\": 5}, {\"artists\": \"['Mecano']\", \"n_songs\": 30, \"n_clusters\": 9}, {\"artists\": \"['Medina']\", \"n_songs\": 12, \"n_clusters\": 7}, {\"artists\": \"['Megadeth']\", \"n_songs\": 22, \"n_clusters\": 4}, {\"artists\": \"['Megas']\", \"n_songs\": 18, \"n_clusters\": 6}, {\"artists\": \"['Meir Ariel']\", \"n_songs\": 22, \"n_clusters\": 7}, {\"artists\": \"['Melendi']\", \"n_songs\": 20, \"n_clusters\": 8}, {\"artists\": \"['Memphis Slim']\", \"n_songs\": 14, \"n_clusters\": 6}, {\"artists\": \"['Mercedes Sosa']\", \"n_songs\": 12, \"n_clusters\": 4}, {\"artists\": \"['Merle Haggard']\", \"n_songs\": 15, \"n_clusters\": 6}, {\"artists\": \"['Metallica']\", \"n_songs\": 62, \"n_clusters\": 5}, {\"artists\": \"['Michael Bolton']\", \"n_songs\": 11, \"n_clusters\": 5}, {\"artists\": \"['Michael Ende']\", \"n_songs\": 64, \"n_clusters\": 4}, {\"artists\": \"['Michael Jackson']\", \"n_songs\": 41, \"n_clusters\": 9}, {\"artists\": \"['Michael Kwan']\", \"n_songs\": 14, \"n_clusters\": 5}, {\"artists\": \"['Michael Learns To Rock']\", \"n_songs\": 21, \"n_clusters\": 8}, {\"artists\": \"['Michalis Hatzigiannis']\", \"n_songs\": 15, \"n_clusters\": 6}, {\"artists\": \"['Michel Legrand']\", \"n_songs\": 15, \"n_clusters\": 8}, {\"artists\": \"['Michel Sardou']\", \"n_songs\": 11, \"n_clusters\": 8}, {\"artists\": \"['Midnight Oil']\", \"n_songs\": 27, \"n_clusters\": 6}, {\"artists\": \"['Miguel Bos\\u00e9']\", \"n_songs\": 22, \"n_clusters\": 8}, {\"artists\": \"['Miguel R\\u00edos']\", \"n_songs\": 12, \"n_clusters\": 3}, {\"artists\": \"['Mike & The Mechanics']\", \"n_songs\": 22, \"n_clusters\": 7}, {\"artists\": \"['Mikis Theodorakis']\", \"n_songs\": 13, \"n_clusters\": 7}, {\"artists\": \"['Mikl\\u00f3s R\\u00f3zsa']\", \"n_songs\": 17, \"n_clusters\": 3}, {\"artists\": \"['Mildred Bailey & Her Orchestra', 'Mildred Bailey']\", \"n_songs\": 11, \"n_clusters\": 2}, {\"artists\": \"['Mildred Bailey']\", \"n_songs\": 15, \"n_clusters\": 4}, {\"artists\": \"['Miles Davis Quintet']\", \"n_songs\": 23, \"n_clusters\": 7}, {\"artists\": \"['Miles Davis']\", \"n_songs\": 97, \"n_clusters\": 14}, {\"artists\": \"['Miley Cyrus']\", \"n_songs\": 15, \"n_clusters\": 4}, {\"artists\": \"['Milion\\u00e1rio & Jos\\u00e9 Rico']\", \"n_songs\": 23, \"n_clusters\": 6}, {\"artists\": \"['Milt Jackson']\", \"n_songs\": 12, \"n_clusters\": 3}, {\"artists\": \"['Milton Nascimento']\", \"n_songs\": 28, \"n_clusters\": 10}, {\"artists\": \"['Mina']\", \"n_songs\": 44, \"n_clusters\": 8}, {\"artists\": \"['Miro \\u017dbirka']\", \"n_songs\": 19, \"n_clusters\": 7}, {\"artists\": \"['Misato Watanabe']\", \"n_songs\": 18, \"n_clusters\": 8}, {\"artists\": \"['Modern Talking']\", \"n_songs\": 25, \"n_clusters\": 8}, {\"artists\": \"['Mohammed Abdel Wahab']\", \"n_songs\": 13, \"n_clusters\": 4}, {\"artists\": \"['Mohammed Rafi', 'Asha Bhosle']\", \"n_songs\": 11, \"n_clusters\": 5}, {\"artists\": \"['Mohammed Rafi', 'Lata Mangeshkar']\", \"n_songs\": 13, \"n_clusters\": 5}, {\"artists\": \"['Mohammed Rafi']\", \"n_songs\": 161, \"n_clusters\": 9}, {\"artists\": \"['Molotov']\", \"n_songs\": 12, \"n_clusters\": 6}, {\"artists\": \"['Monica Zetterlund']\", \"n_songs\": 16, \"n_clusters\": 6}, {\"artists\": \"['Morgan Wallen']\", \"n_songs\": 11, \"n_clusters\": 6}, {\"artists\": \"['Mose Allison']\", \"n_songs\": 15, \"n_clusters\": 5}, {\"artists\": \"['Motoharu Sano']\", \"n_songs\": 14, \"n_clusters\": 5}, {\"artists\": \"['Mot\\u00f6rhead']\", \"n_songs\": 24, \"n_clusters\": 7}, {\"artists\": \"['Mr.Children']\", \"n_songs\": 37, \"n_clusters\": 7}, {\"artists\": \"['Muddy Waters']\", \"n_songs\": 21, \"n_clusters\": 8}, {\"artists\": \"['Mukesh']\", \"n_songs\": 55, \"n_clusters\": 8}, {\"artists\": \"['Mumford & Sons']\", \"n_songs\": 15, \"n_clusters\": 5}, {\"artists\": \"['Muse']\", \"n_songs\": 12, \"n_clusters\": 4}, {\"artists\": \"['Myl\\u00e8ne Farmer']\", \"n_songs\": 17, \"n_clusters\": 8}, {\"artists\": \"['M\\u00e1ria Podhradsk\\u00e1', 'Richard \\u010canaky', 'Spievankovo']\", \"n_songs\": 12, \"n_clusters\": 7}, {\"artists\": \"['M\\u00e4go de Oz']\", \"n_songs\": 16, \"n_clusters\": 6}, {\"artists\": \"['M\\u00f6tley Cr\\u00fce']\", \"n_songs\": 16, \"n_clusters\": 4}, {\"artists\": \"['M\\u00fcnir Nurettin Sel\\u00e7uk']\", \"n_songs\": 11, \"n_clusters\": 3}, {\"artists\": \"['M\\u00fcsl\\u00fcm G\\u00fcrses']\", \"n_songs\": 47, \"n_clusters\": 9}, {\"artists\": \"['M\\u00fczeyyen Senar']\", \"n_songs\": 15, \"n_clusters\": 6}, {\"artists\": \"['M\\u00fc\\u015ffik Kenter']\", \"n_songs\": 12, \"n_clusters\": 2}, {\"artists\": \"['Namie Amuro']\", \"n_songs\": 18, \"n_clusters\": 8}, {\"artists\": \"['Nana Mouskouri']\", \"n_songs\": 30, \"n_clusters\": 6}, {\"artists\": \"['Nara Le\\u00e3o']\", \"n_songs\": 14, \"n_clusters\": 4}, {\"artists\": \"['Nas']\", \"n_songs\": 11, \"n_clusters\": 4}, {\"artists\": \"['Nat King Cole']\", \"n_songs\": 54, \"n_clusters\": 8}, {\"artists\": \"['Nationalteatern']\", \"n_songs\": 16, \"n_clusters\": 10}, {\"artists\": \"['Nautilus Pompilius']\", \"n_songs\": 16, \"n_clusters\": 10}, {\"artists\": \"['Nazan \\u00d6ncel']\", \"n_songs\": 14, \"n_clusters\": 8}, {\"artists\": \"['Nazareth']\", \"n_songs\": 15, \"n_clusters\": 8}, {\"artists\": \"['Neil Diamond']\", \"n_songs\": 46, \"n_clusters\": 12}, {\"artists\": \"['Neil Sedaka']\", \"n_songs\": 19, \"n_clusters\": 6}, {\"artists\": \"['Neil Young']\", \"n_songs\": 18, \"n_clusters\": 8}, {\"artists\": \"['Nekfeu']\", \"n_songs\": 12, \"n_clusters\": 4}, {\"artists\": \"['Nelson Gon\\u00e7alves']\", \"n_songs\": 22, \"n_clusters\": 7}, {\"artists\": \"['Nelson Riddle']\", \"n_songs\": 12, \"n_clusters\": 8}, {\"artists\": \"['New Order']\", \"n_songs\": 16, \"n_clusters\": 4}, {\"artists\": \"['Ne\\u015fe Karab\\u00f6cek']\", \"n_songs\": 16, \"n_clusters\": 7}, {\"artists\": \"['Ne\\u015fet Erta\\u015f']\", \"n_songs\": 22, \"n_clusters\": 5}, {\"artists\": \"['Nick Cave & The Bad Seeds']\", \"n_songs\": 12, \"n_clusters\": 6}, {\"artists\": \"['Nickelback']\", \"n_songs\": 17, \"n_clusters\": 3}, {\"artists\": \"['Nightwish']\", \"n_songs\": 15, \"n_clusters\": 3}, {\"artists\": \"['Nikos Oikonomopoulos']\", \"n_songs\": 12, \"n_clusters\": 6}, {\"artists\": \"['Nikos Xilouris']\", \"n_songs\": 12, \"n_clusters\": 5}, {\"artists\": \"['Nil\\u00fcfer']\", \"n_songs\": 15, \"n_clusters\": 9}, {\"artists\": \"['Nina Simone']\", \"n_songs\": 58, \"n_clusters\": 9}, {\"artists\": \"['Nine Inch Nails']\", \"n_songs\": 15, \"n_clusters\": 6}, {\"artists\": \"['Ninho']\", \"n_songs\": 12, \"n_clusters\": 7}, {\"artists\": \"['Nirvana']\", \"n_songs\": 36, \"n_clusters\": 9}, {\"artists\": \"['No Te Va Gustar']\", \"n_songs\": 36, \"n_clusters\": 7}, {\"artists\": \"['Nobuo Uematsu']\", \"n_songs\": 20, \"n_clusters\": 7}, {\"artists\": \"['Noir D\\u00e9sir']\", \"n_songs\": 17, \"n_clusters\": 9}, {\"artists\": \"['Nomadi']\", \"n_songs\": 22, \"n_clusters\": 8}, {\"artists\": \"['Noor Jehan']\", \"n_songs\": 16, \"n_clusters\": 4}, {\"artists\": \"['Norah Jones']\", \"n_songs\": 11, \"n_clusters\": 6}, {\"artists\": \"['Notis Sfakianakis']\", \"n_songs\": 18, \"n_clusters\": 8}, {\"artists\": \"['Nusrat Fateh Ali Khan']\", \"n_songs\": 16, \"n_clusters\": 7}, {\"artists\": \"['N\\u00fdd\\u00f6nsk']\", \"n_songs\": 11, \"n_clusters\": 7}, {\"artists\": \"['O Rappa']\", \"n_songs\": 19, \"n_clusters\": 6}, {\"artists\": \"['ONE OK ROCK']\", \"n_songs\": 26, \"n_clusters\": 5}, {\"artists\": \"['Oasis']\", \"n_songs\": 61, \"n_clusters\": 9}, {\"artists\": \"['Odetta']\", \"n_songs\": 20, \"n_clusters\": 6}, {\"artists\": \"['Official HIGE DANdism']\", \"n_songs\": 11, \"n_clusters\": 5}, {\"artists\": \"['Ofra Haza']\", \"n_songs\": 29, \"n_clusters\": 11}, {\"artists\": \"['Okean Elzy']\", \"n_songs\": 14, \"n_clusters\": 8}, {\"artists\": \"['Olavi Virta']\", \"n_songs\": 18, \"n_clusters\": 3}, {\"artists\": \"['Olympic']\", \"n_songs\": 12, \"n_clusters\": 6}, {\"artists\": \"['Omega']\", \"n_songs\": 15, \"n_clusters\": 6}, {\"artists\": \"['Omer Adam']\", \"n_songs\": 13, \"n_clusters\": 6}, {\"artists\": \"['One Direction']\", \"n_songs\": 22, \"n_clusters\": 5}, {\"artists\": \"['Orchestra Studio 7']\", \"n_songs\": 27, \"n_clusters\": 11}, {\"artists\": \"['Orchestral Manoeuvres In The Dark']\", \"n_songs\": 13, \"n_clusters\": 5}, {\"artists\": \"['Orhan Gencebay']\", \"n_songs\": 57, \"n_clusters\": 10}, {\"artists\": \"['Orjan Nilsen']\", \"n_songs\": 12, \"n_clusters\": 4}, {\"artists\": \"['Ornella Vanoni']\", \"n_songs\": 15, \"n_clusters\": 6}, {\"artists\": \"['Orquesta Huambaly']\", \"n_songs\": 14, \"n_clusters\": 5}, {\"artists\": \"['Orquestra Rom\\u00e2nticos de Cuba']\", \"n_songs\": 14, \"n_clusters\": 5}, {\"artists\": \"['Os Mutantes']\", \"n_songs\": 16, \"n_clusters\": 7}, {\"artists\": \"['Os Originais Do Samba']\", \"n_songs\": 14, \"n_clusters\": 4}, {\"artists\": \"['Os Paralamas Do Sucesso']\", \"n_songs\": 14, \"n_clusters\": 7}, {\"artists\": \"['Oscar Peterson Trio']\", \"n_songs\": 24, \"n_clusters\": 5}, {\"artists\": \"['Oscar Peterson']\", \"n_songs\": 49, \"n_clusters\": 5}, {\"artists\": \"['Otis Redding']\", \"n_songs\": 37, \"n_clusters\": 9}, {\"artists\": \"['Otto Waalkes']\", \"n_songs\": 19, \"n_clusters\": 3}, {\"artists\": \"['P. B. Sreenivas', 'P. Susheela']\", \"n_songs\": 15, \"n_clusters\": 5}, {\"artists\": \"['P. B. Sreenivas']\", \"n_songs\": 16, \"n_clusters\": 4}, {\"artists\": \"['P. Leela']\", \"n_songs\": 12, \"n_clusters\": 6}, {\"artists\": \"['P. Susheela']\", \"n_songs\": 74, \"n_clusters\": 7}, {\"artists\": \"['PNL']\", \"n_songs\": 21, \"n_clusters\": 5}, {\"artists\": \"['PXNDX']\", \"n_songs\": 15, \"n_clusters\": 4}, {\"artists\": \"['Padi']\", \"n_songs\": 14, \"n_clusters\": 4}, {\"artists\": \"['Pantelis Pantelidis']\", \"n_songs\": 15, \"n_clusters\": 6}, {\"artists\": \"['Pantera']\", \"n_songs\": 11, \"n_clusters\": 5}, {\"artists\": \"['Parazitii']\", \"n_songs\": 13, \"n_clusters\": 4}, {\"artists\": \"['Parokya Ni Edgar']\", \"n_songs\": 20, \"n_clusters\": 10}, {\"artists\": \"['Patricio Rey y sus Redonditos de Ricota']\", \"n_songs\": 29, \"n_clusters\": 8}, {\"artists\": \"['Patti Page']\", \"n_songs\": 12, \"n_clusters\": 3}, {\"artists\": \"['Patti Smith']\", \"n_songs\": 12, \"n_clusters\": 6}, {\"artists\": \"['Patty Pravo']\", \"n_songs\": 11, \"n_clusters\": 5}, {\"artists\": \"['Paul Carrack']\", \"n_songs\": 19, \"n_clusters\": 7}, {\"artists\": \"['Paul Desmond']\", \"n_songs\": 20, \"n_clusters\": 5}, {\"artists\": \"['Paul Mauriat']\", \"n_songs\": 11, \"n_clusters\": 6}, {\"artists\": \"['Paul McCartney']\", \"n_songs\": 25, \"n_clusters\": 10}, {\"artists\": \"['Paul Simon']\", \"n_songs\": 24, \"n_clusters\": 9}, {\"artists\": \"['Paula Tsui']\", \"n_songs\": 19, \"n_clusters\": 8}, {\"artists\": \"['Paulinho Da Viola']\", \"n_songs\": 11, \"n_clusters\": 6}, {\"artists\": \"['Pearl Jam']\", \"n_songs\": 20, \"n_clusters\": 8}, {\"artists\": \"['Pecos']\", \"n_songs\": 11, \"n_clusters\": 6}, {\"artists\": \"['Pedro Infante']\", \"n_songs\": 17, \"n_clusters\": 4}, {\"artists\": \"['Pedro Su\\u00e1rez-V\\u00e9rtiz']\", \"n_songs\": 12, \"n_clusters\": 3}, {\"artists\": \"['Peggy Lee']\", \"n_songs\": 45, \"n_clusters\": 7}, {\"artists\": \"['Pelle Svansl\\u00f6s']\", \"n_songs\": 19, \"n_clusters\": 2}, {\"artists\": \"['Pepe Aguilar']\", \"n_songs\": 18, \"n_clusters\": 6}, {\"artists\": \"['Percy Faith & His Orchestra']\", \"n_songs\": 31, \"n_clusters\": 6}, {\"artists\": \"['Perry Como']\", \"n_songs\": 16, \"n_clusters\": 5}, {\"artists\": \"['Pesado']\", \"n_songs\": 14, \"n_clusters\": 5}, {\"artists\": \"['Pet Shop Boys']\", \"n_songs\": 17, \"n_clusters\": 7}, {\"artists\": \"['Pete Seeger']\", \"n_songs\": 14, \"n_clusters\": 5}, {\"artists\": \"['Peter Gabriel']\", \"n_songs\": 23, \"n_clusters\": 10}, {\"artists\": \"['Peter LeMarc']\", \"n_songs\": 11, \"n_clusters\": 5}, {\"artists\": \"['Peter Maffay']\", \"n_songs\": 14, \"n_clusters\": 7}, {\"artists\": \"['Peter Nagy']\", \"n_songs\": 20, \"n_clusters\": 8}, {\"artists\": \"['Peter Tosh']\", \"n_songs\": 11, \"n_clusters\": 4}, {\"artists\": \"['Peter, Paul and Mary']\", \"n_songs\": 11, \"n_clusters\": 4}, {\"artists\": \"['Peterpan']\", \"n_songs\": 17, \"n_clusters\": 7}, {\"artists\": \"['Phil Collins']\", \"n_songs\": 26, \"n_clusters\": 11}, {\"artists\": \"['Philip K. Dick', 'Richard Barenberg']\", \"n_songs\": 17, \"n_clusters\": 1}, {\"artists\": \"['Picaflor De Los Andes']\", \"n_songs\": 12, \"n_clusters\": 5}, {\"artists\": \"['Pierre Bachelet']\", \"n_songs\": 11, \"n_clusters\": 7}, {\"artists\": \"['Pink Floyd']\", \"n_songs\": 95, \"n_clusters\": 10}, {\"artists\": \"['Pino Daniele']\", \"n_songs\": 41, \"n_clusters\": 8}, {\"artists\": \"['Pippi Langstrumpf']\", \"n_songs\": 12, \"n_clusters\": 3}, {\"artists\": \"['Pixies']\", \"n_songs\": 17, \"n_clusters\": 7}, {\"artists\": \"['Placebo']\", \"n_songs\": 12, \"n_clusters\": 6}, {\"artists\": \"['Pooh']\", \"n_songs\": 47, \"n_clusters\": 11}, {\"artists\": \"['Pop Smoke']\", \"n_songs\": 13, \"n_clusters\": 3}, {\"artists\": \"['Popeda']\", \"n_songs\": 27, \"n_clusters\": 7}, {\"artists\": \"['PornoGraffitti']\", \"n_songs\": 18, \"n_clusters\": 3}, {\"artists\": \"['Potato']\", \"n_songs\": 12, \"n_clusters\": 5}, {\"artists\": \"['Power Station']\", \"n_songs\": 17, \"n_clusters\": 4}, {\"artists\": \"['Prazsky Vyber']\", \"n_songs\": 14, \"n_clusters\": 6}, {\"artists\": \"['Prefab Sprout']\", \"n_songs\": 12, \"n_clusters\": 7}, {\"artists\": \"['Preslava']\", \"n_songs\": 11, \"n_clusters\": 4}, {\"artists\": \"['Pretenders']\", \"n_songs\": 12, \"n_clusters\": 5}, {\"artists\": \"['Prima Vera']\", \"n_songs\": 14, \"n_clusters\": 6}, {\"artists\": \"['Prince']\", \"n_songs\": 41, \"n_clusters\": 11}, {\"artists\": \"['Priscilla Chan']\", \"n_songs\": 17, \"n_clusters\": 6}, {\"artists\": \"['Pr\\u0101ta V\\u0113tra']\", \"n_songs\": 24, \"n_clusters\": 7}, {\"artists\": \"['Public Enemy']\", \"n_songs\": 11, \"n_clusters\": 4}, {\"artists\": \"['Pumuckl']\", \"n_songs\": 76, \"n_clusters\": 1}, {\"artists\": \"['P\\u00e1ll \\u00d3skar']\", \"n_songs\": 11, \"n_clusters\": 6}, {\"artists\": \"['P\\u00e9rez Prado']\", \"n_songs\": 19, \"n_clusters\": 6}, {\"artists\": \"['Queen']\", \"n_songs\": 159, \"n_clusters\": 13}, {\"artists\": \"['Queens of the Stone Age']\", \"n_songs\": 18, \"n_clusters\": 7}, {\"artists\": \"['Quincy Jones']\", \"n_songs\": 24, \"n_clusters\": 9}, {\"artists\": \"['R. Kelly']\", \"n_songs\": 15, \"n_clusters\": 6}, {\"artists\": \"['R.E.M.']\", \"n_songs\": 37, \"n_clusters\": 9}, {\"artists\": \"['RADWIMPS']\", \"n_songs\": 22, \"n_clusters\": 7}, {\"artists\": \"['Radclyffe Hall', 'Alice White', 'Synthesized Voice']\", \"n_songs\": 51, \"n_clusters\": 1}, {\"artists\": \"['Radio Futura']\", \"n_songs\": 18, \"n_clusters\": 6}, {\"artists\": \"['Radiohead']\", \"n_songs\": 12, \"n_clusters\": 6}, {\"artists\": \"['Raffi']\", \"n_songs\": 35, \"n_clusters\": 7}, {\"artists\": \"['Rage Against The Machine']\", \"n_songs\": 13, \"n_clusters\": 3}, {\"artists\": \"['Rainbow']\", \"n_songs\": 23, \"n_clusters\": 5}, {\"artists\": \"['Rainhard Fendrich']\", \"n_songs\": 13, \"n_clusters\": 7}, {\"artists\": \"['Rajkumari']\", \"n_songs\": 33, \"n_clusters\": 5}, {\"artists\": \"['Rammstein']\", \"n_songs\": 30, \"n_clusters\": 5}, {\"artists\": \"['Ramon Ayala Y Sus Bravos Del Norte']\", \"n_songs\": 28, \"n_clusters\": 5}, {\"artists\": \"['Ramones']\", \"n_songs\": 72, \"n_clusters\": 6}, {\"artists\": \"['Raoul Casadei']\", \"n_songs\": 11, \"n_clusters\": 6}, {\"artists\": \"['Rasmus Seebach']\", \"n_songs\": 14, \"n_clusters\": 6}, {\"artists\": \"['Ratones Paranoicos']\", \"n_songs\": 14, \"n_clusters\": 5}, {\"artists\": \"['Raul Seixas']\", \"n_songs\": 28, \"n_clusters\": 11}, {\"artists\": \"['Ray Barretto']\", \"n_songs\": 17, \"n_clusters\": 5}, {\"artists\": \"['Ray Charles']\", \"n_songs\": 20, \"n_clusters\": 7}, {\"artists\": \"['Ray Conniff']\", \"n_songs\": 48, \"n_clusters\": 8}, {\"artists\": \"['Ray Noble']\", \"n_songs\": 19, \"n_clusters\": 6}, {\"artists\": \"['Ra\\u00e7a Negra']\", \"n_songs\": 17, \"n_clusters\": 7}, {\"artists\": \"['Red Hot Chili Peppers']\", \"n_songs\": 33, \"n_clusters\": 5}, {\"artists\": \"['Reginaldo Rossi']\", \"n_songs\": 12, \"n_clusters\": 4}, {\"artists\": \"['Regine Velasquez']\", \"n_songs\": 12, \"n_clusters\": 4}, {\"artists\": \"['Reijo Taipale']\", \"n_songs\": 12, \"n_clusters\": 5}, {\"artists\": \"['Reinhard Mey']\", \"n_songs\": 24, \"n_clusters\": 6}, {\"artists\": \"['Renato Zero']\", \"n_songs\": 29, \"n_clusters\": 10}, {\"artists\": \"['Renaud']\", \"n_songs\": 30, \"n_clusters\": 10}, {\"artists\": \"['Republic']\", \"n_songs\": 11, \"n_clusters\": 7}, {\"artists\": \"['Rey Ruiz']\", \"n_songs\": 11, \"n_clusters\": 3}, {\"artists\": \"['Rhoma Irama']\", \"n_songs\": 11, \"n_clusters\": 6}, {\"artists\": \"['Ricardo Arjona']\", \"n_songs\": 48, \"n_clusters\": 11}, {\"artists\": \"['Ricardo Montaner']\", \"n_songs\": 14, \"n_clusters\": 5}, {\"artists\": \"['Riccardo Cocciante']\", \"n_songs\": 15, \"n_clusters\": 6}, {\"artists\": \"['Richard Wagner', 'Josef Greindl', 'Philharmonia Orchestra', 'Wilhelm Furtw\\u00e4ngler']\", \"n_songs\": 17, \"n_clusters\": 2}, {\"artists\": \"['Ricky Martin']\", \"n_songs\": 13, \"n_clusters\": 5}, {\"artists\": \"['Ricky Nelson']\", \"n_songs\": 18, \"n_clusters\": 7}, {\"artists\": \"['Rigo Tovar']\", \"n_songs\": 17, \"n_clusters\": 8}, {\"artists\": \"['Rihanna']\", \"n_songs\": 21, \"n_clusters\": 5}, {\"artists\": \"['Rino Gaetano']\", \"n_songs\": 17, \"n_clusters\": 5}, {\"artists\": \"['Rita Ampatzi']\", \"n_songs\": 13, \"n_clusters\": 4}, {\"artists\": \"['Rita Lee']\", \"n_songs\": 33, \"n_clusters\": 11}, {\"artists\": \"['Robert Johnson']\", \"n_songs\": 19, \"n_clusters\": 3}, {\"artists\": \"['Robert Schumann', 'Vladimir Horowitz']\", \"n_songs\": 31, \"n_clusters\": 2}, {\"artists\": \"['Roberta Flack']\", \"n_songs\": 11, \"n_clusters\": 4}, {\"artists\": \"['Roberto Carlos']\", \"n_songs\": 66, \"n_clusters\": 10}, {\"artists\": \"['Robin Trower']\", \"n_songs\": 19, \"n_clusters\": 8}, {\"artists\": \"['Roc\\u00edo D\\u00farcal']\", \"n_songs\": 22, \"n_clusters\": 8}, {\"artists\": \"['Roc\\u00edo Jurado']\", \"n_songs\": 12, \"n_clusters\": 7}, {\"artists\": \"['Rod Stewart']\", \"n_songs\": 26, \"n_clusters\": 11}, {\"artists\": \"['Roger Waters']\", \"n_songs\": 11, \"n_clusters\": 7}, {\"artists\": \"['Rolf Zuckowski']\", \"n_songs\": 23, \"n_clusters\": 8}, {\"artists\": \"['Ronald Cheng']\", \"n_songs\": 13, \"n_clusters\": 5}, {\"artists\": \"['Ronny']\", \"n_songs\": 13, \"n_clusters\": 6}, {\"artists\": \"['Rory Gallagher']\", \"n_songs\": 16, \"n_clusters\": 6}, {\"artists\": \"['Roupa Nova']\", \"n_songs\": 13, \"n_clusters\": 6}, {\"artists\": \"['Roxette']\", \"n_songs\": 16, \"n_clusters\": 5}, {\"artists\": \"['Roxy Music']\", \"n_songs\": 17, \"n_clusters\": 8}, {\"artists\": \"['Roy Fox']\", \"n_songs\": 17, \"n_clusters\": 4}, {\"artists\": \"['Roy Orbison', 'Alex Orbison', 'Chuck Turner']\", \"n_songs\": 38, \"n_clusters\": 9}, {\"artists\": \"['Roy Orbison']\", \"n_songs\": 24, \"n_clusters\": 9}, {\"artists\": \"['Roza Eskenazi']\", \"n_songs\": 20, \"n_clusters\": 5}, {\"artists\": \"['RubberBand']\", \"n_songs\": 14, \"n_clusters\": 8}, {\"artists\": \"['Rub\\u00e9n Blades']\", \"n_songs\": 15, \"n_clusters\": 7}, {\"artists\": \"['Rui Veloso']\", \"n_songs\": 16, \"n_clusters\": 6}, {\"artists\": \"['Rush']\", \"n_songs\": 38, \"n_clusters\": 9}, {\"artists\": \"['Ruth Etting']\", \"n_songs\": 13, \"n_clusters\": 4}, {\"artists\": \"['Ryhm\\u00e4 Tapiolan Yhteiskoulun oppilaita']\", \"n_songs\": 11, \"n_clusters\": 4}, {\"artists\": \"['Ryuichi Sakamoto']\", \"n_songs\": 15, \"n_clusters\": 4}, {\"artists\": \"['S. Janaki']\", \"n_songs\": 31, \"n_clusters\": 5}, {\"artists\": \"['S. P. Balasubrahmanyam', 'K. S. Chithra']\", \"n_songs\": 28, \"n_clusters\": 9}, {\"artists\": \"['S. P. Balasubrahmanyam', 'P. Susheela']\", \"n_songs\": 24, \"n_clusters\": 6}, {\"artists\": \"['S. P. Balasubrahmanyam', 'S. Janaki']\", \"n_songs\": 31, \"n_clusters\": 7}, {\"artists\": \"['S. P. Balasubrahmanyam']\", \"n_songs\": 60, \"n_clusters\": 10}, {\"artists\": \"['S.H.E']\", \"n_songs\": 24, \"n_clusters\": 7}, {\"artists\": \"['S.T.S']\", \"n_songs\": 14, \"n_clusters\": 8}, {\"artists\": \"['SCH']\", \"n_songs\": 17, \"n_clusters\": 6}, {\"artists\": \"['SEVENTEEN']\", \"n_songs\": 13, \"n_clusters\": 7}, {\"artists\": \"['SIX60']\", \"n_songs\": 12, \"n_clusters\": 6}, {\"artists\": \"['SPITZ']\", \"n_songs\": 39, \"n_clusters\": 7}, {\"artists\": \"['Sabaton']\", \"n_songs\": 16, \"n_clusters\": 3}, {\"artists\": \"['Sade']\", \"n_songs\": 13, \"n_clusters\": 7}, {\"artists\": \"['Sagopa Kajmer']\", \"n_songs\": 21, \"n_clusters\": 6}, {\"artists\": \"['Said El Ghamidi']\", \"n_songs\": 11, \"n_clusters\": 3}, {\"artists\": \"['Sally Yeh']\", \"n_songs\": 13, \"n_clusters\": 6}, {\"artists\": \"['Sam Cooke']\", \"n_songs\": 48, \"n_clusters\": 6}, {\"artists\": \"['Sam Hui']\", \"n_songs\": 18, \"n_clusters\": 8}, {\"artists\": \"['Sammi Cheng']\", \"n_songs\": 25, \"n_clusters\": 6}, {\"artists\": \"['Sammy Davis Jr.']\", \"n_songs\": 14, \"n_clusters\": 5}, {\"artists\": \"['Samson & Gert']\", \"n_songs\": 26, \"n_clusters\": 8}, {\"artists\": \"['Sandra De S\\u00e1']\", \"n_songs\": 11, \"n_clusters\": 6}, {\"artists\": \"['Sandra']\", \"n_songs\": 13, \"n_clusters\": 6}, {\"artists\": \"['Sandro']\", \"n_songs\": 33, \"n_clusters\": 6}, {\"artists\": \"['Sandy Lam']\", \"n_songs\": 13, \"n_clusters\": 5}, {\"artists\": \"['Santana']\", \"n_songs\": 17, \"n_clusters\": 8}, {\"artists\": \"['Santiago Chalar']\", \"n_songs\": 13, \"n_clusters\": 4}, {\"artists\": \"['Santo & Johnny']\", \"n_songs\": 12, \"n_clusters\": 5}, {\"artists\": \"['Sarah Vaughan']\", \"n_songs\": 52, \"n_clusters\": 3}, {\"artists\": \"['Saxon']\", \"n_songs\": 17, \"n_clusters\": 5}, {\"artists\": \"['Schlieremer Chind']\", \"n_songs\": 12, \"n_clusters\": 4}, {\"artists\": \"['Scooter']\", \"n_songs\": 12, \"n_clusters\": 4}, {\"artists\": \"['Scorpions']\", \"n_songs\": 35, \"n_clusters\": 7}, {\"artists\": \"['Search']\", \"n_songs\": 18, \"n_clusters\": 5}, {\"artists\": \"['Secos & Molhados']\", \"n_songs\": 18, \"n_clusters\": 9}, {\"artists\": \"['Seiko Matsuda']\", \"n_songs\": 35, \"n_clusters\": 10}, {\"artists\": \"['Sektor Gaza']\", \"n_songs\": 26, \"n_clusters\": 9}, {\"artists\": \"['Selda Ba\\u011fcan']\", \"n_songs\": 19, \"n_clusters\": 7}, {\"artists\": \"['Selena']\", \"n_songs\": 15, \"n_clusters\": 5}, {\"artists\": \"['Serdar Orta\\u00e7']\", \"n_songs\": 19, \"n_clusters\": 6}, {\"artists\": \"['Serge Gainsbourg']\", \"n_songs\": 36, \"n_clusters\": 12}, {\"artists\": \"['Sergio Godinho']\", \"n_songs\": 16, \"n_clusters\": 7}, {\"artists\": \"['Sertab Erener']\", \"n_songs\": 16, \"n_clusters\": 9}, {\"artists\": \"['Ser\\u00fa Gir\\u00e1n']\", \"n_songs\": 15, \"n_clusters\": 9}, {\"artists\": \"['Seweryn Goszczy\\u0144ski']\", \"n_songs\": 17, \"n_clusters\": 1}, {\"artists\": \"['Sex Pistols']\", \"n_songs\": 21, \"n_clusters\": 5}, {\"artists\": \"['Sezen Aksu']\", \"n_songs\": 45, \"n_clusters\": 10}, {\"artists\": \"['Sfera Ebbasta']\", \"n_songs\": 11, \"n_clusters\": 3}, {\"artists\": \"['Shakira']\", \"n_songs\": 19, \"n_clusters\": 7}, {\"artists\": \"['Shamshad Begum']\", \"n_songs\": 55, \"n_clusters\": 7}, {\"artists\": \"['Shankar Mahadevan']\", \"n_songs\": 13, \"n_clusters\": 7}, {\"artists\": \"['Shanta Apte']\", \"n_songs\": 13, \"n_clusters\": 5}, {\"artists\": \"['Sheena Ringo']\", \"n_songs\": 11, \"n_clusters\": 4}, {\"artists\": \"['Sheila On 7']\", \"n_songs\": 22, \"n_clusters\": 8}, {\"artists\": \"['Shirley Bassey']\", \"n_songs\": 17, \"n_clusters\": 6}, {\"artists\": \"['Shirley Kwan']\", \"n_songs\": 15, \"n_clusters\": 6}, {\"artists\": \"['Shizuka Kudo']\", \"n_songs\": 14, \"n_clusters\": 5}, {\"artists\": \"['Shlomo Artzi']\", \"n_songs\": 37, \"n_clusters\": 8}, {\"artists\": \"['Shocking Blue']\", \"n_songs\": 12, \"n_clusters\": 7}, {\"artists\": \"['Shogo Hamada']\", \"n_songs\": 21, \"n_clusters\": 8}, {\"artists\": \"['Shoshik Shani']\", \"n_songs\": 11, \"n_clusters\": 4}, {\"artists\": \"['Shu-Bi-Dua']\", \"n_songs\": 16, \"n_clusters\": 5}, {\"artists\": \"['Silvio Rodr\\u00edguez']\", \"n_songs\": 32, \"n_clusters\": 8}, {\"artists\": \"['Simon & Garfunkel']\", \"n_songs\": 30, \"n_clusters\": 11}, {\"artists\": \"['Simone Sommerland', 'Karsten Gl\\u00fcck', 'Die Kita-Fr\\u00f6sche']\", \"n_songs\": 18, \"n_clusters\": 6}, {\"artists\": \"['Simple Minds']\", \"n_songs\": 22, \"n_clusters\": 8}, {\"artists\": \"['Simply Red']\", \"n_songs\": 16, \"n_clusters\": 7}, {\"artists\": \"['Sinclair Lewis', 'Frank Arnold']\", \"n_songs\": 50, \"n_clusters\": 1}, {\"artists\": \"['Siouxsie and the Banshees']\", \"n_songs\": 13, \"n_clusters\": 7}, {\"artists\": \"['Sirkazhi Govindarajan']\", \"n_songs\": 19, \"n_clusters\": 5}, {\"artists\": \"['Sitara']\", \"n_songs\": 14, \"n_clusters\": 4}, {\"artists\": \"['Siw Malmkvist']\", \"n_songs\": 23, \"n_clusters\": 8}, {\"artists\": \"['Skank']\", \"n_songs\": 11, \"n_clusters\": 5}, {\"artists\": \"['Skoppa og Skr\\u00edtla']\", \"n_songs\": 17, \"n_clusters\": 7}, {\"artists\": \"['Slade']\", \"n_songs\": 12, \"n_clusters\": 5}, {\"artists\": \"['Slavi Trifonov', 'Ku-Ku Band']\", \"n_songs\": 14, \"n_clusters\": 6}, {\"artists\": \"['Slayer']\", \"n_songs\": 19, \"n_clusters\": 3}, {\"artists\": \"['Slim Dusty']\", \"n_songs\": 11, \"n_clusters\": 4}, {\"artists\": \"['Slobodna europa']\", \"n_songs\": 11, \"n_clusters\": 4}, {\"artists\": \"['Sly & The Family Stone']\", \"n_songs\": 17, \"n_clusters\": 9}, {\"artists\": \"['Smokie']\", \"n_songs\": 16, \"n_clusters\": 7}, {\"artists\": \"['Soda Stereo']\", \"n_songs\": 38, \"n_clusters\": 9}, {\"artists\": \"['Something For Kate']\", \"n_songs\": 12, \"n_clusters\": 4}, {\"artists\": \"['Sonia Silvestre']\", \"n_songs\": 13, \"n_clusters\": 7}, {\"artists\": \"['Sonic Youth']\", \"n_songs\": 18, \"n_clusters\": 4}, {\"artists\": \"['Sonido Profesional']\", \"n_songs\": 13, \"n_clusters\": 7}, {\"artists\": \"['Sonny Boy Williamson I']\", \"n_songs\": 17, \"n_clusters\": 3}, {\"artists\": \"['Sonny Boy Williamson II']\", \"n_songs\": 11, \"n_clusters\": 6}, {\"artists\": \"['Sonny Rollins']\", \"n_songs\": 23, \"n_clusters\": 9}, {\"artists\": \"['Sonora Ponce\\u00f1a']\", \"n_songs\": 13, \"n_clusters\": 5}, {\"artists\": \"['Sons of the Pioneers']\", \"n_songs\": 14, \"n_clusters\": 4}, {\"artists\": \"['Sorriso Maroto']\", \"n_songs\": 12, \"n_clusters\": 2}, {\"artists\": \"['Spilverk \\u00fej\\u00f3\\u00f0anna']\", \"n_songs\": 14, \"n_clusters\": 6}, {\"artists\": \"['Stan Getz']\", \"n_songs\": 26, \"n_clusters\": 8}, {\"artists\": \"['Stan Kenton']\", \"n_songs\": 21, \"n_clusters\": 5}, {\"artists\": \"['Stanley Black']\", \"n_songs\": 13, \"n_clusters\": 7}, {\"artists\": \"['Status Quo']\", \"n_songs\": 18, \"n_clusters\": 6}, {\"artists\": \"['Steel Pulse']\", \"n_songs\": 12, \"n_clusters\": 5}, {\"artists\": \"['Steely Dan']\", \"n_songs\": 20, \"n_clusters\": 8}, {\"artists\": \"['Stelios Kazantzidis']\", \"n_songs\": 15, \"n_clusters\": 4}, {\"artists\": \"['Steve Chou', '\\u5433\\u8c9e\\u6167', '\\u8881\\u7f8e\\u8389']\", \"n_songs\": 13, \"n_clusters\": 4}, {\"artists\": \"['Steve Miller Band']\", \"n_songs\": 15, \"n_clusters\": 9}, {\"artists\": \"['Stevie Ray Vaughan']\", \"n_songs\": 15, \"n_clusters\": 10}, {\"artists\": \"['Stevie Wonder']\", \"n_songs\": 39, \"n_clusters\": 11}, {\"artists\": \"['Sting']\", \"n_songs\": 14, \"n_clusters\": 7}, {\"artists\": \"['Stratos Dionisiou']\", \"n_songs\": 12, \"n_clusters\": 6}, {\"artists\": \"['Stu\\u00f0menn']\", \"n_songs\": 22, \"n_clusters\": 11}, {\"artists\": \"['Styx']\", \"n_songs\": 14, \"n_clusters\": 5}, {\"artists\": \"['Sublime']\", \"n_songs\": 17, \"n_clusters\": 7}, {\"artists\": \"['Sum 41']\", \"n_songs\": 16, \"n_clusters\": 4}, {\"artists\": \"['Sumo']\", \"n_songs\": 13, \"n_clusters\": 5}, {\"artists\": \"['Sun Ra']\", \"n_songs\": 21, \"n_clusters\": 7}, {\"artists\": \"['Supertramp']\", \"n_songs\": 45, \"n_clusters\": 11}, {\"artists\": \"['Suraiya']\", \"n_songs\": 27, \"n_clusters\": 5}, {\"artists\": \"['Survivor']\", \"n_songs\": 13, \"n_clusters\": 6}, {\"artists\": \"['Sven-Ingvars']\", \"n_songs\": 15, \"n_clusters\": 8}, {\"artists\": \"['Sweet']\", \"n_songs\": 24, \"n_clusters\": 7}, {\"artists\": \"['System Of A Down']\", \"n_songs\": 21, \"n_clusters\": 4}, {\"artists\": \"['S\\u00e1lin hans J\\u00f3ns m\\u00edns']\", \"n_songs\": 16, \"n_clusters\": 7}, {\"artists\": \"['S\\u00e9rgio Mendes']\", \"n_songs\": 12, \"n_clusters\": 9}, {\"artists\": \"['S\\u00f8ren Hauch-Fausb\\u00f8ll']\", \"n_songs\": 15, \"n_clusters\": 5}, {\"artists\": \"['S\\u00f8s Fenger']\", \"n_songs\": 12, \"n_clusters\": 7}, {\"artists\": \"['T-SQUARE']\", \"n_songs\": 11, \"n_clusters\": 3}, {\"artists\": \"['T. M. Soundararajan', 'P. Susheela']\", \"n_songs\": 40, \"n_clusters\": 6}, {\"artists\": \"['T. M. Soundararajan']\", \"n_songs\": 68, \"n_clusters\": 6}, {\"artists\": \"['T. Rex']\", \"n_songs\": 18, \"n_clusters\": 10}, {\"artists\": \"['THE YELLOW MONKEY']\", \"n_songs\": 15, \"n_clusters\": 3}, {\"artists\": \"['TKKG Retro-Archiv']\", \"n_songs\": 411, \"n_clusters\": 7}, {\"artists\": \"['TKKG']\", \"n_songs\": 36, \"n_clusters\": 5}, {\"artists\": \"['TM NETWORK']\", \"n_songs\": 15, \"n_clusters\": 4}, {\"artists\": \"['TOTO']\", \"n_songs\": 16, \"n_clusters\": 7}, {\"artists\": \"['TV-2']\", \"n_songs\": 23, \"n_clusters\": 8}, {\"artists\": \"['TWICE']\", \"n_songs\": 16, \"n_clusters\": 7}, {\"artists\": \"['Tabar\\u00e9 Etcheverry']\", \"n_songs\": 12, \"n_clusters\": 4}, {\"artists\": \"['Taco Hemingway']\", \"n_songs\": 13, \"n_clusters\": 6}, {\"artists\": \"['Tadeusz Dolega Mostowicz']\", \"n_songs\": 156, \"n_clusters\": 1}, {\"artists\": \"['Taj Mahal']\", \"n_songs\": 11, \"n_clusters\": 6}, {\"artists\": \"['Talat Mahmood']\", \"n_songs\": 18, \"n_clusters\": 6}, {\"artists\": \"['Talking Heads']\", \"n_songs\": 35, \"n_clusters\": 8}, {\"artists\": \"['Tammy Wynette']\", \"n_songs\": 23, \"n_clusters\": 6}, {\"artists\": \"['TandMProductionCo', 'TandMMusic', 'TandMTV']\", \"n_songs\": 18, \"n_clusters\": 5}, {\"artists\": \"['Tankcsapda']\", \"n_songs\": 13, \"n_clusters\": 3}, {\"artists\": \"['Tanya Tucker']\", \"n_songs\": 12, \"n_clusters\": 8}, {\"artists\": \"['Tapani Kansa']\", \"n_songs\": 12, \"n_clusters\": 8}, {\"artists\": \"['Tapio Rautavaara']\", \"n_songs\": 20, \"n_clusters\": 4}, {\"artists\": \"['Tarkan']\", \"n_songs\": 22, \"n_clusters\": 7}, {\"artists\": \"['Tat Ming Pair']\", \"n_songs\": 18, \"n_clusters\": 9}, {\"artists\": \"['Taxi']\", \"n_songs\": 11, \"n_clusters\": 4}, {\"artists\": \"['Taylor Swift']\", \"n_songs\": 79, \"n_clusters\": 8}, {\"artists\": \"['Tears For Fears']\", \"n_songs\": 15, \"n_clusters\": 9}, {\"artists\": \"['Ted G\\u00e4rdestad']\", \"n_songs\": 12, \"n_clusters\": 5}, {\"artists\": \"['Teddy Pendergrass']\", \"n_songs\": 15, \"n_clusters\": 8}, {\"artists\": \"['Teijo Joutsela', 'Humppa-Veikot']\", \"n_songs\": 12, \"n_clusters\": 2}, {\"artists\": \"['Ten Years After']\", \"n_songs\": 31, \"n_clusters\": 11}, {\"artists\": \"['Teoman']\", \"n_songs\": 20, \"n_clusters\": 10}, {\"artists\": \"['Teresa Teng']\", \"n_songs\": 38, \"n_clusters\": 8}, {\"artists\": \"['Thalia']\", \"n_songs\": 12, \"n_clusters\": 6}, {\"artists\": \"['The Alan Parsons Project']\", \"n_songs\": 26, \"n_clusters\": 9}, {\"artists\": \"['The Angels']\", \"n_songs\": 16, \"n_clusters\": 6}, {\"artists\": \"['The Animals']\", \"n_songs\": 17, \"n_clusters\": 9}, {\"artists\": \"['The Band']\", \"n_songs\": 14, \"n_clusters\": 8}, {\"artists\": \"['The Beach Boys']\", \"n_songs\": 91, \"n_clusters\": 13}, {\"artists\": \"['The Beatles']\", \"n_songs\": 87, \"n_clusters\": 13}, {\"artists\": \"['The Beta Band']\", \"n_songs\": 22, \"n_clusters\": 6}, {\"artists\": \"['The Brothers Four']\", \"n_songs\": 13, \"n_clusters\": 4}, {\"artists\": \"['The Byrds']\", \"n_songs\": 27, \"n_clusters\": 10}, {\"artists\": \"['The Cars']\", \"n_songs\": 21, \"n_clusters\": 5}, {\"artists\": \"['The Casa Loma Orchestra']\", \"n_songs\": 18, \"n_clusters\": 5}, {\"artists\": \"['The Cats']\", \"n_songs\": 14, \"n_clusters\": 7}, {\"artists\": \"['The Chordettes']\", \"n_songs\": 16, \"n_clusters\": 4}, {\"artists\": \"['The Clancy Brothers', 'Tommy Makem']\", \"n_songs\": 23, \"n_clusters\": 6}, {\"artists\": \"['The Clash']\", \"n_songs\": 18, \"n_clusters\": 7}, {\"artists\": \"['The Corrs']\", \"n_songs\": 13, \"n_clusters\": 6}, {\"artists\": \"['The Cure']\", \"n_songs\": 67, \"n_clusters\": 12}, {\"artists\": \"['The Dave Brubeck Quartet']\", \"n_songs\": 28, \"n_clusters\": 9}, {\"artists\": \"['The Dave Clark Five']\", \"n_songs\": 13, \"n_clusters\": 9}, {\"artists\": \"['The Doobie Brothers']\", \"n_songs\": 18, \"n_clusters\": 8}, {\"artists\": \"['The Doors']\", \"n_songs\": 21, \"n_clusters\": 10}, {\"artists\": \"['The Dubliners']\", \"n_songs\": 19, \"n_clusters\": 5}, {\"artists\": \"['The Everly Brothers']\", \"n_songs\": 28, \"n_clusters\": 6}, {\"artists\": \"['The Four Freshmen']\", \"n_songs\": 11, \"n_clusters\": 3}, {\"artists\": \"['The Hellacopters']\", \"n_songs\": 11, \"n_clusters\": 4}, {\"artists\": \"['The Hollies']\", \"n_songs\": 35, \"n_clusters\": 7}, {\"artists\": \"['The Human League']\", \"n_songs\": 11, \"n_clusters\": 6}, {\"artists\": \"['The Innocent']\", \"n_songs\": 11, \"n_clusters\": 5}, {\"artists\": \"['The Isley Brothers']\", \"n_songs\": 26, \"n_clusters\": 6}, {\"artists\": \"['The Jackson 5']\", \"n_songs\": 25, \"n_clusters\": 7}, {\"artists\": \"['The Jam']\", \"n_songs\": 22, \"n_clusters\": 7}, {\"artists\": \"['The Kelly Family']\", \"n_songs\": 13, \"n_clusters\": 5}, {\"artists\": \"['The Kiboomers']\", \"n_songs\": 15, \"n_clusters\": 7}, {\"artists\": \"['The Kingston Trio']\", \"n_songs\": 21, \"n_clusters\": 6}, {\"artists\": \"['The Kinks']\", \"n_songs\": 38, \"n_clusters\": 12}, {\"artists\": \"['The Modern Jazz Quartet']\", \"n_songs\": 11, \"n_clusters\": 5}, {\"artists\": \"['The Monkees']\", \"n_songs\": 20, \"n_clusters\": 10}, {\"artists\": \"['The Moody Blues']\", \"n_songs\": 31, \"n_clusters\": 14}, {\"artists\": \"['The Neighbourhood']\", \"n_songs\": 16, \"n_clusters\": 6}, {\"artists\": \"['The Notorious B.I.G.']\", \"n_songs\": 14, \"n_clusters\": 4}, {\"artists\": \"['The Offspring']\", \"n_songs\": 15, \"n_clusters\": 4}, {\"artists\": \"['The Platters']\", \"n_songs\": 35, \"n_clusters\": 5}, {\"artists\": \"['The Pogues']\", \"n_songs\": 24, \"n_clusters\": 7}, {\"artists\": \"['The Pointer Sisters']\", \"n_songs\": 12, \"n_clusters\": 4}, {\"artists\": \"['The Police']\", \"n_songs\": 12, \"n_clusters\": 5}, {\"artists\": \"['The Prodigy']\", \"n_songs\": 14, \"n_clusters\": 3}, {\"artists\": \"['The Ray Conniff Singers']\", \"n_songs\": 25, \"n_clusters\": 8}, {\"artists\": \"['The Rolling Stones']\", \"n_songs\": 128, \"n_clusters\": 14}, {\"artists\": \"['The Ronski Gang']\", \"n_songs\": 17, \"n_clusters\": 6}, {\"artists\": \"['The Scene Is Now']\", \"n_songs\": 13, \"n_clusters\": 10}, {\"artists\": \"['The Searchers']\", \"n_songs\": 12, \"n_clusters\": 6}, {\"artists\": \"['The Shadows']\", \"n_songs\": 37, \"n_clusters\": 9}, {\"artists\": \"['The Smashing Pumpkins']\", \"n_songs\": 21, \"n_clusters\": 5}, {\"artists\": \"['The Smiths']\", \"n_songs\": 30, \"n_clusters\": 8}, {\"artists\": \"['The Spinners']\", \"n_songs\": 12, \"n_clusters\": 8}, {\"artists\": \"['The Stooges']\", \"n_songs\": 14, \"n_clusters\": 4}, {\"artists\": \"['The Stranglers']\", \"n_songs\": 15, \"n_clusters\": 6}, {\"artists\": \"['The Strokes']\", \"n_songs\": 13, \"n_clusters\": 4}, {\"artists\": \"['The Stylistics']\", \"n_songs\": 18, \"n_clusters\": 6}, {\"artists\": \"['The Supremes']\", \"n_songs\": 21, \"n_clusters\": 7}, {\"artists\": \"['The Temptations']\", \"n_songs\": 20, \"n_clusters\": 6}, {\"artists\": \"['The The']\", \"n_songs\": 11, \"n_clusters\": 5}, {\"artists\": \"['The Tragically Hip']\", \"n_songs\": 19, \"n_clusters\": 7}, {\"artists\": \"['The Velvet Underground']\", \"n_songs\": 14, \"n_clusters\": 9}, {\"artists\": \"['The Ventures']\", \"n_songs\": 32, \"n_clusters\": 7}, {\"artists\": \"['The Waterboys']\", \"n_songs\": 19, \"n_clusters\": 9}, {\"artists\": \"['The Weeknd']\", \"n_songs\": 11, \"n_clusters\": 6}, {\"artists\": \"['The Who']\", \"n_songs\": 59, \"n_clusters\": 9}, {\"artists\": \"['The Wolfe Tones']\", \"n_songs\": 12, \"n_clusters\": 7}, {\"artists\": \"['Thelonious Monk']\", \"n_songs\": 59, \"n_clusters\": 8}, {\"artists\": \"['Theodore Bikel']\", \"n_songs\": 11, \"n_clusters\": 6}, {\"artists\": \"['Thin Lizzy']\", \"n_songs\": 31, \"n_clusters\": 8}, {\"artists\": \"['Thomas Helmig']\", \"n_songs\": 18, \"n_clusters\": 5}, {\"artists\": \"['Thorbj\\u00f8rn Egner']\", \"n_songs\": 17, \"n_clusters\": 3}, {\"artists\": \"['Three Days Grace']\", \"n_songs\": 17, \"n_clusters\": 3}, {\"artists\": \"['Tim & Struppi']\", \"n_songs\": 34, \"n_clusters\": 2}, {\"artists\": \"['Tim Maia']\", \"n_songs\": 42, \"n_clusters\": 10}, {\"artists\": \"['Tina Turner']\", \"n_songs\": 15, \"n_clusters\": 7}, {\"artists\": \"['Tino Rossi']\", \"n_songs\": 13, \"n_clusters\": 4}, {\"artists\": \"['Tintin', 'Tomas Bolme', 'Bert-\\u00c5ke Varg']\", \"n_songs\": 178, \"n_clusters\": 7}, {\"artists\": \"['Tito Puente']\", \"n_songs\": 11, \"n_clusters\": 5}, {\"artists\": \"['Tito Rodriguez']\", \"n_songs\": 20, \"n_clusters\": 5}, {\"artists\": \"['Tito Rojas']\", \"n_songs\": 14, \"n_clusters\": 2}, {\"artists\": \"['Tit\\u00e3s']\", \"n_songs\": 17, \"n_clusters\": 6}, {\"artists\": \"['Ti\\u00e3o Carreiro & Pardinho']\", \"n_songs\": 46, \"n_clusters\": 7}, {\"artists\": \"['Tokyo Incidents']\", \"n_songs\": 13, \"n_clusters\": 6}, {\"artists\": \"['Tom Jones']\", \"n_songs\": 24, \"n_clusters\": 9}, {\"artists\": \"['Tom Waits']\", \"n_songs\": 28, \"n_clusters\": 10}, {\"artists\": \"['Tomas Ledin']\", \"n_songs\": 11, \"n_clusters\": 6}, {\"artists\": \"['Tommy J Pisa']\", \"n_songs\": 13, \"n_clusters\": 4}, {\"artists\": \"['Toni Braxton']\", \"n_songs\": 11, \"n_clusters\": 7}, {\"artists\": \"['Tony Bennett']\", \"n_songs\": 28, \"n_clusters\": 6}, {\"artists\": \"['Toots & The Maytals']\", \"n_songs\": 13, \"n_clusters\": 4}, {\"artists\": \"['Toshinobu Kubota']\", \"n_songs\": 15, \"n_clusters\": 5}, {\"artists\": \"['Tower Of Power']\", \"n_songs\": 13, \"n_clusters\": 5}, {\"artists\": \"['Townes Van Zandt']\", \"n_songs\": 28, \"n_clusters\": 7}, {\"artists\": \"['Tracy Chapman']\", \"n_songs\": 15, \"n_clusters\": 7}, {\"artists\": \"['Tracy Huang']\", \"n_songs\": 18, \"n_clusters\": 8}, {\"artists\": \"['Trio Parada Dura']\", \"n_songs\": 11, \"n_clusters\": 5}, {\"artists\": \"['Trotsky Vengar\\u00e1n']\", \"n_songs\": 12, \"n_clusters\": 3}, {\"artists\": \"['Trubadurzy']\", \"n_songs\": 13, \"n_clusters\": 8}, {\"artists\": \"['Tsai Chin']\", \"n_songs\": 17, \"n_clusters\": 3}, {\"artists\": \"['Tsuyoshi Nagabuchi']\", \"n_songs\": 27, \"n_clusters\": 9}, {\"artists\": \"['Tublatanka']\", \"n_songs\": 13, \"n_clusters\": 4}, {\"artists\": \"['Twins']\", \"n_songs\": 14, \"n_clusters\": 6}, {\"artists\": \"['T\\u00e9l\\u00e9phone']\", \"n_songs\": 16, \"n_clusters\": 6}, {\"artists\": \"['T\\u0159i Sestry']\", \"n_songs\": 15, \"n_clusters\": 6}, {\"artists\": \"['U2']\", \"n_songs\": 69, \"n_clusters\": 9}, {\"artists\": \"['UB40']\", \"n_songs\": 25, \"n_clusters\": 4}, {\"artists\": \"['UVERworld']\", \"n_songs\": 12, \"n_clusters\": 3}, {\"artists\": \"['Udit Narayan', 'Alka Yagnik']\", \"n_songs\": 17, \"n_clusters\": 5}, {\"artists\": \"['Udit Narayan']\", \"n_songs\": 13, \"n_clusters\": 6}, {\"artists\": \"['Udo J\\u00fcrgens']\", \"n_songs\": 11, \"n_clusters\": 8}, {\"artists\": \"['Ulf Lundell']\", \"n_songs\": 35, \"n_clusters\": 9}, {\"artists\": \"['Ulpiano Vergara']\", \"n_songs\": 17, \"n_clusters\": 4}, {\"artists\": \"['Ultra Bra']\", \"n_songs\": 11, \"n_clusters\": 6}, {\"artists\": \"['Umm Kulthum']\", \"n_songs\": 44, \"n_clusters\": 7}, {\"artists\": \"['Ungu']\", \"n_songs\": 15, \"n_clusters\": 6}, {\"artists\": \"['Unspecified']\", \"n_songs\": 39, \"n_clusters\": 8}, {\"artists\": \"['Uriah Heep']\", \"n_songs\": 25, \"n_clusters\": 7}, {\"artists\": \"['Uzi Hitman']\", \"n_songs\": 14, \"n_clusters\": 4}, {\"artists\": \"['Valeriu Sterian']\", \"n_songs\": 11, \"n_clusters\": 8}, {\"artists\": \"['Van Halen']\", \"n_songs\": 31, \"n_clusters\": 8}, {\"artists\": \"['Van Morrison']\", \"n_songs\": 39, \"n_clusters\": 9}, {\"artists\": \"['Vangelis']\", \"n_songs\": 19, \"n_clusters\": 4}, {\"artists\": \"['Various Artists']\", \"n_songs\": 37, \"n_clusters\": 12}, {\"artists\": \"['Vasco Rossi']\", \"n_songs\": 52, \"n_clusters\": 11}, {\"artists\": \"['Vasilis Papakonstadinou']\", \"n_songs\": 12, \"n_clusters\": 9}, {\"artists\": \"['Vazelina Bilopph\\u00f8ggers']\", \"n_songs\": 27, \"n_clusters\": 9}, {\"artists\": \"['Vencedores por Cristo']\", \"n_songs\": 13, \"n_clusters\": 4}, {\"artists\": \"['Veronica Maggio']\", \"n_songs\": 11, \"n_clusters\": 7}, {\"artists\": \"['Vicente Fern\\u00e1ndez']\", \"n_songs\": 84, \"n_clusters\": 9}, {\"artists\": \"['Vico C']\", \"n_songs\": 12, \"n_clusters\": 5}, {\"artists\": \"['Victor Jara']\", \"n_songs\": 22, \"n_clusters\": 7}, {\"artists\": \"['Viejas Locas']\", \"n_songs\": 12, \"n_clusters\": 5}, {\"artists\": \"['Vikingarna']\", \"n_songs\": 18, \"n_clusters\": 6}, {\"artists\": \"['Vilhj\\u00e1lmur Vilhj\\u00e1lmsson']\", \"n_songs\": 13, \"n_clusters\": 7}, {\"artists\": \"['Vince Guaraldi Trio']\", \"n_songs\": 12, \"n_clusters\": 4}, {\"artists\": \"['Vinskvetten']\", \"n_songs\": 12, \"n_clusters\": 6}, {\"artists\": \"['Virus']\", \"n_songs\": 17, \"n_clusters\": 7}, {\"artists\": \"['Vox Dei']\", \"n_songs\": 12, \"n_clusters\": 9}, {\"artists\": \"['Wakin Chau']\", \"n_songs\": 15, \"n_clusters\": 7}, {\"artists\": \"['Waylon Jennings']\", \"n_songs\": 25, \"n_clusters\": 7}, {\"artists\": \"['Wes Montgomery']\", \"n_songs\": 18, \"n_clusters\": 7}, {\"artists\": \"['Westlife']\", \"n_songs\": 14, \"n_clusters\": 5}, {\"artists\": \"['Whitesnake']\", \"n_songs\": 21, \"n_clusters\": 6}, {\"artists\": \"['Whitney Houston']\", \"n_songs\": 12, \"n_clusters\": 6}, {\"artists\": \"['Wigwam']\", \"n_songs\": 11, \"n_clusters\": 9}, {\"artists\": \"['Wild Stylerz']\", \"n_songs\": 13, \"n_clusters\": 4}, {\"artists\": \"['Wilfrido Vargas']\", \"n_songs\": 11, \"n_clusters\": 5}, {\"artists\": \"['Will Tura']\", \"n_songs\": 14, \"n_clusters\": 7}, {\"artists\": \"['Willie Col\\u00f3n']\", \"n_songs\": 11, \"n_clusters\": 4}, {\"artists\": \"['Willie Nelson']\", \"n_songs\": 33, \"n_clusters\": 9}, {\"artists\": \"['Wilmoth Houdini']\", \"n_songs\": 13, \"n_clusters\": 3}, {\"artists\": \"['Wilson Simonal']\", \"n_songs\": 12, \"n_clusters\": 5}, {\"artists\": \"['Wings']\", \"n_songs\": 53, \"n_clusters\": 11}, {\"artists\": \"['Wisin & Yandel']\", \"n_songs\": 20, \"n_clusters\": 6}, {\"artists\": \"['Wohnout']\", \"n_songs\": 11, \"n_clusters\": 4}, {\"artists\": \"['Wolfgang Amadeus Mozart', 'Andr\\u00e1s Schiff']\", \"n_songs\": 13, \"n_clusters\": 2}, {\"artists\": \"['Wolfgang Amadeus Mozart', 'Bruno Walter', 'Columbia Symphony Orchestra']\", \"n_songs\": 11, \"n_clusters\": 2}, {\"artists\": \"['Wolfgang Amadeus Mozart', 'George Szell', 'Cleveland Orchestra']\", \"n_songs\": 11, \"n_clusters\": 2}, {\"artists\": \"['Wolfgang Amadeus Mozart', 'Glenn Gould']\", \"n_songs\": 14, \"n_clusters\": 2}, {\"artists\": \"['Wolfgang Ambros']\", \"n_songs\": 27, \"n_clusters\": 11}, {\"artists\": \"['Workout Music ']\", \"n_songs\": 61, \"n_clusters\": 6}, {\"artists\": \"['Wu Bai']\", \"n_songs\": 22, \"n_clusters\": 8}, {\"artists\": \"['Wynners']\", \"n_songs\": 11, \"n_clusters\": 8}, {\"artists\": \"['X JAPAN']\", \"n_songs\": 11, \"n_clusters\": 3}, {\"artists\": \"['YELLOW MAGIC ORCHESTRA']\", \"n_songs\": 12, \"n_clusters\": 5}, {\"artists\": \"['Yann Tiersen']\", \"n_songs\": 16, \"n_clusters\": 6}, {\"artists\": \"['Years & Years']\", \"n_songs\": 20, \"n_clusters\": 5}, {\"artists\": \"['Yehoram Gaon']\", \"n_songs\": 16, \"n_clusters\": 6}, {\"artists\": \"['Yehuda Poliker']\", \"n_songs\": 18, \"n_clusters\": 8}, {\"artists\": \"['Yehudit Ravitz']\", \"n_songs\": 20, \"n_clusters\": 11}, {\"artists\": \"['Yello']\", \"n_songs\": 11, \"n_clusters\": 4}, {\"artists\": \"['Yes']\", \"n_songs\": 25, \"n_clusters\": 9}, {\"artists\": \"['Yma Sumac']\", \"n_songs\": 14, \"n_clusters\": 7}, {\"artists\": \"['Yoga Lin']\", \"n_songs\": 13, \"n_clusters\": 7}, {\"artists\": \"['Yoni Bloch']\", \"n_songs\": 14, \"n_clusters\": 5}, {\"artists\": \"['Yoskar Sarante']\", \"n_songs\": 15, \"n_clusters\": 3}, {\"artists\": \"['Yossi Banai']\", \"n_songs\": 12, \"n_clusters\": 6}, {\"artists\": \"['Yosui Inoue']\", \"n_songs\": 19, \"n_clusters\": 9}, {\"artists\": \"['Yumi Arai']\", \"n_songs\": 14, \"n_clusters\": 6}, {\"artists\": \"['Yumi Matsutoya']\", \"n_songs\": 35, \"n_clusters\": 9}, {\"artists\": \"['Yusuf / Cat Stevens']\", \"n_songs\": 28, \"n_clusters\": 9}, {\"artists\": \"['Yutaka Ozaki']\", \"n_songs\": 19, \"n_clusters\": 5}, {\"artists\": \"['Yuzu']\", \"n_songs\": 12, \"n_clusters\": 5}, {\"artists\": \"['Yves Montand']\", \"n_songs\": 20, \"n_clusters\": 4}, {\"artists\": \"['Y\\u00f6lintu']\", \"n_songs\": 12, \"n_clusters\": 6}, {\"artists\": \"['Y\\u0131ld\\u0131z Tilbe']\", \"n_songs\": 11, \"n_clusters\": 9}, {\"artists\": \"['ZZ Top']\", \"n_songs\": 21, \"n_clusters\": 8}, {\"artists\": \"['Zacarias Ferreira']\", \"n_songs\": 12, \"n_clusters\": 2}, {\"artists\": \"['Zeca Pagodinho']\", \"n_songs\": 19, \"n_clusters\": 5}, {\"artists\": \"['Zehava Ben']\", \"n_songs\": 11, \"n_clusters\": 4}, {\"artists\": \"['Zeki M\\u00fcren']\", \"n_songs\": 46, \"n_clusters\": 8}, {\"artists\": \"['Zemfira']\", \"n_songs\": 13, \"n_clusters\": 6}, {\"artists\": \"['Zez\\u00e9 Di Camargo & Luciano']\", \"n_songs\": 36, \"n_clusters\": 9}, {\"artists\": \"['Zhang Zhen Yue']\", \"n_songs\": 13, \"n_clusters\": 8}, {\"artists\": \"['Ziana Zain']\", \"n_songs\": 14, \"n_clusters\": 5}, {\"artists\": \"['Zlat\\u00e1 br\\u00e1na']\", \"n_songs\": 18, \"n_clusters\": 6}, {\"artists\": \"['Zofia Dromlewiczowa']\", \"n_songs\": 14, \"n_clusters\": 1}, {\"artists\": \"['Zohar Argov']\", \"n_songs\": 20, \"n_clusters\": 7}, {\"artists\": \"['Zohrabai Ambalawali']\", \"n_songs\": 17, \"n_clusters\": 4}, {\"artists\": \"['Zucchero']\", \"n_songs\": 11, \"n_clusters\": 6}, {\"artists\": \"['Z\\u00e1mb\\u00f3 Jimmy']\", \"n_songs\": 11, \"n_clusters\": 4}, {\"artists\": \"['Z\\u00e9 Ramalho']\", \"n_songs\": 26, \"n_clusters\": 8}, {\"artists\": \"['a-ha']\", \"n_songs\": 11, \"n_clusters\": 4}, {\"artists\": \"['aiko']\", \"n_songs\": 15, \"n_clusters\": 6}, {\"artists\": \"['back number']\", \"n_songs\": 12, \"n_clusters\": 4}, {\"artists\": \"['blink-182']\", \"n_songs\": 13, \"n_clusters\": 2}, {\"artists\": \"['globe']\", \"n_songs\": 17, \"n_clusters\": 6}, {\"artists\": \"['kent']\", \"n_songs\": 17, \"n_clusters\": 5}, {\"artists\": \"['mor ve \\u00f6tesi']\", \"n_songs\": 15, \"n_clusters\": 6}, {\"artists\": \"['my bloody valentine']\", \"n_songs\": 11, \"n_clusters\": 2}, {\"artists\": \"['\\u00c1ngeles Del Infierno']\", \"n_songs\": 12, \"n_clusters\": 3}, {\"artists\": \"['\\u00c9dith Piaf']\", \"n_songs\": 22, \"n_clusters\": 5}, {\"artists\": \"['\\u00c9ric Serra']\", \"n_songs\": 12, \"n_clusters\": 5}, {\"artists\": \"['\\u00d3scar Ch\\u00e1vez']\", \"n_songs\": 13, \"n_clusters\": 4}, {\"artists\": \"['\\u00d8ystein Sunde']\", \"n_songs\": 17, \"n_clusters\": 7}, {\"artists\": \"['\\u0130brahim Tatl\\u0131ses']\", \"n_songs\": 36, \"n_clusters\": 9}, {\"artists\": \"['\\u015eebnem Ferah']\", \"n_songs\": 13, \"n_clusters\": 5}, {\"artists\": \"['\\u0160aban \\u0160auli\\u0107']\", \"n_songs\": 11, \"n_clusters\": 6}, {\"artists\": \"['\\u017dalman & spol.']\", \"n_songs\": 11, \"n_clusters\": 5}, {\"artists\": \"['\\u0412\\u0430\\u0441\\u0438\\u043b \\u041d\\u0430\\u0439\\u0434\\u0435\\u043d\\u043e\\u0432']\", \"n_songs\": 12, \"n_clusters\": 6}, {\"artists\": \"['\\u0414\\u0414\\u0422']\", \"n_songs\": 14, \"n_clusters\": 6}, {\"artists\": \"['\\u0415\\u0433\\u043e\\u0440 \\u0438 \\u041e\\u043f\\u0438\\u0437\\u0434\\u0435\\u043d\\u0435\\u0432\\u0448\\u0438\\u0435']\", \"n_songs\": 11, \"n_clusters\": 6}, {\"artists\": \"['\\u041d\\u0435\\u0440\\u0432\\u044b']\", \"n_songs\": 11, \"n_clusters\": 3}, {\"artists\": \"['\\u0427\\u0438\\u0436 & Co']\", \"n_songs\": 14, \"n_clusters\": 9}, {\"artists\": \"['\\u042e\\u0440\\u0438\\u0439 \\u0422\\u044b\\u043d\\u044f\\u043d\\u043e\\u0432']\", \"n_songs\": 56, \"n_clusters\": 1}, {\"artists\": \"['\\u0e28\\u0e23\\u0e31\\u0e13\\u0e22\\u0e48\\u0e32']\", \"n_songs\": 11, \"n_clusters\": 3}, {\"artists\": \"['\\u306f\\u3063\\u3074\\u3044\\u3048\\u3093\\u3069']\", \"n_songs\": 11, \"n_clusters\": 9}, {\"artists\": \"['\\u30b5\\u30b6\\u30f3\\u30aa\\u30fc\\u30eb\\u30b9\\u30bf\\u30fc\\u30ba']\", \"n_songs\": 55, \"n_clusters\": 12}, {\"artists\": \"['\\u4e8e\\u53f0\\u7159']\", \"n_songs\": 12, \"n_clusters\": 4}, {\"artists\": \"['\\u4e8e\\u6afb\\u6afb']\", \"n_songs\": 16, \"n_clusters\": 2}, {\"artists\": \"['\\u5189\\u8096\\u73b2']\", \"n_songs\": 26, \"n_clusters\": 5}, {\"artists\": \"['\\u5289\\u6587\\u6b63']\", \"n_songs\": 12, \"n_clusters\": 6}, {\"artists\": \"['\\u5433\\u723e\\u7b20', '\\u694a\\u4ef2\\u8c6a', '\\u8521\\u69ae\\u5409', '\\u8a31\\u923a\\u73ee']\", \"n_songs\": 11, \"n_clusters\": 4}, {\"artists\": \"['\\u5468\\u7487']\", \"n_songs\": 11, \"n_clusters\": 5}, {\"artists\": \"['\\u674e\\u6dd1\\u96f2', '\\u8a31\\u923a\\u73ee', '\\u5433\\u723e\\u7b20', '\\u8521\\u69ae\\u5409']\", \"n_songs\": 11, \"n_clusters\": 2}, {\"artists\": \"['\\u694a\\u5cfb\\u69ae']\", \"n_songs\": 14, \"n_clusters\": 7}, {\"artists\": \"['\\u694a\\u71d5']\", \"n_songs\": 12, \"n_clusters\": 4}, {\"artists\": \"['\\u6b66\\u8389\\u8389', '\\u8a31\\u59dd\\u5a1f', '\\u674e\\u598d\\u59cd', '\\u738b\\u745e', '\\u674e\\u5b9b\\u5bf0']\", \"n_songs\": 18, \"n_clusters\": 2}, {\"artists\": \"['\\u6e6f\\u862d\\u82b1']\", \"n_songs\": 23, \"n_clusters\": 4}, {\"artists\": \"['\\u74b0\\u7403\\u7ba1\\u5f26\\u6a02\\u968a']\", \"n_songs\": 13, \"n_clusters\": 8}, {\"artists\": \"['\\u7d2b\\u8587']\", \"n_songs\": 17, \"n_clusters\": 3}, {\"artists\": \"['\\u7f85\\u5927\\u4f51']\", \"n_songs\": 13, \"n_clusters\": 6}, {\"artists\": \"['\\u8521\\u69ae\\u5409', '\\u674e\\u6dd1\\u96f2', '\\u5433\\u723e\\u7b20']\", \"n_songs\": 14, \"n_clusters\": 4}, {\"artists\": \"['\\u8b1d\\u96f7']\", \"n_songs\": 14, \"n_clusters\": 5}, {\"artists\": \"['\\u9280\\u6cb3\\u5c0f\\u6b4c\\u661f']\", \"n_songs\": 36, \"n_clusters\": 7}, {\"artists\": \"['\\u971c\\u83ef\\u96ea\\u83ef']\", \"n_songs\": 14, \"n_clusters\": 2}, {\"artists\": \"['\\u9cf3\\u98db\\u98db']\", \"n_songs\": 12, \"n_clusters\": 6}]}}, {\"mode\": \"vega-lite\"});\n",
       "</script>"
      ],
      "text/plain": [
       "alt.Chart(...)"
      ]
     },
     "execution_count": 360,
     "metadata": {},
     "output_type": "execute_result"
    }
   ],
   "source": [
    "alt.Chart(gp).mark_bar().encode(\n",
    "    x=alt.X(\"n_clusters\", bin=alt.Bin(step=1)),\n",
    "    y='count()'\n",
    ")"
   ]
  },
  {
   "cell_type": "markdown",
   "id": "concrete-sugar",
   "metadata": {},
   "source": [
    "A nice gaussian distribution is a good signal that our metric is at least somewhat reasonable to use!"
   ]
  },
  {
   "cell_type": "markdown",
   "id": "flush-advancement",
   "metadata": {},
   "source": [
    "____\n",
    "## Possible future directions\n",
    "\n",
    "This notebook shows a basic usage of the K-means algorithms. To take it further, we might consider several routes:\n",
    "\n",
    "* Looking into the best and worst cases - which artists got the least and most amount of clusters, and analyzing these cases:"
   ]
  },
  {
   "cell_type": "code",
   "execution_count": 361,
   "id": "legislative-seeker",
   "metadata": {},
   "outputs": [
    {
     "data": {
      "text/html": [
       "<div>\n",
       "<style scoped>\n",
       "    .dataframe tbody tr th:only-of-type {\n",
       "        vertical-align: middle;\n",
       "    }\n",
       "\n",
       "    .dataframe tbody tr th {\n",
       "        vertical-align: top;\n",
       "    }\n",
       "\n",
       "    .dataframe thead th {\n",
       "        text-align: right;\n",
       "    }\n",
       "</style>\n",
       "<table border=\"1\" class=\"dataframe\">\n",
       "  <thead>\n",
       "    <tr style=\"text-align: right;\">\n",
       "      <th></th>\n",
       "      <th>artists</th>\n",
       "      <th>n_songs</th>\n",
       "      <th>n_clusters</th>\n",
       "    </tr>\n",
       "  </thead>\n",
       "  <tbody>\n",
       "    <tr>\n",
       "      <th>26299</th>\n",
       "      <td>['Miles Davis']</td>\n",
       "      <td>97</td>\n",
       "      <td>14</td>\n",
       "    </tr>\n",
       "    <tr>\n",
       "      <th>8860</th>\n",
       "      <td>['David Bowie']</td>\n",
       "      <td>75</td>\n",
       "      <td>14</td>\n",
       "    </tr>\n",
       "    <tr>\n",
       "      <th>37639</th>\n",
       "      <td>['The Rolling Stones']</td>\n",
       "      <td>128</td>\n",
       "      <td>14</td>\n",
       "    </tr>\n",
       "    <tr>\n",
       "      <th>37451</th>\n",
       "      <td>['The Moody Blues']</td>\n",
       "      <td>31</td>\n",
       "      <td>14</td>\n",
       "    </tr>\n",
       "    <tr>\n",
       "      <th>12403</th>\n",
       "      <td>['Fleetwood Mac']</td>\n",
       "      <td>92</td>\n",
       "      <td>14</td>\n",
       "    </tr>\n",
       "    <tr>\n",
       "      <th>...</th>\n",
       "      <td>...</td>\n",
       "      <td>...</td>\n",
       "      <td>...</td>\n",
       "    </tr>\n",
       "    <tr>\n",
       "      <th>13809</th>\n",
       "      <td>['Georgette Heyer', 'Irina Salkow']</td>\n",
       "      <td>82</td>\n",
       "      <td>1</td>\n",
       "    </tr>\n",
       "    <tr>\n",
       "      <th>15239</th>\n",
       "      <td>['H.P. Lovecraft']</td>\n",
       "      <td>41</td>\n",
       "      <td>1</td>\n",
       "    </tr>\n",
       "    <tr>\n",
       "      <th>25474</th>\n",
       "      <td>['Maurice Ravel', 'Robert Casadesus']</td>\n",
       "      <td>12</td>\n",
       "      <td>1</td>\n",
       "    </tr>\n",
       "    <tr>\n",
       "      <th>36299</th>\n",
       "      <td>['Tadeusz Dolega Mostowicz']</td>\n",
       "      <td>156</td>\n",
       "      <td>1</td>\n",
       "    </tr>\n",
       "    <tr>\n",
       "      <th>25222</th>\n",
       "      <td>['Mary Norton', 'Katharina Thalbach']</td>\n",
       "      <td>12</td>\n",
       "      <td>1</td>\n",
       "    </tr>\n",
       "  </tbody>\n",
       "</table>\n",
       "<p>1658 rows × 3 columns</p>\n",
       "</div>"
      ],
      "text/plain": [
       "                                     artists  n_songs  n_clusters\n",
       "26299                        ['Miles Davis']       97          14\n",
       "8860                         ['David Bowie']       75          14\n",
       "37639                 ['The Rolling Stones']      128          14\n",
       "37451                    ['The Moody Blues']       31          14\n",
       "12403                      ['Fleetwood Mac']       92          14\n",
       "...                                      ...      ...         ...\n",
       "13809    ['Georgette Heyer', 'Irina Salkow']       82           1\n",
       "15239                     ['H.P. Lovecraft']       41           1\n",
       "25474  ['Maurice Ravel', 'Robert Casadesus']       12           1\n",
       "36299           ['Tadeusz Dolega Mostowicz']      156           1\n",
       "25222  ['Mary Norton', 'Katharina Thalbach']       12           1\n",
       "\n",
       "[1658 rows x 3 columns]"
      ]
     },
     "execution_count": 361,
     "metadata": {},
     "output_type": "execute_result"
    }
   ],
   "source": [
    "gp.sort_values(\"n_clusters\", ascending=False)"
   ]
  },
  {
   "cell_type": "markdown",
   "id": "familiar-generic",
   "metadata": {},
   "source": [
    "* Improving our metrics: normalizing `n_clusters` to `n_songs`, or taking into account the time between the `min(release_date)` and `max(release_date)` seems appropriate\n",
    "* Tinkering with the algorithm's parameters - amount of clusters, to start with!"
   ]
  }
 ],
 "metadata": {
  "kernelspec": {
   "display_name": "Python 3",
   "language": "python",
   "name": "python3"
  },
  "language_info": {
   "codemirror_mode": {
    "name": "ipython",
    "version": 3
   },
   "file_extension": ".py",
   "mimetype": "text/x-python",
   "name": "python",
   "nbconvert_exporter": "python",
   "pygments_lexer": "ipython3",
   "version": "3.9.0"
  }
 },
 "nbformat": 4,
 "nbformat_minor": 5
}
